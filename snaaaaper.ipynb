{
 "cells": [
  {
   "cell_type": "code",
   "execution_count": 18,
   "metadata": {},
   "outputs": [],
   "source": [
    "import requests\n",
    "from bs4 import BeautifulSoup\n",
    "from urllib.request import urlopen\n",
    "import csv"
   ]
  },
  {
   "cell_type": "code",
   "execution_count": 19,
   "metadata": {},
   "outputs": [],
   "source": [
    "from selenium import webdriver\n",
    "import pandas as pd\n",
    "from pandas import DataFrame\n",
    "import scrapy\n",
    "import requests\n",
    "from scrapy.http import TextResponse "
   ]
  },
  {
   "cell_type": "code",
   "execution_count": 4,
   "metadata": {},
   "outputs": [],
   "source": [
    "import numpy as np\n",
    "import os"
   ]
  },
  {
   "cell_type": "code",
   "execution_count": 5,
   "metadata": {},
   "outputs": [],
   "source": [
    "from selenium.webdriver.common.by import By\n",
    "from selenium.webdriver.support.ui import WebDriverWait\n",
    "from selenium.webdriver.support import expected_conditions as EC"
   ]
  },
  {
   "cell_type": "code",
   "execution_count": 10,
   "metadata": {},
   "outputs": [],
   "source": [
    "snaper = pd.read_excel('/Users/ash/Downloads/스냅퍼 작가 상세보기 url.xlsx')"
   ]
  },
  {
   "cell_type": "code",
   "execution_count": 6,
   "metadata": {},
   "outputs": [],
   "source": [
    "from tqdm import trange, notebook\n",
    "\n",
    "from urllib.request import urlopen\n",
    "import pandas as pd\n",
    "from tqdm import tqdm\n",
    "import json"
   ]
  },
  {
   "cell_type": "code",
   "execution_count": 17,
   "metadata": {},
   "outputs": [],
   "source": [
    "snaper_link =  snaper['https://www.snaaaper.com/shootingGallery/86'].tolist()"
   ]
  },
  {
   "cell_type": "code",
   "execution_count": 19,
   "metadata": {},
   "outputs": [],
   "source": [
    "snaper_link.append('https://www.snaaaper.com/shootingGallery/86')"
   ]
  },
  {
   "cell_type": "code",
   "execution_count": 20,
   "metadata": {},
   "outputs": [
    {
     "data": {
      "text/plain": [
       "5165"
      ]
     },
     "execution_count": 20,
     "metadata": {},
     "output_type": "execute_result"
    }
   ],
   "source": [
    "len(snaper_link)"
   ]
  },
  {
   "cell_type": "markdown",
   "metadata": {},
   "source": [
    "### url open"
   ]
  },
  {
   "cell_type": "code",
   "execution_count": 34,
   "metadata": {
    "collapsed": true,
    "jupyter": {
     "outputs_hidden": true
    }
   },
   "outputs": [
    {
     "name": "stderr",
     "output_type": "stream",
     "text": [
      " 19%|█▉        | 1009/5180 [11:30<42:03,  1.65it/s] "
     ]
    },
    {
     "name": "stdout",
     "output_type": "stream",
     "text": [
      "403\n",
      "https://www.snaaaper.com/shootingGallery/3318\n"
     ]
    },
    {
     "name": "stderr",
     "output_type": "stream",
     "text": [
      " 20%|█▉        | 1028/5180 [11:40<39:58,  1.73it/s]"
     ]
    },
    {
     "name": "stdout",
     "output_type": "stream",
     "text": [
      "403\n",
      "https://www.snaaaper.com/shootingGallery/3364\n"
     ]
    },
    {
     "name": "stderr",
     "output_type": "stream",
     "text": [
      " 91%|█████████ | 4713/5180 [51:00<04:43,  1.65it/s]"
     ]
    },
    {
     "name": "stdout",
     "output_type": "stream",
     "text": [
      "403\n",
      "https://www.snaaaper.com/shootingGallery/7455\n"
     ]
    },
    {
     "name": "stderr",
     "output_type": "stream",
     "text": [
      " 91%|█████████ | 4719/5180 [51:03<03:53,  1.98it/s]"
     ]
    },
    {
     "name": "stdout",
     "output_type": "stream",
     "text": [
      "403\n",
      "https://www.snaaaper.com/shootingGallery/7462\n"
     ]
    },
    {
     "name": "stderr",
     "output_type": "stream",
     "text": [
      " 92%|█████████▏| 4777/5180 [51:39<03:22,  1.99it/s]"
     ]
    },
    {
     "name": "stdout",
     "output_type": "stream",
     "text": [
      "403\n",
      "https://www.snaaaper.com/shootingGallery/7541\n"
     ]
    },
    {
     "name": "stderr",
     "output_type": "stream",
     "text": [
      " 93%|█████████▎| 4817/5180 [52:05<03:42,  1.63it/s]"
     ]
    },
    {
     "name": "stdout",
     "output_type": "stream",
     "text": [
      "403\n",
      "https://www.snaaaper.com/shootingGallery/7609\n"
     ]
    },
    {
     "name": "stderr",
     "output_type": "stream",
     "text": [
      " 95%|█████████▌| 4923/5180 [53:08<03:53,  1.10it/s]"
     ]
    },
    {
     "name": "stdout",
     "output_type": "stream",
     "text": [
      "403\n",
      "https://www.snaaaper.com/shootingGallery/7877\n"
     ]
    },
    {
     "name": "stderr",
     "output_type": "stream",
     "text": [
      " 95%|█████████▌| 4925/5180 [53:09<02:30,  1.70it/s]"
     ]
    },
    {
     "name": "stdout",
     "output_type": "stream",
     "text": [
      "403\n",
      "https://www.snaaaper.com/shootingGallery/7883\n"
     ]
    },
    {
     "name": "stderr",
     "output_type": "stream",
     "text": [
      " 96%|█████████▋| 4989/5180 [53:48<01:35,  2.01it/s]"
     ]
    },
    {
     "name": "stdout",
     "output_type": "stream",
     "text": [
      "403\n",
      "https://www.snaaaper.com/shootingGallery/7998\n"
     ]
    },
    {
     "name": "stderr",
     "output_type": "stream",
     "text": [
      " 98%|█████████▊| 5063/5180 [54:32<00:58,  2.01it/s]"
     ]
    },
    {
     "name": "stdout",
     "output_type": "stream",
     "text": [
      "403\n",
      "https://www.snaaaper.com/shootingGallery/8159\n"
     ]
    },
    {
     "name": "stderr",
     "output_type": "stream",
     "text": [
      " 98%|█████████▊| 5083/5180 [54:44<00:46,  2.08it/s]"
     ]
    },
    {
     "name": "stdout",
     "output_type": "stream",
     "text": [
      "403\n",
      "https://www.snaaaper.com/shootingGallery/8193\n"
     ]
    },
    {
     "name": "stderr",
     "output_type": "stream",
     "text": [
      " 98%|█████████▊| 5084/5180 [54:44<00:39,  2.42it/s]"
     ]
    },
    {
     "name": "stdout",
     "output_type": "stream",
     "text": [
      "403\n",
      "https://www.snaaaper.com/shootingGallery/8196\n"
     ]
    },
    {
     "name": "stderr",
     "output_type": "stream",
     "text": [
      " 99%|█████████▉| 5116/5180 [55:02<00:28,  2.24it/s]"
     ]
    },
    {
     "name": "stdout",
     "output_type": "stream",
     "text": [
      "403\n",
      "https://www.snaaaper.com/shootingGallery/8257\n"
     ]
    },
    {
     "name": "stderr",
     "output_type": "stream",
     "text": [
      " 99%|█████████▉| 5142/5180 [55:17<00:18,  2.11it/s]"
     ]
    },
    {
     "name": "stdout",
     "output_type": "stream",
     "text": [
      "403\n",
      "https://www.snaaaper.com/shootingGallery/8306\n"
     ]
    },
    {
     "name": "stderr",
     "output_type": "stream",
     "text": [
      " 99%|█████████▉| 5151/5180 [55:22<00:13,  2.16it/s]"
     ]
    },
    {
     "name": "stdout",
     "output_type": "stream",
     "text": [
      "403\n",
      "https://www.snaaaper.com/shootingGallery/8319\n"
     ]
    },
    {
     "name": "stderr",
     "output_type": "stream",
     "text": [
      "100%|█████████▉| 5165/5180 [55:30<00:09,  1.55it/s]\n"
     ]
    }
   ],
   "source": [
    "from urllib.request import urlopen\n",
    "from urllib.error import URLError, HTTPError\n",
    " \n",
    " \n",
    "    \n",
    "for url in tqdm(snaper_link):\n",
    "    try:\n",
    "        res = urlopen(url)\n",
    "#         print(res.status)\n",
    "    except HTTPError as e:\n",
    "        err = e.read()\n",
    "        code = e.getcode()\n",
    "        print(code) ## 404\n",
    "        print(url)\n",
    "        snaper_link.remove(url)"
   ]
  },
  {
   "cell_type": "code",
   "execution_count": 35,
   "metadata": {},
   "outputs": [
    {
     "data": {
      "text/plain": [
       "list"
      ]
     },
     "execution_count": 35,
     "metadata": {},
     "output_type": "execute_result"
    }
   ],
   "source": [
    "type(snaper_link)"
   ]
  },
  {
   "cell_type": "code",
   "execution_count": 7,
   "metadata": {},
   "outputs": [
    {
     "ename": "NameError",
     "evalue": "name 'a' is not defined",
     "output_type": "error",
     "traceback": [
      "\u001b[0;31m---------------------------------------------------------------------------\u001b[0m",
      "\u001b[0;31mNameError\u001b[0m                                 Traceback (most recent call last)",
      "\u001b[0;32m<ipython-input-7-d0e5567b6e78>\u001b[0m in \u001b[0;36m<module>\u001b[0;34m\u001b[0m\n\u001b[0;32m----> 1\u001b[0;31m \u001b[0ma\u001b[0m\u001b[0;34m.\u001b[0m\u001b[0mto_csv\u001b[0m\u001b[0;34m(\u001b[0m\u001b[0;34m\"snaper_link.csv\"\u001b[0m\u001b[0;34m)\u001b[0m\u001b[0;34m\u001b[0m\u001b[0;34m\u001b[0m\u001b[0m\n\u001b[0m",
      "\u001b[0;31mNameError\u001b[0m: name 'a' is not defined"
     ]
    }
   ],
   "source": [
    "a.to_csv(\"snaper_link.csv\")"
   ]
  },
  {
   "cell_type": "code",
   "execution_count": 39,
   "metadata": {},
   "outputs": [],
   "source": [
    "a =  pd.DataFrame(snaper_link)"
   ]
  },
  {
   "cell_type": "code",
   "execution_count": 5,
   "metadata": {},
   "outputs": [
    {
     "ename": "NameError",
     "evalue": "name 'snaper_link' is not defined",
     "output_type": "error",
     "traceback": [
      "\u001b[0;31m---------------------------------------------------------------------------\u001b[0m",
      "\u001b[0;31mNameError\u001b[0m                                 Traceback (most recent call last)",
      "\u001b[0;32m<ipython-input-5-42d14380c3c5>\u001b[0m in \u001b[0;36m<module>\u001b[0;34m\u001b[0m\n\u001b[0;32m----> 1\u001b[0;31m \u001b[0msnaper_link\u001b[0m\u001b[0;34m\u001b[0m\u001b[0;34m\u001b[0m\u001b[0m\n\u001b[0m",
      "\u001b[0;31mNameError\u001b[0m: name 'snaper_link' is not defined"
     ]
    }
   ],
   "source": []
  },
  {
   "cell_type": "code",
   "execution_count": null,
   "metadata": {},
   "outputs": [],
   "source": []
  },
  {
   "cell_type": "code",
   "execution_count": 8,
   "metadata": {},
   "outputs": [],
   "source": [
    "snaper_link = pd.read_csv(\"snaper_link.csv\")"
   ]
  },
  {
   "cell_type": "code",
   "execution_count": 9,
   "metadata": {},
   "outputs": [],
   "source": [
    "Link = snaper_link.loc[:,'0'].tolist()"
   ]
  },
  {
   "cell_type": "code",
   "execution_count": null,
   "metadata": {},
   "outputs": [],
   "source": []
  },
  {
   "cell_type": "code",
   "execution_count": 10,
   "metadata": {},
   "outputs": [
    {
     "data": {
      "text/plain": [
       "list"
      ]
     },
     "execution_count": 10,
     "metadata": {},
     "output_type": "execute_result"
    }
   ],
   "source": [
    "type(Link)"
   ]
  },
  {
   "cell_type": "code",
   "execution_count": 11,
   "metadata": {
    "collapsed": true,
    "jupyter": {
     "outputs_hidden": true
    }
   },
   "outputs": [
    {
     "data": {
      "text/plain": [
       "['https://www.snaaaper.com/shootingGallery/96',\n",
       " 'https://www.snaaaper.com/shootingGallery/97',\n",
       " 'https://www.snaaaper.com/shootingGallery/151',\n",
       " 'https://www.snaaaper.com/shootingGallery/157',\n",
       " 'https://www.snaaaper.com/shootingGallery/161',\n",
       " 'https://www.snaaaper.com/shootingGallery/162',\n",
       " 'https://www.snaaaper.com/shootingGallery/164',\n",
       " 'https://www.snaaaper.com/shootingGallery/173',\n",
       " 'https://www.snaaaper.com/shootingGallery/180',\n",
       " 'https://www.snaaaper.com/shootingGallery/181',\n",
       " 'https://www.snaaaper.com/shootingGallery/182',\n",
       " 'https://www.snaaaper.com/shootingGallery/183',\n",
       " 'https://www.snaaaper.com/shootingGallery/186',\n",
       " 'https://www.snaaaper.com/shootingGallery/187',\n",
       " 'https://www.snaaaper.com/shootingGallery/188',\n",
       " 'https://www.snaaaper.com/shootingGallery/192',\n",
       " 'https://www.snaaaper.com/shootingGallery/199',\n",
       " 'https://www.snaaaper.com/shootingGallery/200',\n",
       " 'https://www.snaaaper.com/shootingGallery/202',\n",
       " 'https://www.snaaaper.com/shootingGallery/209',\n",
       " 'https://www.snaaaper.com/shootingGallery/211',\n",
       " 'https://www.snaaaper.com/shootingGallery/228',\n",
       " 'https://www.snaaaper.com/shootingGallery/229',\n",
       " 'https://www.snaaaper.com/shootingGallery/233',\n",
       " 'https://www.snaaaper.com/shootingGallery/234',\n",
       " 'https://www.snaaaper.com/shootingGallery/237',\n",
       " 'https://www.snaaaper.com/shootingGallery/250',\n",
       " 'https://www.snaaaper.com/shootingGallery/251',\n",
       " 'https://www.snaaaper.com/shootingGallery/253',\n",
       " 'https://www.snaaaper.com/shootingGallery/254',\n",
       " 'https://www.snaaaper.com/shootingGallery/255',\n",
       " 'https://www.snaaaper.com/shootingGallery/259',\n",
       " 'https://www.snaaaper.com/shootingGallery/260',\n",
       " 'https://www.snaaaper.com/shootingGallery/263',\n",
       " 'https://www.snaaaper.com/shootingGallery/264',\n",
       " 'https://www.snaaaper.com/shootingGallery/267',\n",
       " 'https://www.snaaaper.com/shootingGallery/268',\n",
       " 'https://www.snaaaper.com/shootingGallery/276',\n",
       " 'https://www.snaaaper.com/shootingGallery/278',\n",
       " 'https://www.snaaaper.com/shootingGallery/283',\n",
       " 'https://www.snaaaper.com/shootingGallery/285',\n",
       " 'https://www.snaaaper.com/shootingGallery/286',\n",
       " 'https://www.snaaaper.com/shootingGallery/292',\n",
       " 'https://www.snaaaper.com/shootingGallery/293',\n",
       " 'https://www.snaaaper.com/shootingGallery/294',\n",
       " 'https://www.snaaaper.com/shootingGallery/299',\n",
       " 'https://www.snaaaper.com/shootingGallery/301',\n",
       " 'https://www.snaaaper.com/shootingGallery/314',\n",
       " 'https://www.snaaaper.com/shootingGallery/316',\n",
       " 'https://www.snaaaper.com/shootingGallery/321',\n",
       " 'https://www.snaaaper.com/shootingGallery/336',\n",
       " 'https://www.snaaaper.com/shootingGallery/341',\n",
       " 'https://www.snaaaper.com/shootingGallery/343',\n",
       " 'https://www.snaaaper.com/shootingGallery/344',\n",
       " 'https://www.snaaaper.com/shootingGallery/346',\n",
       " 'https://www.snaaaper.com/shootingGallery/350',\n",
       " 'https://www.snaaaper.com/shootingGallery/355',\n",
       " 'https://www.snaaaper.com/shootingGallery/359',\n",
       " 'https://www.snaaaper.com/shootingGallery/360',\n",
       " 'https://www.snaaaper.com/shootingGallery/361',\n",
       " 'https://www.snaaaper.com/shootingGallery/362',\n",
       " 'https://www.snaaaper.com/shootingGallery/364',\n",
       " 'https://www.snaaaper.com/shootingGallery/369',\n",
       " 'https://www.snaaaper.com/shootingGallery/370',\n",
       " 'https://www.snaaaper.com/shootingGallery/372',\n",
       " 'https://www.snaaaper.com/shootingGallery/376',\n",
       " 'https://www.snaaaper.com/shootingGallery/388',\n",
       " 'https://www.snaaaper.com/shootingGallery/390',\n",
       " 'https://www.snaaaper.com/shootingGallery/400',\n",
       " 'https://www.snaaaper.com/shootingGallery/401',\n",
       " 'https://www.snaaaper.com/shootingGallery/412',\n",
       " 'https://www.snaaaper.com/shootingGallery/414',\n",
       " 'https://www.snaaaper.com/shootingGallery/417',\n",
       " 'https://www.snaaaper.com/shootingGallery/421',\n",
       " 'https://www.snaaaper.com/shootingGallery/423',\n",
       " 'https://www.snaaaper.com/shootingGallery/431',\n",
       " 'https://www.snaaaper.com/shootingGallery/432',\n",
       " 'https://www.snaaaper.com/shootingGallery/438',\n",
       " 'https://www.snaaaper.com/shootingGallery/439',\n",
       " 'https://www.snaaaper.com/shootingGallery/441',\n",
       " 'https://www.snaaaper.com/shootingGallery/443',\n",
       " 'https://www.snaaaper.com/shootingGallery/444',\n",
       " 'https://www.snaaaper.com/shootingGallery/445',\n",
       " 'https://www.snaaaper.com/shootingGallery/449',\n",
       " 'https://www.snaaaper.com/shootingGallery/451',\n",
       " 'https://www.snaaaper.com/shootingGallery/453',\n",
       " 'https://www.snaaaper.com/shootingGallery/455',\n",
       " 'https://www.snaaaper.com/shootingGallery/458',\n",
       " 'https://www.snaaaper.com/shootingGallery/459',\n",
       " 'https://www.snaaaper.com/shootingGallery/462',\n",
       " 'https://www.snaaaper.com/shootingGallery/465',\n",
       " 'https://www.snaaaper.com/shootingGallery/481',\n",
       " 'https://www.snaaaper.com/shootingGallery/486',\n",
       " 'https://www.snaaaper.com/shootingGallery/497',\n",
       " 'https://www.snaaaper.com/shootingGallery/500',\n",
       " 'https://www.snaaaper.com/shootingGallery/502',\n",
       " 'https://www.snaaaper.com/shootingGallery/509',\n",
       " 'https://www.snaaaper.com/shootingGallery/512',\n",
       " 'https://www.snaaaper.com/shootingGallery/516',\n",
       " 'https://www.snaaaper.com/shootingGallery/517',\n",
       " 'https://www.snaaaper.com/shootingGallery/518',\n",
       " 'https://www.snaaaper.com/shootingGallery/522',\n",
       " 'https://www.snaaaper.com/shootingGallery/530',\n",
       " 'https://www.snaaaper.com/shootingGallery/533',\n",
       " 'https://www.snaaaper.com/shootingGallery/535',\n",
       " 'https://www.snaaaper.com/shootingGallery/536',\n",
       " 'https://www.snaaaper.com/shootingGallery/538',\n",
       " 'https://www.snaaaper.com/shootingGallery/544',\n",
       " 'https://www.snaaaper.com/shootingGallery/545',\n",
       " 'https://www.snaaaper.com/shootingGallery/548',\n",
       " 'https://www.snaaaper.com/shootingGallery/556',\n",
       " 'https://www.snaaaper.com/shootingGallery/561',\n",
       " 'https://www.snaaaper.com/shootingGallery/563',\n",
       " 'https://www.snaaaper.com/shootingGallery/564',\n",
       " 'https://www.snaaaper.com/shootingGallery/573',\n",
       " 'https://www.snaaaper.com/shootingGallery/575',\n",
       " 'https://www.snaaaper.com/shootingGallery/576',\n",
       " 'https://www.snaaaper.com/shootingGallery/577',\n",
       " 'https://www.snaaaper.com/shootingGallery/578',\n",
       " 'https://www.snaaaper.com/shootingGallery/581',\n",
       " 'https://www.snaaaper.com/shootingGallery/585',\n",
       " 'https://www.snaaaper.com/shootingGallery/586',\n",
       " 'https://www.snaaaper.com/shootingGallery/587',\n",
       " 'https://www.snaaaper.com/shootingGallery/591',\n",
       " 'https://www.snaaaper.com/shootingGallery/593',\n",
       " 'https://www.snaaaper.com/shootingGallery/599',\n",
       " 'https://www.snaaaper.com/shootingGallery/600',\n",
       " 'https://www.snaaaper.com/shootingGallery/603',\n",
       " 'https://www.snaaaper.com/shootingGallery/604',\n",
       " 'https://www.snaaaper.com/shootingGallery/608',\n",
       " 'https://www.snaaaper.com/shootingGallery/613',\n",
       " 'https://www.snaaaper.com/shootingGallery/631',\n",
       " 'https://www.snaaaper.com/shootingGallery/632',\n",
       " 'https://www.snaaaper.com/shootingGallery/633',\n",
       " 'https://www.snaaaper.com/shootingGallery/634',\n",
       " 'https://www.snaaaper.com/shootingGallery/635',\n",
       " 'https://www.snaaaper.com/shootingGallery/649',\n",
       " 'https://www.snaaaper.com/shootingGallery/650',\n",
       " 'https://www.snaaaper.com/shootingGallery/651',\n",
       " 'https://www.snaaaper.com/shootingGallery/652',\n",
       " 'https://www.snaaaper.com/shootingGallery/653',\n",
       " 'https://www.snaaaper.com/shootingGallery/654',\n",
       " 'https://www.snaaaper.com/shootingGallery/655',\n",
       " 'https://www.snaaaper.com/shootingGallery/656',\n",
       " 'https://www.snaaaper.com/shootingGallery/659',\n",
       " 'https://www.snaaaper.com/shootingGallery/666',\n",
       " 'https://www.snaaaper.com/shootingGallery/670',\n",
       " 'https://www.snaaaper.com/shootingGallery/671',\n",
       " 'https://www.snaaaper.com/shootingGallery/684',\n",
       " 'https://www.snaaaper.com/shootingGallery/694',\n",
       " 'https://www.snaaaper.com/shootingGallery/695',\n",
       " 'https://www.snaaaper.com/shootingGallery/697',\n",
       " 'https://www.snaaaper.com/shootingGallery/701',\n",
       " 'https://www.snaaaper.com/shootingGallery/715',\n",
       " 'https://www.snaaaper.com/shootingGallery/730',\n",
       " 'https://www.snaaaper.com/shootingGallery/731',\n",
       " 'https://www.snaaaper.com/shootingGallery/735',\n",
       " 'https://www.snaaaper.com/shootingGallery/739',\n",
       " 'https://www.snaaaper.com/shootingGallery/742',\n",
       " 'https://www.snaaaper.com/shootingGallery/750',\n",
       " 'https://www.snaaaper.com/shootingGallery/751',\n",
       " 'https://www.snaaaper.com/shootingGallery/753',\n",
       " 'https://www.snaaaper.com/shootingGallery/754',\n",
       " 'https://www.snaaaper.com/shootingGallery/757',\n",
       " 'https://www.snaaaper.com/shootingGallery/758',\n",
       " 'https://www.snaaaper.com/shootingGallery/761',\n",
       " 'https://www.snaaaper.com/shootingGallery/763',\n",
       " 'https://www.snaaaper.com/shootingGallery/768',\n",
       " 'https://www.snaaaper.com/shootingGallery/773',\n",
       " 'https://www.snaaaper.com/shootingGallery/775',\n",
       " 'https://www.snaaaper.com/shootingGallery/784',\n",
       " 'https://www.snaaaper.com/shootingGallery/786',\n",
       " 'https://www.snaaaper.com/shootingGallery/787',\n",
       " 'https://www.snaaaper.com/shootingGallery/789',\n",
       " 'https://www.snaaaper.com/shootingGallery/795',\n",
       " 'https://www.snaaaper.com/shootingGallery/796',\n",
       " 'https://www.snaaaper.com/shootingGallery/802',\n",
       " 'https://www.snaaaper.com/shootingGallery/803',\n",
       " 'https://www.snaaaper.com/shootingGallery/806',\n",
       " 'https://www.snaaaper.com/shootingGallery/808',\n",
       " 'https://www.snaaaper.com/shootingGallery/818',\n",
       " 'https://www.snaaaper.com/shootingGallery/820',\n",
       " 'https://www.snaaaper.com/shootingGallery/835',\n",
       " 'https://www.snaaaper.com/shootingGallery/839',\n",
       " 'https://www.snaaaper.com/shootingGallery/842',\n",
       " 'https://www.snaaaper.com/shootingGallery/845',\n",
       " 'https://www.snaaaper.com/shootingGallery/846',\n",
       " 'https://www.snaaaper.com/shootingGallery/850',\n",
       " 'https://www.snaaaper.com/shootingGallery/852',\n",
       " 'https://www.snaaaper.com/shootingGallery/857',\n",
       " 'https://www.snaaaper.com/shootingGallery/860',\n",
       " 'https://www.snaaaper.com/shootingGallery/863',\n",
       " 'https://www.snaaaper.com/shootingGallery/866',\n",
       " 'https://www.snaaaper.com/shootingGallery/871',\n",
       " 'https://www.snaaaper.com/shootingGallery/872',\n",
       " 'https://www.snaaaper.com/shootingGallery/875',\n",
       " 'https://www.snaaaper.com/shootingGallery/877',\n",
       " 'https://www.snaaaper.com/shootingGallery/904',\n",
       " 'https://www.snaaaper.com/shootingGallery/907',\n",
       " 'https://www.snaaaper.com/shootingGallery/912',\n",
       " 'https://www.snaaaper.com/shootingGallery/918',\n",
       " 'https://www.snaaaper.com/shootingGallery/920',\n",
       " 'https://www.snaaaper.com/shootingGallery/921',\n",
       " 'https://www.snaaaper.com/shootingGallery/924',\n",
       " 'https://www.snaaaper.com/shootingGallery/935',\n",
       " 'https://www.snaaaper.com/shootingGallery/938',\n",
       " 'https://www.snaaaper.com/shootingGallery/940',\n",
       " 'https://www.snaaaper.com/shootingGallery/943',\n",
       " 'https://www.snaaaper.com/shootingGallery/950',\n",
       " 'https://www.snaaaper.com/shootingGallery/957',\n",
       " 'https://www.snaaaper.com/shootingGallery/961',\n",
       " 'https://www.snaaaper.com/shootingGallery/966',\n",
       " 'https://www.snaaaper.com/shootingGallery/969',\n",
       " 'https://www.snaaaper.com/shootingGallery/972',\n",
       " 'https://www.snaaaper.com/shootingGallery/974',\n",
       " 'https://www.snaaaper.com/shootingGallery/982',\n",
       " 'https://www.snaaaper.com/shootingGallery/984',\n",
       " 'https://www.snaaaper.com/shootingGallery/985',\n",
       " 'https://www.snaaaper.com/shootingGallery/986',\n",
       " 'https://www.snaaaper.com/shootingGallery/994',\n",
       " 'https://www.snaaaper.com/shootingGallery/995',\n",
       " 'https://www.snaaaper.com/shootingGallery/996',\n",
       " 'https://www.snaaaper.com/shootingGallery/1002',\n",
       " 'https://www.snaaaper.com/shootingGallery/1003',\n",
       " 'https://www.snaaaper.com/shootingGallery/1004',\n",
       " 'https://www.snaaaper.com/shootingGallery/1005',\n",
       " 'https://www.snaaaper.com/shootingGallery/1009',\n",
       " 'https://www.snaaaper.com/shootingGallery/1027',\n",
       " 'https://www.snaaaper.com/shootingGallery/1035',\n",
       " 'https://www.snaaaper.com/shootingGallery/1036',\n",
       " 'https://www.snaaaper.com/shootingGallery/1039',\n",
       " 'https://www.snaaaper.com/shootingGallery/1040',\n",
       " 'https://www.snaaaper.com/shootingGallery/1042',\n",
       " 'https://www.snaaaper.com/shootingGallery/1047',\n",
       " 'https://www.snaaaper.com/shootingGallery/1062',\n",
       " 'https://www.snaaaper.com/shootingGallery/1063',\n",
       " 'https://www.snaaaper.com/shootingGallery/1065',\n",
       " 'https://www.snaaaper.com/shootingGallery/1066',\n",
       " 'https://www.snaaaper.com/shootingGallery/1070',\n",
       " 'https://www.snaaaper.com/shootingGallery/1071',\n",
       " 'https://www.snaaaper.com/shootingGallery/1072',\n",
       " 'https://www.snaaaper.com/shootingGallery/1074',\n",
       " 'https://www.snaaaper.com/shootingGallery/1077',\n",
       " 'https://www.snaaaper.com/shootingGallery/1081',\n",
       " 'https://www.snaaaper.com/shootingGallery/1082',\n",
       " 'https://www.snaaaper.com/shootingGallery/1084',\n",
       " 'https://www.snaaaper.com/shootingGallery/1085',\n",
       " 'https://www.snaaaper.com/shootingGallery/1091',\n",
       " 'https://www.snaaaper.com/shootingGallery/1094',\n",
       " 'https://www.snaaaper.com/shootingGallery/1101',\n",
       " 'https://www.snaaaper.com/shootingGallery/1104',\n",
       " 'https://www.snaaaper.com/shootingGallery/1105',\n",
       " 'https://www.snaaaper.com/shootingGallery/1110',\n",
       " 'https://www.snaaaper.com/shootingGallery/1111',\n",
       " 'https://www.snaaaper.com/shootingGallery/1112',\n",
       " 'https://www.snaaaper.com/shootingGallery/1115',\n",
       " 'https://www.snaaaper.com/shootingGallery/1116',\n",
       " 'https://www.snaaaper.com/shootingGallery/1125',\n",
       " 'https://www.snaaaper.com/shootingGallery/1130',\n",
       " 'https://www.snaaaper.com/shootingGallery/1131',\n",
       " 'https://www.snaaaper.com/shootingGallery/1146',\n",
       " 'https://www.snaaaper.com/shootingGallery/1147',\n",
       " 'https://www.snaaaper.com/shootingGallery/1150',\n",
       " 'https://www.snaaaper.com/shootingGallery/1151',\n",
       " 'https://www.snaaaper.com/shootingGallery/1159',\n",
       " 'https://www.snaaaper.com/shootingGallery/1169',\n",
       " 'https://www.snaaaper.com/shootingGallery/1170',\n",
       " 'https://www.snaaaper.com/shootingGallery/1172',\n",
       " 'https://www.snaaaper.com/shootingGallery/1173',\n",
       " 'https://www.snaaaper.com/shootingGallery/1175',\n",
       " 'https://www.snaaaper.com/shootingGallery/1182',\n",
       " 'https://www.snaaaper.com/shootingGallery/1185',\n",
       " 'https://www.snaaaper.com/shootingGallery/1187',\n",
       " 'https://www.snaaaper.com/shootingGallery/1194',\n",
       " 'https://www.snaaaper.com/shootingGallery/1195',\n",
       " 'https://www.snaaaper.com/shootingGallery/1197',\n",
       " 'https://www.snaaaper.com/shootingGallery/1202',\n",
       " 'https://www.snaaaper.com/shootingGallery/1203',\n",
       " 'https://www.snaaaper.com/shootingGallery/1206',\n",
       " 'https://www.snaaaper.com/shootingGallery/1209',\n",
       " 'https://www.snaaaper.com/shootingGallery/1211',\n",
       " 'https://www.snaaaper.com/shootingGallery/1212',\n",
       " 'https://www.snaaaper.com/shootingGallery/1221',\n",
       " 'https://www.snaaaper.com/shootingGallery/1228',\n",
       " 'https://www.snaaaper.com/shootingGallery/1234',\n",
       " 'https://www.snaaaper.com/shootingGallery/1238',\n",
       " 'https://www.snaaaper.com/shootingGallery/1242',\n",
       " 'https://www.snaaaper.com/shootingGallery/1245',\n",
       " 'https://www.snaaaper.com/shootingGallery/1251',\n",
       " 'https://www.snaaaper.com/shootingGallery/1254',\n",
       " 'https://www.snaaaper.com/shootingGallery/1255',\n",
       " 'https://www.snaaaper.com/shootingGallery/1257',\n",
       " 'https://www.snaaaper.com/shootingGallery/1258',\n",
       " 'https://www.snaaaper.com/shootingGallery/1259',\n",
       " 'https://www.snaaaper.com/shootingGallery/1260',\n",
       " 'https://www.snaaaper.com/shootingGallery/1261',\n",
       " 'https://www.snaaaper.com/shootingGallery/1264',\n",
       " 'https://www.snaaaper.com/shootingGallery/1265',\n",
       " 'https://www.snaaaper.com/shootingGallery/1267',\n",
       " 'https://www.snaaaper.com/shootingGallery/1268',\n",
       " 'https://www.snaaaper.com/shootingGallery/1272',\n",
       " 'https://www.snaaaper.com/shootingGallery/1273',\n",
       " 'https://www.snaaaper.com/shootingGallery/1288',\n",
       " 'https://www.snaaaper.com/shootingGallery/1289',\n",
       " 'https://www.snaaaper.com/shootingGallery/1295',\n",
       " 'https://www.snaaaper.com/shootingGallery/1310',\n",
       " 'https://www.snaaaper.com/shootingGallery/1311',\n",
       " 'https://www.snaaaper.com/shootingGallery/1312',\n",
       " 'https://www.snaaaper.com/shootingGallery/1314',\n",
       " 'https://www.snaaaper.com/shootingGallery/1318',\n",
       " 'https://www.snaaaper.com/shootingGallery/1319',\n",
       " 'https://www.snaaaper.com/shootingGallery/1323',\n",
       " 'https://www.snaaaper.com/shootingGallery/1324',\n",
       " 'https://www.snaaaper.com/shootingGallery/1337',\n",
       " 'https://www.snaaaper.com/shootingGallery/1338',\n",
       " 'https://www.snaaaper.com/shootingGallery/1340',\n",
       " 'https://www.snaaaper.com/shootingGallery/1347',\n",
       " 'https://www.snaaaper.com/shootingGallery/1348',\n",
       " 'https://www.snaaaper.com/shootingGallery/1359',\n",
       " 'https://www.snaaaper.com/shootingGallery/1361',\n",
       " 'https://www.snaaaper.com/shootingGallery/1362',\n",
       " 'https://www.snaaaper.com/shootingGallery/1364',\n",
       " 'https://www.snaaaper.com/shootingGallery/1367',\n",
       " 'https://www.snaaaper.com/shootingGallery/1370',\n",
       " 'https://www.snaaaper.com/shootingGallery/1371',\n",
       " 'https://www.snaaaper.com/shootingGallery/1374',\n",
       " 'https://www.snaaaper.com/shootingGallery/1375',\n",
       " 'https://www.snaaaper.com/shootingGallery/1376',\n",
       " 'https://www.snaaaper.com/shootingGallery/1377',\n",
       " 'https://www.snaaaper.com/shootingGallery/1381',\n",
       " 'https://www.snaaaper.com/shootingGallery/1383',\n",
       " 'https://www.snaaaper.com/shootingGallery/1388',\n",
       " 'https://www.snaaaper.com/shootingGallery/1389',\n",
       " 'https://www.snaaaper.com/shootingGallery/1392',\n",
       " 'https://www.snaaaper.com/shootingGallery/1400',\n",
       " 'https://www.snaaaper.com/shootingGallery/1403',\n",
       " 'https://www.snaaaper.com/shootingGallery/1404',\n",
       " 'https://www.snaaaper.com/shootingGallery/1408',\n",
       " 'https://www.snaaaper.com/shootingGallery/1418',\n",
       " 'https://www.snaaaper.com/shootingGallery/1419',\n",
       " 'https://www.snaaaper.com/shootingGallery/1421',\n",
       " 'https://www.snaaaper.com/shootingGallery/1422',\n",
       " 'https://www.snaaaper.com/shootingGallery/1423',\n",
       " 'https://www.snaaaper.com/shootingGallery/1425',\n",
       " 'https://www.snaaaper.com/shootingGallery/1435',\n",
       " 'https://www.snaaaper.com/shootingGallery/1437',\n",
       " 'https://www.snaaaper.com/shootingGallery/1443',\n",
       " 'https://www.snaaaper.com/shootingGallery/1447',\n",
       " 'https://www.snaaaper.com/shootingGallery/1449',\n",
       " 'https://www.snaaaper.com/shootingGallery/1462',\n",
       " 'https://www.snaaaper.com/shootingGallery/1465',\n",
       " 'https://www.snaaaper.com/shootingGallery/1467',\n",
       " 'https://www.snaaaper.com/shootingGallery/1468',\n",
       " 'https://www.snaaaper.com/shootingGallery/1469',\n",
       " 'https://www.snaaaper.com/shootingGallery/1475',\n",
       " 'https://www.snaaaper.com/shootingGallery/1477',\n",
       " 'https://www.snaaaper.com/shootingGallery/1478',\n",
       " 'https://www.snaaaper.com/shootingGallery/1479',\n",
       " 'https://www.snaaaper.com/shootingGallery/1480',\n",
       " 'https://www.snaaaper.com/shootingGallery/1481',\n",
       " 'https://www.snaaaper.com/shootingGallery/1485',\n",
       " 'https://www.snaaaper.com/shootingGallery/1503',\n",
       " 'https://www.snaaaper.com/shootingGallery/1505',\n",
       " 'https://www.snaaaper.com/shootingGallery/1507',\n",
       " 'https://www.snaaaper.com/shootingGallery/1508',\n",
       " 'https://www.snaaaper.com/shootingGallery/1517',\n",
       " 'https://www.snaaaper.com/shootingGallery/1522',\n",
       " 'https://www.snaaaper.com/shootingGallery/1523',\n",
       " 'https://www.snaaaper.com/shootingGallery/1524',\n",
       " 'https://www.snaaaper.com/shootingGallery/1529',\n",
       " 'https://www.snaaaper.com/shootingGallery/1530',\n",
       " 'https://www.snaaaper.com/shootingGallery/1531',\n",
       " 'https://www.snaaaper.com/shootingGallery/1533',\n",
       " 'https://www.snaaaper.com/shootingGallery/1537',\n",
       " 'https://www.snaaaper.com/shootingGallery/1538',\n",
       " 'https://www.snaaaper.com/shootingGallery/1541',\n",
       " 'https://www.snaaaper.com/shootingGallery/1542',\n",
       " 'https://www.snaaaper.com/shootingGallery/1543',\n",
       " 'https://www.snaaaper.com/shootingGallery/1548',\n",
       " 'https://www.snaaaper.com/shootingGallery/1549',\n",
       " 'https://www.snaaaper.com/shootingGallery/1550',\n",
       " 'https://www.snaaaper.com/shootingGallery/1551',\n",
       " 'https://www.snaaaper.com/shootingGallery/1552',\n",
       " 'https://www.snaaaper.com/shootingGallery/1554',\n",
       " 'https://www.snaaaper.com/shootingGallery/1556',\n",
       " 'https://www.snaaaper.com/shootingGallery/1571',\n",
       " 'https://www.snaaaper.com/shootingGallery/1573',\n",
       " 'https://www.snaaaper.com/shootingGallery/1574',\n",
       " 'https://www.snaaaper.com/shootingGallery/1581',\n",
       " 'https://www.snaaaper.com/shootingGallery/1583',\n",
       " 'https://www.snaaaper.com/shootingGallery/1585',\n",
       " 'https://www.snaaaper.com/shootingGallery/1586',\n",
       " 'https://www.snaaaper.com/shootingGallery/1589',\n",
       " 'https://www.snaaaper.com/shootingGallery/1590',\n",
       " 'https://www.snaaaper.com/shootingGallery/1592',\n",
       " 'https://www.snaaaper.com/shootingGallery/1594',\n",
       " 'https://www.snaaaper.com/shootingGallery/1608',\n",
       " 'https://www.snaaaper.com/shootingGallery/1612',\n",
       " 'https://www.snaaaper.com/shootingGallery/1613',\n",
       " 'https://www.snaaaper.com/shootingGallery/1619',\n",
       " 'https://www.snaaaper.com/shootingGallery/1621',\n",
       " 'https://www.snaaaper.com/shootingGallery/1624',\n",
       " 'https://www.snaaaper.com/shootingGallery/1634',\n",
       " 'https://www.snaaaper.com/shootingGallery/1637',\n",
       " 'https://www.snaaaper.com/shootingGallery/1640',\n",
       " 'https://www.snaaaper.com/shootingGallery/1642',\n",
       " 'https://www.snaaaper.com/shootingGallery/1643',\n",
       " 'https://www.snaaaper.com/shootingGallery/1644',\n",
       " 'https://www.snaaaper.com/shootingGallery/1646',\n",
       " 'https://www.snaaaper.com/shootingGallery/1648',\n",
       " 'https://www.snaaaper.com/shootingGallery/1653',\n",
       " 'https://www.snaaaper.com/shootingGallery/1654',\n",
       " 'https://www.snaaaper.com/shootingGallery/1655',\n",
       " 'https://www.snaaaper.com/shootingGallery/1657',\n",
       " 'https://www.snaaaper.com/shootingGallery/1658',\n",
       " 'https://www.snaaaper.com/shootingGallery/1659',\n",
       " 'https://www.snaaaper.com/shootingGallery/1663',\n",
       " 'https://www.snaaaper.com/shootingGallery/1664',\n",
       " 'https://www.snaaaper.com/shootingGallery/1665',\n",
       " 'https://www.snaaaper.com/shootingGallery/1666',\n",
       " 'https://www.snaaaper.com/shootingGallery/1676',\n",
       " 'https://www.snaaaper.com/shootingGallery/1677',\n",
       " 'https://www.snaaaper.com/shootingGallery/1681',\n",
       " 'https://www.snaaaper.com/shootingGallery/1684',\n",
       " 'https://www.snaaaper.com/shootingGallery/1686',\n",
       " 'https://www.snaaaper.com/shootingGallery/1688',\n",
       " 'https://www.snaaaper.com/shootingGallery/1690',\n",
       " 'https://www.snaaaper.com/shootingGallery/1691',\n",
       " 'https://www.snaaaper.com/shootingGallery/1693',\n",
       " 'https://www.snaaaper.com/shootingGallery/1694',\n",
       " 'https://www.snaaaper.com/shootingGallery/1700',\n",
       " 'https://www.snaaaper.com/shootingGallery/1701',\n",
       " 'https://www.snaaaper.com/shootingGallery/1705',\n",
       " 'https://www.snaaaper.com/shootingGallery/1706',\n",
       " 'https://www.snaaaper.com/shootingGallery/1707',\n",
       " 'https://www.snaaaper.com/shootingGallery/1709',\n",
       " 'https://www.snaaaper.com/shootingGallery/1710',\n",
       " 'https://www.snaaaper.com/shootingGallery/1716',\n",
       " 'https://www.snaaaper.com/shootingGallery/1721',\n",
       " 'https://www.snaaaper.com/shootingGallery/1722',\n",
       " 'https://www.snaaaper.com/shootingGallery/1723',\n",
       " 'https://www.snaaaper.com/shootingGallery/1729',\n",
       " 'https://www.snaaaper.com/shootingGallery/1731',\n",
       " 'https://www.snaaaper.com/shootingGallery/1732',\n",
       " 'https://www.snaaaper.com/shootingGallery/1744',\n",
       " 'https://www.snaaaper.com/shootingGallery/1753',\n",
       " 'https://www.snaaaper.com/shootingGallery/1762',\n",
       " 'https://www.snaaaper.com/shootingGallery/1763',\n",
       " 'https://www.snaaaper.com/shootingGallery/1768',\n",
       " 'https://www.snaaaper.com/shootingGallery/1769',\n",
       " 'https://www.snaaaper.com/shootingGallery/1770',\n",
       " 'https://www.snaaaper.com/shootingGallery/1772',\n",
       " 'https://www.snaaaper.com/shootingGallery/1776',\n",
       " 'https://www.snaaaper.com/shootingGallery/1778',\n",
       " 'https://www.snaaaper.com/shootingGallery/1782',\n",
       " 'https://www.snaaaper.com/shootingGallery/1784',\n",
       " 'https://www.snaaaper.com/shootingGallery/1786',\n",
       " 'https://www.snaaaper.com/shootingGallery/1787',\n",
       " 'https://www.snaaaper.com/shootingGallery/1788',\n",
       " 'https://www.snaaaper.com/shootingGallery/1799',\n",
       " 'https://www.snaaaper.com/shootingGallery/1810',\n",
       " 'https://www.snaaaper.com/shootingGallery/1812',\n",
       " 'https://www.snaaaper.com/shootingGallery/1814',\n",
       " 'https://www.snaaaper.com/shootingGallery/1817',\n",
       " 'https://www.snaaaper.com/shootingGallery/1825',\n",
       " 'https://www.snaaaper.com/shootingGallery/1831',\n",
       " 'https://www.snaaaper.com/shootingGallery/1836',\n",
       " 'https://www.snaaaper.com/shootingGallery/1838',\n",
       " 'https://www.snaaaper.com/shootingGallery/1839',\n",
       " 'https://www.snaaaper.com/shootingGallery/1840',\n",
       " 'https://www.snaaaper.com/shootingGallery/1841',\n",
       " 'https://www.snaaaper.com/shootingGallery/1850',\n",
       " 'https://www.snaaaper.com/shootingGallery/1853',\n",
       " 'https://www.snaaaper.com/shootingGallery/1860',\n",
       " 'https://www.snaaaper.com/shootingGallery/1869',\n",
       " 'https://www.snaaaper.com/shootingGallery/1870',\n",
       " 'https://www.snaaaper.com/shootingGallery/1875',\n",
       " 'https://www.snaaaper.com/shootingGallery/1898',\n",
       " 'https://www.snaaaper.com/shootingGallery/1901',\n",
       " 'https://www.snaaaper.com/shootingGallery/1903',\n",
       " 'https://www.snaaaper.com/shootingGallery/1911',\n",
       " 'https://www.snaaaper.com/shootingGallery/1913',\n",
       " 'https://www.snaaaper.com/shootingGallery/1918',\n",
       " 'https://www.snaaaper.com/shootingGallery/1919',\n",
       " 'https://www.snaaaper.com/shootingGallery/1927',\n",
       " 'https://www.snaaaper.com/shootingGallery/1928',\n",
       " 'https://www.snaaaper.com/shootingGallery/1929',\n",
       " 'https://www.snaaaper.com/shootingGallery/1930',\n",
       " 'https://www.snaaaper.com/shootingGallery/1934',\n",
       " 'https://www.snaaaper.com/shootingGallery/1935',\n",
       " 'https://www.snaaaper.com/shootingGallery/1936',\n",
       " 'https://www.snaaaper.com/shootingGallery/1939',\n",
       " 'https://www.snaaaper.com/shootingGallery/1940',\n",
       " 'https://www.snaaaper.com/shootingGallery/1944',\n",
       " 'https://www.snaaaper.com/shootingGallery/1946',\n",
       " 'https://www.snaaaper.com/shootingGallery/1948',\n",
       " 'https://www.snaaaper.com/shootingGallery/1954',\n",
       " 'https://www.snaaaper.com/shootingGallery/1956',\n",
       " 'https://www.snaaaper.com/shootingGallery/1958',\n",
       " 'https://www.snaaaper.com/shootingGallery/1962',\n",
       " 'https://www.snaaaper.com/shootingGallery/1963',\n",
       " 'https://www.snaaaper.com/shootingGallery/1965',\n",
       " 'https://www.snaaaper.com/shootingGallery/1966',\n",
       " 'https://www.snaaaper.com/shootingGallery/1968',\n",
       " 'https://www.snaaaper.com/shootingGallery/1972',\n",
       " 'https://www.snaaaper.com/shootingGallery/1974',\n",
       " 'https://www.snaaaper.com/shootingGallery/1976',\n",
       " 'https://www.snaaaper.com/shootingGallery/1978',\n",
       " 'https://www.snaaaper.com/shootingGallery/1979',\n",
       " 'https://www.snaaaper.com/shootingGallery/1980',\n",
       " 'https://www.snaaaper.com/shootingGallery/1981',\n",
       " 'https://www.snaaaper.com/shootingGallery/1982',\n",
       " 'https://www.snaaaper.com/shootingGallery/1986',\n",
       " 'https://www.snaaaper.com/shootingGallery/1999',\n",
       " 'https://www.snaaaper.com/shootingGallery/2004',\n",
       " 'https://www.snaaaper.com/shootingGallery/2005',\n",
       " 'https://www.snaaaper.com/shootingGallery/2006',\n",
       " 'https://www.snaaaper.com/shootingGallery/2019',\n",
       " 'https://www.snaaaper.com/shootingGallery/2021',\n",
       " 'https://www.snaaaper.com/shootingGallery/2023',\n",
       " 'https://www.snaaaper.com/shootingGallery/2026',\n",
       " 'https://www.snaaaper.com/shootingGallery/2030',\n",
       " 'https://www.snaaaper.com/shootingGallery/2034',\n",
       " 'https://www.snaaaper.com/shootingGallery/2035',\n",
       " 'https://www.snaaaper.com/shootingGallery/2041',\n",
       " 'https://www.snaaaper.com/shootingGallery/2042',\n",
       " 'https://www.snaaaper.com/shootingGallery/2043',\n",
       " 'https://www.snaaaper.com/shootingGallery/2044',\n",
       " 'https://www.snaaaper.com/shootingGallery/2045',\n",
       " 'https://www.snaaaper.com/shootingGallery/2048',\n",
       " 'https://www.snaaaper.com/shootingGallery/2052',\n",
       " 'https://www.snaaaper.com/shootingGallery/2053',\n",
       " 'https://www.snaaaper.com/shootingGallery/2055',\n",
       " 'https://www.snaaaper.com/shootingGallery/2058',\n",
       " 'https://www.snaaaper.com/shootingGallery/2068',\n",
       " 'https://www.snaaaper.com/shootingGallery/2069',\n",
       " 'https://www.snaaaper.com/shootingGallery/2088',\n",
       " 'https://www.snaaaper.com/shootingGallery/2089',\n",
       " 'https://www.snaaaper.com/shootingGallery/2092',\n",
       " 'https://www.snaaaper.com/shootingGallery/2093',\n",
       " 'https://www.snaaaper.com/shootingGallery/2094',\n",
       " 'https://www.snaaaper.com/shootingGallery/2100',\n",
       " 'https://www.snaaaper.com/shootingGallery/2104',\n",
       " 'https://www.snaaaper.com/shootingGallery/2106',\n",
       " 'https://www.snaaaper.com/shootingGallery/2107',\n",
       " 'https://www.snaaaper.com/shootingGallery/2113',\n",
       " 'https://www.snaaaper.com/shootingGallery/2117',\n",
       " 'https://www.snaaaper.com/shootingGallery/2122',\n",
       " 'https://www.snaaaper.com/shootingGallery/2127',\n",
       " 'https://www.snaaaper.com/shootingGallery/2129',\n",
       " 'https://www.snaaaper.com/shootingGallery/2130',\n",
       " 'https://www.snaaaper.com/shootingGallery/2139',\n",
       " 'https://www.snaaaper.com/shootingGallery/2140',\n",
       " 'https://www.snaaaper.com/shootingGallery/2144',\n",
       " 'https://www.snaaaper.com/shootingGallery/2145',\n",
       " 'https://www.snaaaper.com/shootingGallery/2146',\n",
       " 'https://www.snaaaper.com/shootingGallery/2150',\n",
       " 'https://www.snaaaper.com/shootingGallery/2155',\n",
       " 'https://www.snaaaper.com/shootingGallery/2158',\n",
       " 'https://www.snaaaper.com/shootingGallery/2162',\n",
       " 'https://www.snaaaper.com/shootingGallery/2170',\n",
       " 'https://www.snaaaper.com/shootingGallery/2172',\n",
       " 'https://www.snaaaper.com/shootingGallery/2174',\n",
       " 'https://www.snaaaper.com/shootingGallery/2181',\n",
       " 'https://www.snaaaper.com/shootingGallery/2182',\n",
       " 'https://www.snaaaper.com/shootingGallery/2186',\n",
       " 'https://www.snaaaper.com/shootingGallery/2190',\n",
       " 'https://www.snaaaper.com/shootingGallery/2193',\n",
       " 'https://www.snaaaper.com/shootingGallery/2194',\n",
       " 'https://www.snaaaper.com/shootingGallery/2197',\n",
       " 'https://www.snaaaper.com/shootingGallery/2199',\n",
       " 'https://www.snaaaper.com/shootingGallery/2202',\n",
       " 'https://www.snaaaper.com/shootingGallery/2203',\n",
       " 'https://www.snaaaper.com/shootingGallery/2205',\n",
       " 'https://www.snaaaper.com/shootingGallery/2211',\n",
       " 'https://www.snaaaper.com/shootingGallery/2223',\n",
       " 'https://www.snaaaper.com/shootingGallery/2224',\n",
       " 'https://www.snaaaper.com/shootingGallery/2225',\n",
       " 'https://www.snaaaper.com/shootingGallery/2232',\n",
       " 'https://www.snaaaper.com/shootingGallery/2235',\n",
       " 'https://www.snaaaper.com/shootingGallery/2236',\n",
       " 'https://www.snaaaper.com/shootingGallery/2239',\n",
       " 'https://www.snaaaper.com/shootingGallery/2240',\n",
       " 'https://www.snaaaper.com/shootingGallery/2244',\n",
       " 'https://www.snaaaper.com/shootingGallery/2247',\n",
       " 'https://www.snaaaper.com/shootingGallery/2248',\n",
       " 'https://www.snaaaper.com/shootingGallery/2252',\n",
       " 'https://www.snaaaper.com/shootingGallery/2254',\n",
       " 'https://www.snaaaper.com/shootingGallery/2260',\n",
       " 'https://www.snaaaper.com/shootingGallery/2272',\n",
       " 'https://www.snaaaper.com/shootingGallery/2274',\n",
       " 'https://www.snaaaper.com/shootingGallery/2275',\n",
       " 'https://www.snaaaper.com/shootingGallery/2281',\n",
       " 'https://www.snaaaper.com/shootingGallery/2282',\n",
       " 'https://www.snaaaper.com/shootingGallery/2284',\n",
       " 'https://www.snaaaper.com/shootingGallery/2285',\n",
       " 'https://www.snaaaper.com/shootingGallery/2290',\n",
       " 'https://www.snaaaper.com/shootingGallery/2292',\n",
       " 'https://www.snaaaper.com/shootingGallery/2298',\n",
       " 'https://www.snaaaper.com/shootingGallery/2299',\n",
       " 'https://www.snaaaper.com/shootingGallery/2300',\n",
       " 'https://www.snaaaper.com/shootingGallery/2301',\n",
       " 'https://www.snaaaper.com/shootingGallery/2307',\n",
       " 'https://www.snaaaper.com/shootingGallery/2308',\n",
       " 'https://www.snaaaper.com/shootingGallery/2310',\n",
       " 'https://www.snaaaper.com/shootingGallery/2312',\n",
       " 'https://www.snaaaper.com/shootingGallery/2314',\n",
       " 'https://www.snaaaper.com/shootingGallery/2317',\n",
       " 'https://www.snaaaper.com/shootingGallery/2321',\n",
       " 'https://www.snaaaper.com/shootingGallery/2322',\n",
       " 'https://www.snaaaper.com/shootingGallery/2324',\n",
       " 'https://www.snaaaper.com/shootingGallery/2326',\n",
       " 'https://www.snaaaper.com/shootingGallery/2331',\n",
       " 'https://www.snaaaper.com/shootingGallery/2332',\n",
       " 'https://www.snaaaper.com/shootingGallery/2333',\n",
       " 'https://www.snaaaper.com/shootingGallery/2334',\n",
       " 'https://www.snaaaper.com/shootingGallery/2336',\n",
       " 'https://www.snaaaper.com/shootingGallery/2340',\n",
       " 'https://www.snaaaper.com/shootingGallery/2342',\n",
       " 'https://www.snaaaper.com/shootingGallery/2343',\n",
       " 'https://www.snaaaper.com/shootingGallery/2345',\n",
       " 'https://www.snaaaper.com/shootingGallery/2346',\n",
       " 'https://www.snaaaper.com/shootingGallery/2352',\n",
       " 'https://www.snaaaper.com/shootingGallery/2354',\n",
       " 'https://www.snaaaper.com/shootingGallery/2355',\n",
       " 'https://www.snaaaper.com/shootingGallery/2357',\n",
       " 'https://www.snaaaper.com/shootingGallery/2359',\n",
       " 'https://www.snaaaper.com/shootingGallery/2362',\n",
       " 'https://www.snaaaper.com/shootingGallery/2363',\n",
       " 'https://www.snaaaper.com/shootingGallery/2364',\n",
       " 'https://www.snaaaper.com/shootingGallery/2367',\n",
       " 'https://www.snaaaper.com/shootingGallery/2371',\n",
       " 'https://www.snaaaper.com/shootingGallery/2372',\n",
       " 'https://www.snaaaper.com/shootingGallery/2376',\n",
       " 'https://www.snaaaper.com/shootingGallery/2377',\n",
       " 'https://www.snaaaper.com/shootingGallery/2378',\n",
       " 'https://www.snaaaper.com/shootingGallery/2386',\n",
       " 'https://www.snaaaper.com/shootingGallery/2388',\n",
       " 'https://www.snaaaper.com/shootingGallery/2390',\n",
       " 'https://www.snaaaper.com/shootingGallery/2391',\n",
       " 'https://www.snaaaper.com/shootingGallery/2392',\n",
       " 'https://www.snaaaper.com/shootingGallery/2395',\n",
       " 'https://www.snaaaper.com/shootingGallery/2397',\n",
       " 'https://www.snaaaper.com/shootingGallery/2400',\n",
       " 'https://www.snaaaper.com/shootingGallery/2402',\n",
       " 'https://www.snaaaper.com/shootingGallery/2403',\n",
       " 'https://www.snaaaper.com/shootingGallery/2407',\n",
       " 'https://www.snaaaper.com/shootingGallery/2409',\n",
       " 'https://www.snaaaper.com/shootingGallery/2412',\n",
       " 'https://www.snaaaper.com/shootingGallery/2415',\n",
       " 'https://www.snaaaper.com/shootingGallery/2416',\n",
       " 'https://www.snaaaper.com/shootingGallery/2417',\n",
       " 'https://www.snaaaper.com/shootingGallery/2420',\n",
       " 'https://www.snaaaper.com/shootingGallery/2422',\n",
       " 'https://www.snaaaper.com/shootingGallery/2423',\n",
       " 'https://www.snaaaper.com/shootingGallery/2424',\n",
       " 'https://www.snaaaper.com/shootingGallery/2427',\n",
       " 'https://www.snaaaper.com/shootingGallery/2433',\n",
       " 'https://www.snaaaper.com/shootingGallery/2437',\n",
       " 'https://www.snaaaper.com/shootingGallery/2441',\n",
       " 'https://www.snaaaper.com/shootingGallery/2442',\n",
       " 'https://www.snaaaper.com/shootingGallery/2443',\n",
       " 'https://www.snaaaper.com/shootingGallery/2451',\n",
       " 'https://www.snaaaper.com/shootingGallery/2453',\n",
       " 'https://www.snaaaper.com/shootingGallery/2456',\n",
       " 'https://www.snaaaper.com/shootingGallery/2459',\n",
       " 'https://www.snaaaper.com/shootingGallery/2461',\n",
       " 'https://www.snaaaper.com/shootingGallery/2464',\n",
       " 'https://www.snaaaper.com/shootingGallery/2465',\n",
       " 'https://www.snaaaper.com/shootingGallery/2467',\n",
       " 'https://www.snaaaper.com/shootingGallery/2470',\n",
       " 'https://www.snaaaper.com/shootingGallery/2471',\n",
       " 'https://www.snaaaper.com/shootingGallery/2476',\n",
       " 'https://www.snaaaper.com/shootingGallery/2478',\n",
       " 'https://www.snaaaper.com/shootingGallery/2483',\n",
       " 'https://www.snaaaper.com/shootingGallery/2485',\n",
       " 'https://www.snaaaper.com/shootingGallery/2488',\n",
       " 'https://www.snaaaper.com/shootingGallery/2489',\n",
       " 'https://www.snaaaper.com/shootingGallery/2491',\n",
       " 'https://www.snaaaper.com/shootingGallery/2492',\n",
       " 'https://www.snaaaper.com/shootingGallery/2493',\n",
       " 'https://www.snaaaper.com/shootingGallery/2494',\n",
       " 'https://www.snaaaper.com/shootingGallery/2495',\n",
       " 'https://www.snaaaper.com/shootingGallery/2514',\n",
       " 'https://www.snaaaper.com/shootingGallery/2516',\n",
       " 'https://www.snaaaper.com/shootingGallery/2517',\n",
       " 'https://www.snaaaper.com/shootingGallery/2518',\n",
       " 'https://www.snaaaper.com/shootingGallery/2519',\n",
       " 'https://www.snaaaper.com/shootingGallery/2522',\n",
       " 'https://www.snaaaper.com/shootingGallery/2523',\n",
       " 'https://www.snaaaper.com/shootingGallery/2524',\n",
       " 'https://www.snaaaper.com/shootingGallery/2525',\n",
       " 'https://www.snaaaper.com/shootingGallery/2528',\n",
       " 'https://www.snaaaper.com/shootingGallery/2529',\n",
       " 'https://www.snaaaper.com/shootingGallery/2530',\n",
       " 'https://www.snaaaper.com/shootingGallery/2531',\n",
       " 'https://www.snaaaper.com/shootingGallery/2533',\n",
       " 'https://www.snaaaper.com/shootingGallery/2534',\n",
       " 'https://www.snaaaper.com/shootingGallery/2547',\n",
       " 'https://www.snaaaper.com/shootingGallery/2548',\n",
       " 'https://www.snaaaper.com/shootingGallery/2555',\n",
       " 'https://www.snaaaper.com/shootingGallery/2558',\n",
       " 'https://www.snaaaper.com/shootingGallery/2563',\n",
       " 'https://www.snaaaper.com/shootingGallery/2567',\n",
       " 'https://www.snaaaper.com/shootingGallery/2570',\n",
       " 'https://www.snaaaper.com/shootingGallery/2580',\n",
       " 'https://www.snaaaper.com/shootingGallery/2586',\n",
       " 'https://www.snaaaper.com/shootingGallery/2588',\n",
       " 'https://www.snaaaper.com/shootingGallery/2590',\n",
       " 'https://www.snaaaper.com/shootingGallery/2601',\n",
       " 'https://www.snaaaper.com/shootingGallery/2602',\n",
       " 'https://www.snaaaper.com/shootingGallery/2603',\n",
       " 'https://www.snaaaper.com/shootingGallery/2609',\n",
       " 'https://www.snaaaper.com/shootingGallery/2613',\n",
       " 'https://www.snaaaper.com/shootingGallery/2615',\n",
       " 'https://www.snaaaper.com/shootingGallery/2616',\n",
       " 'https://www.snaaaper.com/shootingGallery/2617',\n",
       " 'https://www.snaaaper.com/shootingGallery/2622',\n",
       " 'https://www.snaaaper.com/shootingGallery/2623',\n",
       " 'https://www.snaaaper.com/shootingGallery/2624',\n",
       " 'https://www.snaaaper.com/shootingGallery/2626',\n",
       " 'https://www.snaaaper.com/shootingGallery/2628',\n",
       " 'https://www.snaaaper.com/shootingGallery/2631',\n",
       " 'https://www.snaaaper.com/shootingGallery/2632',\n",
       " 'https://www.snaaaper.com/shootingGallery/2635',\n",
       " 'https://www.snaaaper.com/shootingGallery/2636',\n",
       " 'https://www.snaaaper.com/shootingGallery/2637',\n",
       " 'https://www.snaaaper.com/shootingGallery/2638',\n",
       " 'https://www.snaaaper.com/shootingGallery/2639',\n",
       " 'https://www.snaaaper.com/shootingGallery/2640',\n",
       " 'https://www.snaaaper.com/shootingGallery/2641',\n",
       " 'https://www.snaaaper.com/shootingGallery/2642',\n",
       " 'https://www.snaaaper.com/shootingGallery/2643',\n",
       " 'https://www.snaaaper.com/shootingGallery/2644',\n",
       " 'https://www.snaaaper.com/shootingGallery/2647',\n",
       " 'https://www.snaaaper.com/shootingGallery/2648',\n",
       " 'https://www.snaaaper.com/shootingGallery/2656',\n",
       " 'https://www.snaaaper.com/shootingGallery/2665',\n",
       " 'https://www.snaaaper.com/shootingGallery/2667',\n",
       " 'https://www.snaaaper.com/shootingGallery/2668',\n",
       " 'https://www.snaaaper.com/shootingGallery/2679',\n",
       " 'https://www.snaaaper.com/shootingGallery/2680',\n",
       " 'https://www.snaaaper.com/shootingGallery/2684',\n",
       " 'https://www.snaaaper.com/shootingGallery/2699',\n",
       " 'https://www.snaaaper.com/shootingGallery/2700',\n",
       " 'https://www.snaaaper.com/shootingGallery/2704',\n",
       " 'https://www.snaaaper.com/shootingGallery/2708',\n",
       " 'https://www.snaaaper.com/shootingGallery/2709',\n",
       " 'https://www.snaaaper.com/shootingGallery/2713',\n",
       " 'https://www.snaaaper.com/shootingGallery/2714',\n",
       " 'https://www.snaaaper.com/shootingGallery/2715',\n",
       " 'https://www.snaaaper.com/shootingGallery/2716',\n",
       " 'https://www.snaaaper.com/shootingGallery/2717',\n",
       " 'https://www.snaaaper.com/shootingGallery/2729',\n",
       " 'https://www.snaaaper.com/shootingGallery/2731',\n",
       " 'https://www.snaaaper.com/shootingGallery/2735',\n",
       " 'https://www.snaaaper.com/shootingGallery/2736',\n",
       " 'https://www.snaaaper.com/shootingGallery/2741',\n",
       " 'https://www.snaaaper.com/shootingGallery/2744',\n",
       " 'https://www.snaaaper.com/shootingGallery/2746',\n",
       " 'https://www.snaaaper.com/shootingGallery/2749',\n",
       " 'https://www.snaaaper.com/shootingGallery/2750',\n",
       " 'https://www.snaaaper.com/shootingGallery/2751',\n",
       " 'https://www.snaaaper.com/shootingGallery/2753',\n",
       " 'https://www.snaaaper.com/shootingGallery/2756',\n",
       " 'https://www.snaaaper.com/shootingGallery/2758',\n",
       " 'https://www.snaaaper.com/shootingGallery/2760',\n",
       " 'https://www.snaaaper.com/shootingGallery/2766',\n",
       " 'https://www.snaaaper.com/shootingGallery/2767',\n",
       " 'https://www.snaaaper.com/shootingGallery/2774',\n",
       " 'https://www.snaaaper.com/shootingGallery/2776',\n",
       " 'https://www.snaaaper.com/shootingGallery/2777',\n",
       " 'https://www.snaaaper.com/shootingGallery/2778',\n",
       " 'https://www.snaaaper.com/shootingGallery/2779',\n",
       " 'https://www.snaaaper.com/shootingGallery/2783',\n",
       " 'https://www.snaaaper.com/shootingGallery/2787',\n",
       " 'https://www.snaaaper.com/shootingGallery/2788',\n",
       " 'https://www.snaaaper.com/shootingGallery/2789',\n",
       " 'https://www.snaaaper.com/shootingGallery/2790',\n",
       " 'https://www.snaaaper.com/shootingGallery/2795',\n",
       " 'https://www.snaaaper.com/shootingGallery/2804',\n",
       " 'https://www.snaaaper.com/shootingGallery/2806',\n",
       " 'https://www.snaaaper.com/shootingGallery/2810',\n",
       " 'https://www.snaaaper.com/shootingGallery/2812',\n",
       " 'https://www.snaaaper.com/shootingGallery/2814',\n",
       " 'https://www.snaaaper.com/shootingGallery/2818',\n",
       " 'https://www.snaaaper.com/shootingGallery/2826',\n",
       " 'https://www.snaaaper.com/shootingGallery/2827',\n",
       " 'https://www.snaaaper.com/shootingGallery/2829',\n",
       " 'https://www.snaaaper.com/shootingGallery/2831',\n",
       " 'https://www.snaaaper.com/shootingGallery/2835',\n",
       " 'https://www.snaaaper.com/shootingGallery/2839',\n",
       " 'https://www.snaaaper.com/shootingGallery/2844',\n",
       " 'https://www.snaaaper.com/shootingGallery/2851',\n",
       " 'https://www.snaaaper.com/shootingGallery/2853',\n",
       " 'https://www.snaaaper.com/shootingGallery/2856',\n",
       " 'https://www.snaaaper.com/shootingGallery/2861',\n",
       " 'https://www.snaaaper.com/shootingGallery/2864',\n",
       " 'https://www.snaaaper.com/shootingGallery/2865',\n",
       " 'https://www.snaaaper.com/shootingGallery/2866',\n",
       " 'https://www.snaaaper.com/shootingGallery/2867',\n",
       " 'https://www.snaaaper.com/shootingGallery/2868',\n",
       " 'https://www.snaaaper.com/shootingGallery/2869',\n",
       " 'https://www.snaaaper.com/shootingGallery/2880',\n",
       " 'https://www.snaaaper.com/shootingGallery/2881',\n",
       " 'https://www.snaaaper.com/shootingGallery/2882',\n",
       " 'https://www.snaaaper.com/shootingGallery/2889',\n",
       " 'https://www.snaaaper.com/shootingGallery/2891',\n",
       " 'https://www.snaaaper.com/shootingGallery/2893',\n",
       " 'https://www.snaaaper.com/shootingGallery/2897',\n",
       " 'https://www.snaaaper.com/shootingGallery/2900',\n",
       " 'https://www.snaaaper.com/shootingGallery/2902',\n",
       " 'https://www.snaaaper.com/shootingGallery/2904',\n",
       " 'https://www.snaaaper.com/shootingGallery/2905',\n",
       " 'https://www.snaaaper.com/shootingGallery/2906',\n",
       " 'https://www.snaaaper.com/shootingGallery/2915',\n",
       " 'https://www.snaaaper.com/shootingGallery/2917',\n",
       " 'https://www.snaaaper.com/shootingGallery/2918',\n",
       " 'https://www.snaaaper.com/shootingGallery/2919',\n",
       " 'https://www.snaaaper.com/shootingGallery/2920',\n",
       " 'https://www.snaaaper.com/shootingGallery/2921',\n",
       " 'https://www.snaaaper.com/shootingGallery/2922',\n",
       " 'https://www.snaaaper.com/shootingGallery/2925',\n",
       " 'https://www.snaaaper.com/shootingGallery/2927',\n",
       " 'https://www.snaaaper.com/shootingGallery/2929',\n",
       " 'https://www.snaaaper.com/shootingGallery/2930',\n",
       " 'https://www.snaaaper.com/shootingGallery/2931',\n",
       " 'https://www.snaaaper.com/shootingGallery/2932',\n",
       " 'https://www.snaaaper.com/shootingGallery/2933',\n",
       " 'https://www.snaaaper.com/shootingGallery/2934',\n",
       " 'https://www.snaaaper.com/shootingGallery/2935',\n",
       " 'https://www.snaaaper.com/shootingGallery/2938',\n",
       " 'https://www.snaaaper.com/shootingGallery/2941',\n",
       " 'https://www.snaaaper.com/shootingGallery/2944',\n",
       " 'https://www.snaaaper.com/shootingGallery/2945',\n",
       " 'https://www.snaaaper.com/shootingGallery/2946',\n",
       " 'https://www.snaaaper.com/shootingGallery/2948',\n",
       " 'https://www.snaaaper.com/shootingGallery/2949',\n",
       " 'https://www.snaaaper.com/shootingGallery/2953',\n",
       " 'https://www.snaaaper.com/shootingGallery/2980',\n",
       " 'https://www.snaaaper.com/shootingGallery/2988',\n",
       " 'https://www.snaaaper.com/shootingGallery/2989',\n",
       " 'https://www.snaaaper.com/shootingGallery/2990',\n",
       " 'https://www.snaaaper.com/shootingGallery/2991',\n",
       " 'https://www.snaaaper.com/shootingGallery/2992',\n",
       " 'https://www.snaaaper.com/shootingGallery/2998',\n",
       " 'https://www.snaaaper.com/shootingGallery/3010',\n",
       " 'https://www.snaaaper.com/shootingGallery/3011',\n",
       " 'https://www.snaaaper.com/shootingGallery/3013',\n",
       " 'https://www.snaaaper.com/shootingGallery/3019',\n",
       " 'https://www.snaaaper.com/shootingGallery/3021',\n",
       " 'https://www.snaaaper.com/shootingGallery/3022',\n",
       " 'https://www.snaaaper.com/shootingGallery/3023',\n",
       " 'https://www.snaaaper.com/shootingGallery/3024',\n",
       " 'https://www.snaaaper.com/shootingGallery/3025',\n",
       " 'https://www.snaaaper.com/shootingGallery/3026',\n",
       " 'https://www.snaaaper.com/shootingGallery/3027',\n",
       " 'https://www.snaaaper.com/shootingGallery/3028',\n",
       " 'https://www.snaaaper.com/shootingGallery/3029',\n",
       " 'https://www.snaaaper.com/shootingGallery/3030',\n",
       " 'https://www.snaaaper.com/shootingGallery/3031',\n",
       " 'https://www.snaaaper.com/shootingGallery/3032',\n",
       " 'https://www.snaaaper.com/shootingGallery/3033',\n",
       " 'https://www.snaaaper.com/shootingGallery/3034',\n",
       " 'https://www.snaaaper.com/shootingGallery/3035',\n",
       " 'https://www.snaaaper.com/shootingGallery/3039',\n",
       " 'https://www.snaaaper.com/shootingGallery/3041',\n",
       " 'https://www.snaaaper.com/shootingGallery/3042',\n",
       " 'https://www.snaaaper.com/shootingGallery/3044',\n",
       " 'https://www.snaaaper.com/shootingGallery/3045',\n",
       " 'https://www.snaaaper.com/shootingGallery/3046',\n",
       " 'https://www.snaaaper.com/shootingGallery/3047',\n",
       " 'https://www.snaaaper.com/shootingGallery/3055',\n",
       " 'https://www.snaaaper.com/shootingGallery/3057',\n",
       " 'https://www.snaaaper.com/shootingGallery/3062',\n",
       " 'https://www.snaaaper.com/shootingGallery/3063',\n",
       " 'https://www.snaaaper.com/shootingGallery/3064',\n",
       " 'https://www.snaaaper.com/shootingGallery/3066',\n",
       " 'https://www.snaaaper.com/shootingGallery/3067',\n",
       " 'https://www.snaaaper.com/shootingGallery/3069',\n",
       " 'https://www.snaaaper.com/shootingGallery/3070',\n",
       " 'https://www.snaaaper.com/shootingGallery/3072',\n",
       " 'https://www.snaaaper.com/shootingGallery/3075',\n",
       " 'https://www.snaaaper.com/shootingGallery/3076',\n",
       " 'https://www.snaaaper.com/shootingGallery/3077',\n",
       " 'https://www.snaaaper.com/shootingGallery/3078',\n",
       " 'https://www.snaaaper.com/shootingGallery/3079',\n",
       " 'https://www.snaaaper.com/shootingGallery/3080',\n",
       " 'https://www.snaaaper.com/shootingGallery/3081',\n",
       " 'https://www.snaaaper.com/shootingGallery/3083',\n",
       " 'https://www.snaaaper.com/shootingGallery/3084',\n",
       " 'https://www.snaaaper.com/shootingGallery/3085',\n",
       " 'https://www.snaaaper.com/shootingGallery/3086',\n",
       " 'https://www.snaaaper.com/shootingGallery/3091',\n",
       " 'https://www.snaaaper.com/shootingGallery/3092',\n",
       " 'https://www.snaaaper.com/shootingGallery/3093',\n",
       " 'https://www.snaaaper.com/shootingGallery/3094',\n",
       " 'https://www.snaaaper.com/shootingGallery/3096',\n",
       " 'https://www.snaaaper.com/shootingGallery/3098',\n",
       " 'https://www.snaaaper.com/shootingGallery/3100',\n",
       " 'https://www.snaaaper.com/shootingGallery/3106',\n",
       " 'https://www.snaaaper.com/shootingGallery/3107',\n",
       " 'https://www.snaaaper.com/shootingGallery/3108',\n",
       " 'https://www.snaaaper.com/shootingGallery/3111',\n",
       " 'https://www.snaaaper.com/shootingGallery/3112',\n",
       " 'https://www.snaaaper.com/shootingGallery/3113',\n",
       " 'https://www.snaaaper.com/shootingGallery/3114',\n",
       " 'https://www.snaaaper.com/shootingGallery/3115',\n",
       " 'https://www.snaaaper.com/shootingGallery/3119',\n",
       " 'https://www.snaaaper.com/shootingGallery/3121',\n",
       " 'https://www.snaaaper.com/shootingGallery/3122',\n",
       " 'https://www.snaaaper.com/shootingGallery/3123',\n",
       " 'https://www.snaaaper.com/shootingGallery/3124',\n",
       " 'https://www.snaaaper.com/shootingGallery/3125',\n",
       " 'https://www.snaaaper.com/shootingGallery/3126',\n",
       " 'https://www.snaaaper.com/shootingGallery/3129',\n",
       " 'https://www.snaaaper.com/shootingGallery/3133',\n",
       " 'https://www.snaaaper.com/shootingGallery/3135',\n",
       " 'https://www.snaaaper.com/shootingGallery/3136',\n",
       " 'https://www.snaaaper.com/shootingGallery/3137',\n",
       " 'https://www.snaaaper.com/shootingGallery/3142',\n",
       " 'https://www.snaaaper.com/shootingGallery/3145',\n",
       " 'https://www.snaaaper.com/shootingGallery/3147',\n",
       " 'https://www.snaaaper.com/shootingGallery/3148',\n",
       " 'https://www.snaaaper.com/shootingGallery/3149',\n",
       " 'https://www.snaaaper.com/shootingGallery/3151',\n",
       " 'https://www.snaaaper.com/shootingGallery/3154',\n",
       " 'https://www.snaaaper.com/shootingGallery/3158',\n",
       " 'https://www.snaaaper.com/shootingGallery/3159',\n",
       " 'https://www.snaaaper.com/shootingGallery/3161',\n",
       " 'https://www.snaaaper.com/shootingGallery/3163',\n",
       " 'https://www.snaaaper.com/shootingGallery/3165',\n",
       " 'https://www.snaaaper.com/shootingGallery/3166',\n",
       " 'https://www.snaaaper.com/shootingGallery/3167',\n",
       " 'https://www.snaaaper.com/shootingGallery/3170',\n",
       " 'https://www.snaaaper.com/shootingGallery/3171',\n",
       " 'https://www.snaaaper.com/shootingGallery/3174',\n",
       " 'https://www.snaaaper.com/shootingGallery/3176',\n",
       " 'https://www.snaaaper.com/shootingGallery/3180',\n",
       " 'https://www.snaaaper.com/shootingGallery/3181',\n",
       " 'https://www.snaaaper.com/shootingGallery/3182',\n",
       " 'https://www.snaaaper.com/shootingGallery/3184',\n",
       " 'https://www.snaaaper.com/shootingGallery/3185',\n",
       " 'https://www.snaaaper.com/shootingGallery/3193',\n",
       " 'https://www.snaaaper.com/shootingGallery/3197',\n",
       " 'https://www.snaaaper.com/shootingGallery/3198',\n",
       " 'https://www.snaaaper.com/shootingGallery/3200',\n",
       " 'https://www.snaaaper.com/shootingGallery/3201',\n",
       " 'https://www.snaaaper.com/shootingGallery/3202',\n",
       " 'https://www.snaaaper.com/shootingGallery/3203',\n",
       " 'https://www.snaaaper.com/shootingGallery/3204',\n",
       " 'https://www.snaaaper.com/shootingGallery/3205',\n",
       " 'https://www.snaaaper.com/shootingGallery/3208',\n",
       " 'https://www.snaaaper.com/shootingGallery/3209',\n",
       " 'https://www.snaaaper.com/shootingGallery/3210',\n",
       " 'https://www.snaaaper.com/shootingGallery/3211',\n",
       " 'https://www.snaaaper.com/shootingGallery/3213',\n",
       " 'https://www.snaaaper.com/shootingGallery/3214',\n",
       " 'https://www.snaaaper.com/shootingGallery/3215',\n",
       " 'https://www.snaaaper.com/shootingGallery/3216',\n",
       " 'https://www.snaaaper.com/shootingGallery/3217',\n",
       " 'https://www.snaaaper.com/shootingGallery/3218',\n",
       " 'https://www.snaaaper.com/shootingGallery/3219',\n",
       " 'https://www.snaaaper.com/shootingGallery/3223',\n",
       " 'https://www.snaaaper.com/shootingGallery/3224',\n",
       " 'https://www.snaaaper.com/shootingGallery/3225',\n",
       " 'https://www.snaaaper.com/shootingGallery/3226',\n",
       " 'https://www.snaaaper.com/shootingGallery/3231',\n",
       " 'https://www.snaaaper.com/shootingGallery/3233',\n",
       " 'https://www.snaaaper.com/shootingGallery/3235',\n",
       " 'https://www.snaaaper.com/shootingGallery/3237',\n",
       " 'https://www.snaaaper.com/shootingGallery/3239',\n",
       " 'https://www.snaaaper.com/shootingGallery/3241',\n",
       " 'https://www.snaaaper.com/shootingGallery/3245',\n",
       " 'https://www.snaaaper.com/shootingGallery/3249',\n",
       " 'https://www.snaaaper.com/shootingGallery/3250',\n",
       " 'https://www.snaaaper.com/shootingGallery/3251',\n",
       " 'https://www.snaaaper.com/shootingGallery/3253',\n",
       " 'https://www.snaaaper.com/shootingGallery/3256',\n",
       " 'https://www.snaaaper.com/shootingGallery/3257',\n",
       " 'https://www.snaaaper.com/shootingGallery/3259',\n",
       " 'https://www.snaaaper.com/shootingGallery/3263',\n",
       " 'https://www.snaaaper.com/shootingGallery/3265',\n",
       " 'https://www.snaaaper.com/shootingGallery/3269',\n",
       " 'https://www.snaaaper.com/shootingGallery/3270',\n",
       " 'https://www.snaaaper.com/shootingGallery/3271',\n",
       " 'https://www.snaaaper.com/shootingGallery/3275',\n",
       " 'https://www.snaaaper.com/shootingGallery/3277',\n",
       " 'https://www.snaaaper.com/shootingGallery/3279',\n",
       " 'https://www.snaaaper.com/shootingGallery/3281',\n",
       " 'https://www.snaaaper.com/shootingGallery/3284',\n",
       " 'https://www.snaaaper.com/shootingGallery/3285',\n",
       " 'https://www.snaaaper.com/shootingGallery/3286',\n",
       " 'https://www.snaaaper.com/shootingGallery/3287',\n",
       " 'https://www.snaaaper.com/shootingGallery/3289',\n",
       " 'https://www.snaaaper.com/shootingGallery/3290',\n",
       " 'https://www.snaaaper.com/shootingGallery/3291',\n",
       " 'https://www.snaaaper.com/shootingGallery/3293',\n",
       " 'https://www.snaaaper.com/shootingGallery/3295',\n",
       " 'https://www.snaaaper.com/shootingGallery/3298',\n",
       " ...]"
      ]
     },
     "execution_count": 11,
     "metadata": {},
     "output_type": "execute_result"
    }
   ],
   "source": [
    "Link"
   ]
  },
  {
   "cell_type": "code",
   "execution_count": 195,
   "metadata": {},
   "outputs": [],
   "source": [
    "driver=webdriver.Chrome('/Users/ash/Documents/chromedriver')\n"
   ]
  },
  {
   "cell_type": "code",
   "execution_count": 196,
   "metadata": {},
   "outputs": [
    {
     "data": {
      "text/plain": [
       "'조회 2947'"
      ]
     },
     "execution_count": 196,
     "metadata": {},
     "output_type": "execute_result"
    }
   ],
   "source": [
    "driver.find_element_by_css_selector(\"body > div.wrap > div.container.p-r.reduce > section.photographer-area.clear > div.f-r > div.count-box > div:nth-child(1)\").text"
   ]
  },
  {
   "cell_type": "code",
   "execution_count": 197,
   "metadata": {},
   "outputs": [
    {
     "data": {
      "text/plain": [
       "'촬영 0'"
      ]
     },
     "execution_count": 197,
     "metadata": {},
     "output_type": "execute_result"
    }
   ],
   "source": [
    "driver.find_element_by_css_selector(\"body > div.wrap > div.container.p-r.reduce > section.photographer-area.clear > div.f-r > div.count-box > div:nth-child(4)\").text"
   ]
  },
  {
   "cell_type": "code",
   "execution_count": 198,
   "metadata": {},
   "outputs": [],
   "source": [
    "button = driver.find_element_by_xpath('/html/body/div[2]/div[1]/section[5]/div/div[2]/button')\n",
    "button.click()"
   ]
  },
  {
   "cell_type": "code",
   "execution_count": 171,
   "metadata": {},
   "outputs": [
    {
     "data": {
      "text/plain": [
       "'수많은 스냅 업체 중에 제 페이지를 방문해 주셔서 감사합니다.  우리 아가의 첫 생일을 맞이하여 많은 고민 중이시죠..  신중하게 고민하신 만큼!! 소중하게 한 장 한 장 담아드리도록 하겠습니다.  선택하신 순간 퀄리티에 만족,가격도 만족, 신속함에 만족하실수있게 최선을 다하겠습니다.  촬영하고 10일 이내에 원본을 E-mail을 통해 받아보실 수 있습니다.  원본 자체적으로 기본 밝기와 색감을 전체 수정하여 드리기 때문에 언제 어디서나 출력 인화를 하셔서 무관합니다.  {누군가에게 나도 모르게추천하고있는 사진을 모든사람에게 공유하고 알리고싶은 욕구가 들만큼 촬영해드리도록 하겠습니다. 또한 그런 작가가 될 수 있도록노력합니다.}'"
      ]
     },
     "execution_count": 171,
     "metadata": {},
     "output_type": "execute_result"
    }
   ],
   "source": [
    "driver.find_element_by_css_selector(\"body > div.wrap > div.container.p-r.reduce > section:nth-child(9) > div > div.text-gradient.pointer.open\").text.replace(\"\\n\", \" \")"
   ]
  },
  {
   "cell_type": "code",
   "execution_count": 165,
   "metadata": {},
   "outputs": [
    {
     "data": {
      "text/plain": [
       "\"촬영 상세/비용     A 타입(파일형) 150,000원 (평일) 200,000원 (주말/휴일) B 타입(패키지형) 200,000원 (평일) 300,000원 (주말/휴일) C 타입(패키지형) 350,000원 (평일) 450,000원 (주말/휴일) D 타입(패키지형) 500,000원 (평일) 600,000원 (주말/휴일) 예약금 40,000원 (주말, 기본상품 기준) 100,000원 (주말, 기본상품 기준) 120,000원 (주말, 기본상품 기준) 120,000원 (주말, 기본상품 기준) 촬영시간 1시간 2.5시간 3시간 3시간 촬영범위 포함: 가족사진촬영+돌잡이영상+행사스냅촬영 불포함 : 사전 연출촬영 포함: 행사1시간전 사전촬영+가족사진+돌잡이영상 불포함 : 해당사항없음. 포함: 행사1시간전사전촬영+돌잡이영상+가족사진+행사사진 불포함 : 해당사항없음 포함: 행사1시간전연출촬영+가족사진+돌잡이영상+행사사진 불포함 : 해당사항없음 제공컷 원본 : 최소 '300'컷 보정본 : 최소 '30'컷 원본 : 최소 '500'컷 보정본 : 최소 '30'컷 원본 : 최소 '500'컷 보정본 : 최소 '50'컷 원본 : 최소 '500'컷 보정본 : 최소 '50'컷 보정범위 가능 : 크롭핑, 톤/색감 보정 불가 : 합성, 과도한 성형 가능 : 기본색보정+성형보정 불가 : 합성및 기타 상황에따라 (사이즈는 web용) 가능 : 기본색감보정+성형보정 불가 : 합성및 기타 상황에따라 (사이즈는 web용) 가능 : 기본색감보정+성형보정 불가 : 합성및 기타 상황에따라 (사이즈는 web용) 파일제공 촬영파일 : 제공 보정파일 : 제공  파일전달방법 : 이메일 파일 전달기간 : 촬영이 완료된 날로 부터 '30'일 촬영파일 : 제공 보정파일 : 제공  파일전달방법 : e-mail 파일 전달기간 : 촬영이 완료된 날로 부터 '10'일 촬영파일 : 제공 보정파일 : 제공  파일전달방법 : e-mail 파일 전달기간 : 촬영이 완료된 날로 부터 '10'일 촬영파일 : 제공 보정파일 : 제공  파일전달방법 : e-mail 파일 전달기간 : 촬영이 완료된 날로 부터 '15'일 파일 외 제공상품 해당없음 * 액자SET, 1개  - 사이즈 : 11 X 14  - 설명 : 아크릴액자  - 제작기간 : 15일  * 인화SET, 50개  - 사이즈 : 5 X 7  - 설명 : 무광,유광선택가능  - 제작기간 : 15일  * 액자SET, 2개  - 사이즈 : 8 X 10  - 설명 : 아크릴액자  - 제작기간 : 15일  * 액자SET, 1개  - 사이즈 : 11 X 14  - 설명 : 아크릴액자  - 제작기간 : 15일  * 인화SET, 50개  - 사이즈 : 5 X 7  - 설명 : 무광,유광선택  - 제작기간 : 15일  * 액자SET, 1개  - 사이즈 : 11 X 14  - 설명 : 아크릴액자  - 제작기간 : 15일  * 앨범SET, 20개  - 사이즈 : 10 X 10  - 설명 : 압축앨범  - 제작기간 : 15일  추가시간당 1시간 추가당 : 100,000원 1시간 추가당 : 50,000원 1시간 추가당 : 50,000원 1시간 추가당 : 50,000원 추가가능 옵션\""
      ]
     },
     "execution_count": 165,
     "metadata": {},
     "output_type": "execute_result"
    }
   ],
   "source": [
    "driver.find_element_by_css_selector(\"body > div.wrap > div.container.p-r.reduce > section:nth-child(11)\").text.replace(\"\\n\", \" \")"
   ]
  },
  {
   "cell_type": "code",
   "execution_count": null,
   "metadata": {},
   "outputs": [],
   "source": [
    "body > div.wrap > div.container.p-r.reduce > section:nth-child(11) > div.p-t-5 > table > thead"
   ]
  },
  {
   "cell_type": "code",
   "execution_count": 161,
   "metadata": {},
   "outputs": [
    {
     "data": {
      "text/plain": [
       "'포토그래퍼 이영호'"
      ]
     },
     "execution_count": 161,
     "metadata": {},
     "output_type": "execute_result"
    }
   ],
   "source": [
    "driver.find_element_by_css_selector(\"#photographerInfo > div > div:nth-child(2) > div > span.name\").text"
   ]
  },
  {
   "cell_type": "code",
   "execution_count": 162,
   "metadata": {},
   "outputs": [
    {
     "data": {
      "text/plain": [
       "'장비 / 렌즈 / 포토그래퍼가 된 계기 가능 언어 한국어(상)'"
      ]
     },
     "execution_count": 162,
     "metadata": {},
     "output_type": "execute_result"
    }
   ],
   "source": [
    "driver.find_element_by_css_selector(\"body > div.wrap > div.container.p-r.reduce > div.change-pc-layout > div.part3.clear > section.area1\").text.replace(\"\\n\", \" \")"
   ]
  },
  {
   "cell_type": "markdown",
   "metadata": {},
   "source": [
    "### snaaaper crawling"
   ]
  },
  {
   "cell_type": "code",
   "execution_count": null,
   "metadata": {},
   "outputs": [],
   "source": [
    "webdriver_options = webdriver.ChromeOptions()\n",
    "webdriver_options .add_argument('headless')\n",
    "driver=webdriver.Chrome('/Users/ash/Documents/chromedriver', options=webdriver_options)"
   ]
  },
  {
   "cell_type": "code",
   "execution_count": 17,
   "metadata": {
    "collapsed": true,
    "jupyter": {
     "outputs_hidden": true
    }
   },
   "outputs": [
    {
     "name": "stderr",
     "output_type": "stream",
     "text": [
      "  3%|▎         | 175/5165 [07:27<4:00:22,  2.89s/it]"
     ]
    },
    {
     "name": "stdout",
     "output_type": "stream",
     "text": [
      "error\n"
     ]
    },
    {
     "name": "stderr",
     "output_type": "stream",
     "text": [
      "  3%|▎         | 176/5165 [07:35<6:13:06,  4.49s/it]"
     ]
    },
    {
     "name": "stdout",
     "output_type": "stream",
     "text": [
      "error\n"
     ]
    },
    {
     "name": "stderr",
     "output_type": "stream",
     "text": [
      "  4%|▎         | 193/5165 [08:35<4:34:52,  3.32s/it]"
     ]
    },
    {
     "name": "stdout",
     "output_type": "stream",
     "text": [
      "error\n"
     ]
    },
    {
     "name": "stderr",
     "output_type": "stream",
     "text": [
      "  4%|▍         | 195/5165 [08:47<6:24:45,  4.64s/it]"
     ]
    },
    {
     "name": "stdout",
     "output_type": "stream",
     "text": [
      "error\n"
     ]
    },
    {
     "name": "stderr",
     "output_type": "stream",
     "text": [
      "  4%|▍         | 197/5165 [09:00<7:20:14,  5.32s/it]"
     ]
    },
    {
     "name": "stdout",
     "output_type": "stream",
     "text": [
      "error\n"
     ]
    },
    {
     "name": "stderr",
     "output_type": "stream",
     "text": [
      "  4%|▍         | 208/5165 [09:46<4:59:25,  3.62s/it]"
     ]
    },
    {
     "name": "stdout",
     "output_type": "stream",
     "text": [
      "error\n"
     ]
    },
    {
     "name": "stderr",
     "output_type": "stream",
     "text": [
      "  4%|▍         | 210/5165 [10:02<7:56:32,  5.77s/it]"
     ]
    },
    {
     "name": "stdout",
     "output_type": "stream",
     "text": [
      "error\n"
     ]
    },
    {
     "name": "stderr",
     "output_type": "stream",
     "text": [
      "  4%|▍         | 223/5165 [10:50<4:13:52,  3.08s/it]"
     ]
    },
    {
     "name": "stdout",
     "output_type": "stream",
     "text": [
      "error\n"
     ]
    },
    {
     "name": "stderr",
     "output_type": "stream",
     "text": [
      "  4%|▍         | 226/5165 [11:03<4:53:08,  3.56s/it]"
     ]
    },
    {
     "name": "stdout",
     "output_type": "stream",
     "text": [
      "error\n"
     ]
    },
    {
     "name": "stderr",
     "output_type": "stream",
     "text": [
      "  5%|▍         | 251/5165 [12:13<3:05:49,  2.27s/it]"
     ]
    },
    {
     "name": "stdout",
     "output_type": "stream",
     "text": [
      "error\n"
     ]
    },
    {
     "name": "stderr",
     "output_type": "stream",
     "text": [
      "  5%|▍         | 252/5165 [12:27<7:50:32,  5.75s/it]"
     ]
    },
    {
     "name": "stdout",
     "output_type": "stream",
     "text": [
      "error\n"
     ]
    },
    {
     "name": "stderr",
     "output_type": "stream",
     "text": [
      "  5%|▌         | 265/5165 [13:14<3:26:45,  2.53s/it]"
     ]
    },
    {
     "name": "stdout",
     "output_type": "stream",
     "text": [
      "error\n"
     ]
    },
    {
     "name": "stderr",
     "output_type": "stream",
     "text": [
      "  5%|▌         | 267/5165 [13:25<5:02:27,  3.71s/it]"
     ]
    },
    {
     "name": "stdout",
     "output_type": "stream",
     "text": [
      "error\n"
     ]
    },
    {
     "name": "stderr",
     "output_type": "stream",
     "text": [
      "  5%|▌         | 273/5165 [13:49<5:35:18,  4.11s/it]"
     ]
    },
    {
     "name": "stdout",
     "output_type": "stream",
     "text": [
      "error\n"
     ]
    },
    {
     "name": "stderr",
     "output_type": "stream",
     "text": [
      "  5%|▌         | 274/5165 [13:58<7:38:11,  5.62s/it]"
     ]
    },
    {
     "name": "stdout",
     "output_type": "stream",
     "text": [
      "error\n"
     ]
    },
    {
     "name": "stderr",
     "output_type": "stream",
     "text": [
      "  5%|▌         | 275/5165 [14:07<8:51:59,  6.53s/it]"
     ]
    },
    {
     "name": "stdout",
     "output_type": "stream",
     "text": [
      "error\n"
     ]
    },
    {
     "name": "stderr",
     "output_type": "stream",
     "text": [
      "  6%|▌         | 285/5165 [14:53<6:08:07,  4.53s/it] "
     ]
    },
    {
     "name": "stdout",
     "output_type": "stream",
     "text": [
      "error\n"
     ]
    },
    {
     "name": "stderr",
     "output_type": "stream",
     "text": [
      "  7%|▋         | 347/5165 [18:25<3:56:28,  2.94s/it]"
     ]
    },
    {
     "name": "stdout",
     "output_type": "stream",
     "text": [
      "error\n"
     ]
    },
    {
     "name": "stderr",
     "output_type": "stream",
     "text": [
      "  7%|▋         | 383/5165 [20:32<5:11:32,  3.91s/it]"
     ]
    },
    {
     "name": "stdout",
     "output_type": "stream",
     "text": [
      "error\n"
     ]
    },
    {
     "name": "stderr",
     "output_type": "stream",
     "text": [
      " 16%|█▌        | 803/5165 [44:04<3:24:40,  2.82s/it]"
     ]
    },
    {
     "name": "stdout",
     "output_type": "stream",
     "text": [
      "error\n"
     ]
    },
    {
     "name": "stderr",
     "output_type": "stream",
     "text": [
      " 16%|█▌        | 818/5165 [45:14<5:21:18,  4.43s/it]"
     ]
    },
    {
     "name": "stdout",
     "output_type": "stream",
     "text": [
      "error\n"
     ]
    },
    {
     "name": "stderr",
     "output_type": "stream",
     "text": [
      " 46%|████▌     | 2384/5165 [1:52:45<2:11:31,  2.84s/it]\n"
     ]
    },
    {
     "ename": "WebDriverException",
     "evalue": "Message: disconnected: Unable to receive message from renderer\n  (Session info: chrome=87.0.4280.141)\n",
     "output_type": "error",
     "traceback": [
      "\u001b[0;31m---------------------------------------------------------------------------\u001b[0m",
      "\u001b[0;31mWebDriverException\u001b[0m                        Traceback (most recent call last)",
      "\u001b[0;32m<ipython-input-17-df44c08826eb>\u001b[0m in \u001b[0;36m<module>\u001b[0;34m\u001b[0m\n\u001b[1;32m     13\u001b[0m     \u001b[0;32mif\u001b[0m \u001b[0murlopen\u001b[0m\u001b[0;34m(\u001b[0m\u001b[0mlink\u001b[0m\u001b[0;34m)\u001b[0m\u001b[0;34m:\u001b[0m\u001b[0;34m\u001b[0m\u001b[0;34m\u001b[0m\u001b[0m\n\u001b[1;32m     14\u001b[0m \u001b[0;34m\u001b[0m\u001b[0m\n\u001b[0;32m---> 15\u001b[0;31m         \u001b[0mdriver\u001b[0m\u001b[0;34m.\u001b[0m\u001b[0mget\u001b[0m\u001b[0;34m(\u001b[0m\u001b[0mlink\u001b[0m\u001b[0;34m)\u001b[0m\u001b[0;34m\u001b[0m\u001b[0;34m\u001b[0m\u001b[0m\n\u001b[0m\u001b[1;32m     16\u001b[0m         \u001b[0mdriver\u001b[0m\u001b[0;34m.\u001b[0m\u001b[0mimplicitly_wait\u001b[0m\u001b[0;34m(\u001b[0m\u001b[0;36m2\u001b[0m\u001b[0;34m)\u001b[0m\u001b[0;34m\u001b[0m\u001b[0;34m\u001b[0m\u001b[0m\n\u001b[1;32m     17\u001b[0m         \u001b[0;32mtry\u001b[0m\u001b[0;34m:\u001b[0m\u001b[0;34m\u001b[0m\u001b[0;34m\u001b[0m\u001b[0m\n",
      "\u001b[0;32m~/opt/anaconda3/envs/dss/lib/python3.7/site-packages/selenium/webdriver/remote/webdriver.py\u001b[0m in \u001b[0;36mget\u001b[0;34m(self, url)\u001b[0m\n\u001b[1;32m    331\u001b[0m         \u001b[0mLoads\u001b[0m \u001b[0ma\u001b[0m \u001b[0mweb\u001b[0m \u001b[0mpage\u001b[0m \u001b[0;32min\u001b[0m \u001b[0mthe\u001b[0m \u001b[0mcurrent\u001b[0m \u001b[0mbrowser\u001b[0m \u001b[0msession\u001b[0m\u001b[0;34m.\u001b[0m\u001b[0;34m\u001b[0m\u001b[0;34m\u001b[0m\u001b[0m\n\u001b[1;32m    332\u001b[0m         \"\"\"\n\u001b[0;32m--> 333\u001b[0;31m         \u001b[0mself\u001b[0m\u001b[0;34m.\u001b[0m\u001b[0mexecute\u001b[0m\u001b[0;34m(\u001b[0m\u001b[0mCommand\u001b[0m\u001b[0;34m.\u001b[0m\u001b[0mGET\u001b[0m\u001b[0;34m,\u001b[0m \u001b[0;34m{\u001b[0m\u001b[0;34m'url'\u001b[0m\u001b[0;34m:\u001b[0m \u001b[0murl\u001b[0m\u001b[0;34m}\u001b[0m\u001b[0;34m)\u001b[0m\u001b[0;34m\u001b[0m\u001b[0;34m\u001b[0m\u001b[0m\n\u001b[0m\u001b[1;32m    334\u001b[0m \u001b[0;34m\u001b[0m\u001b[0m\n\u001b[1;32m    335\u001b[0m     \u001b[0;34m@\u001b[0m\u001b[0mproperty\u001b[0m\u001b[0;34m\u001b[0m\u001b[0;34m\u001b[0m\u001b[0m\n",
      "\u001b[0;32m~/opt/anaconda3/envs/dss/lib/python3.7/site-packages/selenium/webdriver/remote/webdriver.py\u001b[0m in \u001b[0;36mexecute\u001b[0;34m(self, driver_command, params)\u001b[0m\n\u001b[1;32m    319\u001b[0m         \u001b[0mresponse\u001b[0m \u001b[0;34m=\u001b[0m \u001b[0mself\u001b[0m\u001b[0;34m.\u001b[0m\u001b[0mcommand_executor\u001b[0m\u001b[0;34m.\u001b[0m\u001b[0mexecute\u001b[0m\u001b[0;34m(\u001b[0m\u001b[0mdriver_command\u001b[0m\u001b[0;34m,\u001b[0m \u001b[0mparams\u001b[0m\u001b[0;34m)\u001b[0m\u001b[0;34m\u001b[0m\u001b[0;34m\u001b[0m\u001b[0m\n\u001b[1;32m    320\u001b[0m         \u001b[0;32mif\u001b[0m \u001b[0mresponse\u001b[0m\u001b[0;34m:\u001b[0m\u001b[0;34m\u001b[0m\u001b[0;34m\u001b[0m\u001b[0m\n\u001b[0;32m--> 321\u001b[0;31m             \u001b[0mself\u001b[0m\u001b[0;34m.\u001b[0m\u001b[0merror_handler\u001b[0m\u001b[0;34m.\u001b[0m\u001b[0mcheck_response\u001b[0m\u001b[0;34m(\u001b[0m\u001b[0mresponse\u001b[0m\u001b[0;34m)\u001b[0m\u001b[0;34m\u001b[0m\u001b[0;34m\u001b[0m\u001b[0m\n\u001b[0m\u001b[1;32m    322\u001b[0m             response['value'] = self._unwrap_value(\n\u001b[1;32m    323\u001b[0m                 response.get('value', None))\n",
      "\u001b[0;32m~/opt/anaconda3/envs/dss/lib/python3.7/site-packages/selenium/webdriver/remote/errorhandler.py\u001b[0m in \u001b[0;36mcheck_response\u001b[0;34m(self, response)\u001b[0m\n\u001b[1;32m    240\u001b[0m                 \u001b[0malert_text\u001b[0m \u001b[0;34m=\u001b[0m \u001b[0mvalue\u001b[0m\u001b[0;34m[\u001b[0m\u001b[0;34m'alert'\u001b[0m\u001b[0;34m]\u001b[0m\u001b[0;34m.\u001b[0m\u001b[0mget\u001b[0m\u001b[0;34m(\u001b[0m\u001b[0;34m'text'\u001b[0m\u001b[0;34m)\u001b[0m\u001b[0;34m\u001b[0m\u001b[0;34m\u001b[0m\u001b[0m\n\u001b[1;32m    241\u001b[0m             \u001b[0;32mraise\u001b[0m \u001b[0mexception_class\u001b[0m\u001b[0;34m(\u001b[0m\u001b[0mmessage\u001b[0m\u001b[0;34m,\u001b[0m \u001b[0mscreen\u001b[0m\u001b[0;34m,\u001b[0m \u001b[0mstacktrace\u001b[0m\u001b[0;34m,\u001b[0m \u001b[0malert_text\u001b[0m\u001b[0;34m)\u001b[0m\u001b[0;34m\u001b[0m\u001b[0;34m\u001b[0m\u001b[0m\n\u001b[0;32m--> 242\u001b[0;31m         \u001b[0;32mraise\u001b[0m \u001b[0mexception_class\u001b[0m\u001b[0;34m(\u001b[0m\u001b[0mmessage\u001b[0m\u001b[0;34m,\u001b[0m \u001b[0mscreen\u001b[0m\u001b[0;34m,\u001b[0m \u001b[0mstacktrace\u001b[0m\u001b[0;34m)\u001b[0m\u001b[0;34m\u001b[0m\u001b[0;34m\u001b[0m\u001b[0m\n\u001b[0m\u001b[1;32m    243\u001b[0m \u001b[0;34m\u001b[0m\u001b[0m\n\u001b[1;32m    244\u001b[0m     \u001b[0;32mdef\u001b[0m \u001b[0m_value_or_default\u001b[0m\u001b[0;34m(\u001b[0m\u001b[0mself\u001b[0m\u001b[0;34m,\u001b[0m \u001b[0mobj\u001b[0m\u001b[0;34m,\u001b[0m \u001b[0mkey\u001b[0m\u001b[0;34m,\u001b[0m \u001b[0mdefault\u001b[0m\u001b[0;34m)\u001b[0m\u001b[0;34m:\u001b[0m\u001b[0;34m\u001b[0m\u001b[0;34m\u001b[0m\u001b[0m\n",
      "\u001b[0;31mWebDriverException\u001b[0m: Message: disconnected: Unable to receive message from renderer\n  (Session info: chrome=87.0.4280.141)\n"
     ]
    }
   ],
   "source": [
    "\n",
    "driver=webdriver.Chrome('/Users/ash/Documents/chromedriver')\n",
    "snaaaper_columns = [\"이름\", \"장비\", \"조회수\", \"작업수\", \"설명\", \"가격\"]\n",
    "Snaaaper = pd.DataFrame(columns=snaaaper_columns)\n",
    "Name = []\n",
    "Equip = []\n",
    "View = []\n",
    "Contract = []\n",
    "Detail = []\n",
    "Price = []\n",
    "\n",
    "\n",
    "for link in tqdm(Link):\n",
    "    if urlopen(link):\n",
    "        \n",
    "        driver.get(link)\n",
    "        driver.implicitly_wait(2)\n",
    "        try:\n",
    "            button = driver.find_element_by_xpath('/html/body/div[2]/div[1]/section[5]/div/div[2]/button')\n",
    "            button.click()\n",
    "            driver.implicitly_wait(2)\n",
    "        except:\n",
    "            print(\"error\")\n",
    "\n",
    "        try: \n",
    "            name = driver.find_element_by_css_selector(\"#photographerInfo > div > div:nth-child(2) > div > span.name\").text\n",
    "        except:\n",
    "            name = \"-\"\n",
    "        try:\n",
    "            equip = driver.find_element_by_css_selector(\"body > div.wrap > div.container.p-r.reduce > div.change-pc-layout > div.part3.clear > section.area1\").text.replace(\"\\n\", \" \")\n",
    "        except:\n",
    "            equip = \"-\"\n",
    "        try:\n",
    "            view = driver.find_element_by_css_selector(\"body > div.wrap > div.container.p-r.reduce > section.photographer-area.clear > div.f-r > div.count-box > div:nth-child(1)\").text\n",
    "        except:\n",
    "            view = \"-\"\n",
    "        try:\n",
    "            contract = driver.find_element_by_css_selector(\"body > div.wrap > div.container.p-r.reduce > section.photographer-area.clear > div.f-r > div.count-box > div:nth-child(4)\").text\n",
    "        except:\n",
    "            contract = \"-\"\n",
    "        try:\n",
    "            detail = driver.find_element_by_css_selector(\"body > div.wrap > div.container.p-r.reduce > section:nth-child(9) > div > div.text-gradient.pointer.open\").text.replace(\"\\n\", \" \")\n",
    "        except:\n",
    "            detail = \"-\"\n",
    "        try:\n",
    "            price = driver.find_element_by_css_selector(\"body > div.wrap > div.container.p-r.reduce > section:nth-child(11)\").text.replace(\"\\n\", \" \")\n",
    "        except:\n",
    "            price = \"-\"\n",
    "        Name.append(name)\n",
    "        Equip.append(equip)\n",
    "        View.append(view)\n",
    "        Contract.append(contract)\n",
    "        Detail.append(detail)\n",
    "        Price.append(price)\n",
    "\n",
    "    else:\n",
    "        err = e.read()\n",
    "        code = e.getcode()\n",
    "        print(code) ## 404\n",
    "        print(link)\n",
    "\n",
    "Snaaaper = pd.DataFrame({\"이름\" : Name, \"장비\" : Equip, \"조회수\" : View, \"작업수\" : Contract, \"설명\" : Detail, \"가격\" : Price})\n"
   ]
  },
  {
   "cell_type": "code",
   "execution_count": 212,
   "metadata": {},
   "outputs": [
    {
     "data": {
      "text/plain": [
       "16"
      ]
     },
     "execution_count": 212,
     "metadata": {},
     "output_type": "execute_result"
    }
   ],
   "source": []
  },
  {
   "cell_type": "code",
   "execution_count": 15,
   "metadata": {
    "collapsed": true,
    "jupyter": {
     "outputs_hidden": true
    }
   },
   "outputs": [
    {
     "data": {
      "text/plain": [
       "['포토그래퍼 권정철',\n",
       " '포토그래퍼 김기용',\n",
       " '포토그래퍼 신영석',\n",
       " '포토그래퍼 이동진',\n",
       " '포토그래퍼 고은진',\n",
       " '포토그래퍼 배호성',\n",
       " '포토그래퍼 박성근',\n",
       " '포토그래퍼 이현덕',\n",
       " '포토그래퍼 Jason',\n",
       " '포토그래퍼 Jason',\n",
       " '포토그래퍼 김응철',\n",
       " '포토그래퍼 김응철',\n",
       " '포토그래퍼 김소연',\n",
       " '포토그래퍼 문종성',\n",
       " '포토그래퍼 이동진',\n",
       " '포토그래퍼 한민서',\n",
       " '포토그래퍼 이가경',\n",
       " '포토그래퍼 이영호',\n",
       " '포토그래퍼 박해운',\n",
       " '포토그래퍼 이영호',\n",
       " '포토그래퍼 안현경',\n",
       " '포토그래퍼 서은하',\n",
       " '포토그래퍼 러브호야',\n",
       " '포토그래퍼 양희천',\n",
       " '포토그래퍼 김성보',\n",
       " '포토그래퍼 아이메모리즈',\n",
       " '포토그래퍼 모노그라피',\n",
       " '포토그래퍼 모노그라피',\n",
       " '포토그래퍼 남궁경상',\n",
       " '포토그래퍼 김태율',\n",
       " '포토그래퍼 진',\n",
       " '포토그래퍼 상이사',\n",
       " '포토그래퍼 유실장',\n",
       " '포토그래퍼 유실장',\n",
       " '포토그래퍼 주요환',\n",
       " '포토그래퍼 상이사',\n",
       " '포토그래퍼 김윤지vym29',\n",
       " '포토그래퍼 유실장',\n",
       " '포토그래퍼 박선영',\n",
       " '포토그래퍼 문형동',\n",
       " '포토그래퍼 권지혜',\n",
       " '포토그래퍼 JAY',\n",
       " '포토그래퍼 문스냅',\n",
       " '포토그래퍼 문스냅',\n",
       " '포토그래퍼 문형동',\n",
       " '포토그래퍼 쿠사나기',\n",
       " '포토그래퍼 러브호야',\n",
       " '포토그래퍼 권지혜',\n",
       " '포토그래퍼 은빛하늘',\n",
       " '포토그래퍼 이욱진',\n",
       " '포토그래퍼 시뮬라시옹',\n",
       " '포토그래퍼 에오스',\n",
       " '포토그래퍼 에피소드제이',\n",
       " '포토그래퍼 조병찬',\n",
       " '포토그래퍼 조병찬',\n",
       " '포토그래퍼 포토봄',\n",
       " '포토그래퍼 양희천',\n",
       " '포토그래퍼 정실장',\n",
       " '포토그래퍼 최지훈',\n",
       " '포토그래퍼 서진원',\n",
       " '포토그래퍼 빛그리기',\n",
       " '포토그래퍼 빛그리기',\n",
       " '포토그래퍼 최지훈',\n",
       " '포토그래퍼 최지훈',\n",
       " '포토그래퍼 최우성',\n",
       " '포토그래퍼 Ruakun',\n",
       " '포토그래퍼 최지훈',\n",
       " '포토그래퍼 뱅뱅',\n",
       " '포토그래퍼 빛그리기',\n",
       " '포토그래퍼 이유령',\n",
       " '포토그래퍼 스물일곱스냅',\n",
       " '포토그래퍼 남윤재',\n",
       " '포토그래퍼 남윤재',\n",
       " '포토그래퍼 강석균',\n",
       " '포토그래퍼 영구언니',\n",
       " '포토그래퍼 민트스냅',\n",
       " '포토그래퍼 민트스냅',\n",
       " '포토그래퍼 뮤트갤러리',\n",
       " '포토그래퍼 곽현철',\n",
       " '포토그래퍼 모멘토임실장',\n",
       " '포토그래퍼 모멘토임실장',\n",
       " '포토그래퍼 비안스냅',\n",
       " '포토그래퍼 비안스냅',\n",
       " '포토그래퍼 이연희',\n",
       " '포토그래퍼 최현우',\n",
       " '포토그래퍼 박해운',\n",
       " '포토그래퍼 최현우',\n",
       " '포토그래퍼 진선',\n",
       " '포토그래퍼 최현우',\n",
       " '포토그래퍼 박종명',\n",
       " '포토그래퍼 은빛하늘',\n",
       " '포토그래퍼 구익현',\n",
       " '포토그래퍼 MAUMGREEM/마음그림',\n",
       " '포토그래퍼 상이사',\n",
       " '포토그래퍼 모터아트',\n",
       " '포토그래퍼 D-Day',\n",
       " '포토그래퍼 제주스냅사진',\n",
       " '포토그래퍼 가을하늘스냅',\n",
       " '포토그래퍼 행복상자',\n",
       " '포토그래퍼 keensnap',\n",
       " '포토그래퍼 Sweetiesnap',\n",
       " '포토그래퍼 고은진',\n",
       " '포토그래퍼 HMR',\n",
       " '포토그래퍼 장호진포토그라피',\n",
       " '포토그래퍼 HMR',\n",
       " '포토그래퍼 고영상',\n",
       " '포토그래퍼 D-Day',\n",
       " '포토그래퍼 이가경',\n",
       " '포토그래퍼 JJanga',\n",
       " '포토그래퍼 박종명',\n",
       " '포토그래퍼 김창수 작가',\n",
       " '포토그래퍼 최건희',\n",
       " '포토그래퍼 정영준',\n",
       " '포토그래퍼 이욱진',\n",
       " '포토그래퍼 sunsnap',\n",
       " '포토그래퍼 안영환',\n",
       " '포토그래퍼 안영환',\n",
       " '포토그래퍼 안영환',\n",
       " '포토그래퍼 박실장',\n",
       " '포토그래퍼 박실장',\n",
       " '포토그래퍼 GENTLE BRO',\n",
       " '포토그래퍼 구익현',\n",
       " '포토그래퍼 투인원',\n",
       " '포토그래퍼 구익현',\n",
       " '포토그래퍼 By Y',\n",
       " '포토그래퍼 문실장',\n",
       " '포토그래퍼 문실장',\n",
       " '포토그래퍼 문실장',\n",
       " '포토그래퍼 투인원',\n",
       " '포토그래퍼 고영상',\n",
       " '포토그래퍼 김성환',\n",
       " '포토그래퍼 민트스냅',\n",
       " '포토그래퍼 고영상',\n",
       " '포토그래퍼 GENTLE BRO',\n",
       " '포토그래퍼 구름',\n",
       " '포토그래퍼 정실장',\n",
       " '포토그래퍼 슈스',\n",
       " '포토그래퍼 슈스',\n",
       " '포토그래퍼 이재천',\n",
       " '포토그래퍼 이중호',\n",
       " '포토그래퍼 이중호',\n",
       " '포토그래퍼 이중호',\n",
       " '포토그래퍼 불곰',\n",
       " '포토그래퍼 불곰',\n",
       " '포토그래퍼 불곰',\n",
       " '포토그래퍼 설탕물',\n",
       " '포토그래퍼 이용재',\n",
       " '포토그래퍼 이용재',\n",
       " '포토그래퍼 sunsnap',\n",
       " '포토그래퍼 주주파파',\n",
       " '포토그래퍼 스냅코코',\n",
       " '포토그래퍼 배성호']"
      ]
     },
     "execution_count": 15,
     "metadata": {},
     "output_type": "execute_result"
    }
   ],
   "source": [
    "Name"
   ]
  },
  {
   "cell_type": "code",
   "execution_count": null,
   "metadata": {},
   "outputs": [],
   "source": []
  },
  {
   "cell_type": "code",
   "execution_count": 179,
   "metadata": {},
   "outputs": [],
   "source": [
    "snaaaper_columns = [\"이름\", \"장비\", \"조회수\", \"작업수\", \"설명\", \"가격\"]"
   ]
  },
  {
   "cell_type": "code",
   "execution_count": 184,
   "metadata": {},
   "outputs": [],
   "source": [
    "Snaaaper = pd.DataFrame(columns=snaaaper_columns)"
   ]
  },
  {
   "cell_type": "code",
   "execution_count": 185,
   "metadata": {},
   "outputs": [
    {
     "data": {
      "text/html": [
       "<div>\n",
       "<style scoped>\n",
       "    .dataframe tbody tr th:only-of-type {\n",
       "        vertical-align: middle;\n",
       "    }\n",
       "\n",
       "    .dataframe tbody tr th {\n",
       "        vertical-align: top;\n",
       "    }\n",
       "\n",
       "    .dataframe thead th {\n",
       "        text-align: right;\n",
       "    }\n",
       "</style>\n",
       "<table border=\"1\" class=\"dataframe\">\n",
       "  <thead>\n",
       "    <tr style=\"text-align: right;\">\n",
       "      <th></th>\n",
       "      <th>이름</th>\n",
       "      <th>장비</th>\n",
       "      <th>조회수</th>\n",
       "      <th>작업수</th>\n",
       "      <th>설명</th>\n",
       "      <th>가격</th>\n",
       "    </tr>\n",
       "  </thead>\n",
       "  <tbody>\n",
       "  </tbody>\n",
       "</table>\n",
       "</div>"
      ],
      "text/plain": [
       "Empty DataFrame\n",
       "Columns: [이름, 장비, 조회수, 작업수, 설명, 가격]\n",
       "Index: []"
      ]
     },
     "execution_count": 185,
     "metadata": {},
     "output_type": "execute_result"
    }
   ],
   "source": [
    "Snaaaper"
   ]
  },
  {
   "cell_type": "code",
   "execution_count": null,
   "metadata": {},
   "outputs": [],
   "source": []
  }
 ],
 "metadata": {
  "kernelspec": {
   "display_name": "Python 3",
   "language": "python",
   "name": "python3"
  },
  "language_info": {
   "codemirror_mode": {
    "name": "ipython",
    "version": 3
   },
   "file_extension": ".py",
   "mimetype": "text/x-python",
   "name": "python",
   "nbconvert_exporter": "python",
   "pygments_lexer": "ipython3",
   "version": "3.7.7"
  }
 },
 "nbformat": 4,
 "nbformat_minor": 4
}
