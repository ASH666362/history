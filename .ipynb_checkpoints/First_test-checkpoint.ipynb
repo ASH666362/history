{
 "cells": [
  {
   "cell_type": "code",
   "execution_count": 1,
   "metadata": {},
   "outputs": [],
   "source": [
    "import requests\n",
    "from bs4 import BeautifulSoup\n",
    "from urllib.request import urlopen\n",
    "import csv"
   ]
  },
  {
   "cell_type": "code",
   "execution_count": 2,
   "metadata": {},
   "outputs": [],
   "source": [
    "from selenium import webdriver\n",
    "import pandas as pd\n",
    "from pandas import DataFrame\n",
    "import scrapy\n",
    "import requests\n",
    "from scrapy.http import TextResponse "
   ]
  },
  {
   "cell_type": "code",
   "execution_count": 3,
   "metadata": {},
   "outputs": [],
   "source": [
    "import numpy as np\n",
    "import os"
   ]
  },
  {
   "cell_type": "code",
   "execution_count": 4,
   "metadata": {},
   "outputs": [],
   "source": [
    "import time\n",
    "from selenium.webdriver.common.keys import Keys"
   ]
  },
  {
   "cell_type": "code",
   "execution_count": 5,
   "metadata": {},
   "outputs": [],
   "source": [
    "from selenium.webdriver.common.by import By\n",
    "from selenium.webdriver.support.ui import WebDriverWait\n",
    "from selenium.webdriver.support import expected_conditions as EC"
   ]
  },
  {
   "cell_type": "code",
   "execution_count": 17,
   "metadata": {},
   "outputs": [],
   "source": [
    "driver=webdriver.Chrome('/Users/ash/Documents/chromedriver')\n"
   ]
  },
  {
   "cell_type": "code",
   "execution_count": 179,
   "metadata": {},
   "outputs": [
    {
     "name": "stdout",
     "output_type": "stream",
     "text": [
      "https://kmong.com/gig/71759\n"
     ]
    }
   ],
   "source": [
    "a = driver.find_element_by_class_name('GigList')\n",
    "b = a.find_element_by_tag_name('a')\n",
    "c = b.get_attribute('href')\n",
    "print(c)"
   ]
  },
  {
   "cell_type": "code",
   "execution_count": 136,
   "metadata": {},
   "outputs": [
    {
     "ename": "WebDriverException",
     "evalue": "Message: chrome not reachable\n  (Session info: chrome=87.0.4280.88)\n",
     "output_type": "error",
     "traceback": [
      "\u001b[0;31m---------------------------------------------------------------------------\u001b[0m",
      "\u001b[0;31mWebDriverException\u001b[0m                        Traceback (most recent call last)",
      "\u001b[0;32m<ipython-input-136-bece128b48a4>\u001b[0m in \u001b[0;36m<module>\u001b[0;34m\u001b[0m\n\u001b[0;32m----> 1\u001b[0;31m \u001b[0melement\u001b[0m \u001b[0;34m=\u001b[0m \u001b[0mdriver\u001b[0m\u001b[0;34m.\u001b[0m\u001b[0mfind_element_by_tag_name\u001b[0m\u001b[0;34m(\u001b[0m\u001b[0;34m'body'\u001b[0m\u001b[0;34m)\u001b[0m\u001b[0;34m\u001b[0m\u001b[0;34m\u001b[0m\u001b[0m\n\u001b[0m\u001b[1;32m      2\u001b[0m \u001b[0melement\u001b[0m\u001b[0;34m.\u001b[0m\u001b[0msend_keys\u001b[0m\u001b[0;34m(\u001b[0m\u001b[0mKeys\u001b[0m\u001b[0;34m.\u001b[0m\u001b[0mEND\u001b[0m\u001b[0;34m)\u001b[0m\u001b[0;34m\u001b[0m\u001b[0;34m\u001b[0m\u001b[0m\n",
      "\u001b[0;32m~/opt/anaconda3/envs/dss/lib/python3.7/site-packages/selenium/webdriver/remote/webdriver.py\u001b[0m in \u001b[0;36mfind_element_by_tag_name\u001b[0;34m(self, name)\u001b[0m\n\u001b[1;32m    528\u001b[0m             \u001b[0melement\u001b[0m \u001b[0;34m=\u001b[0m \u001b[0mdriver\u001b[0m\u001b[0;34m.\u001b[0m\u001b[0mfind_element_by_tag_name\u001b[0m\u001b[0;34m(\u001b[0m\u001b[0;34m'h1'\u001b[0m\u001b[0;34m)\u001b[0m\u001b[0;34m\u001b[0m\u001b[0;34m\u001b[0m\u001b[0m\n\u001b[1;32m    529\u001b[0m         \"\"\"\n\u001b[0;32m--> 530\u001b[0;31m         \u001b[0;32mreturn\u001b[0m \u001b[0mself\u001b[0m\u001b[0;34m.\u001b[0m\u001b[0mfind_element\u001b[0m\u001b[0;34m(\u001b[0m\u001b[0mby\u001b[0m\u001b[0;34m=\u001b[0m\u001b[0mBy\u001b[0m\u001b[0;34m.\u001b[0m\u001b[0mTAG_NAME\u001b[0m\u001b[0;34m,\u001b[0m \u001b[0mvalue\u001b[0m\u001b[0;34m=\u001b[0m\u001b[0mname\u001b[0m\u001b[0;34m)\u001b[0m\u001b[0;34m\u001b[0m\u001b[0;34m\u001b[0m\u001b[0m\n\u001b[0m\u001b[1;32m    531\u001b[0m \u001b[0;34m\u001b[0m\u001b[0m\n\u001b[1;32m    532\u001b[0m     \u001b[0;32mdef\u001b[0m \u001b[0mfind_elements_by_tag_name\u001b[0m\u001b[0;34m(\u001b[0m\u001b[0mself\u001b[0m\u001b[0;34m,\u001b[0m \u001b[0mname\u001b[0m\u001b[0;34m)\u001b[0m\u001b[0;34m:\u001b[0m\u001b[0;34m\u001b[0m\u001b[0;34m\u001b[0m\u001b[0m\n",
      "\u001b[0;32m~/opt/anaconda3/envs/dss/lib/python3.7/site-packages/selenium/webdriver/remote/webdriver.py\u001b[0m in \u001b[0;36mfind_element\u001b[0;34m(self, by, value)\u001b[0m\n\u001b[1;32m    976\u001b[0m         return self.execute(Command.FIND_ELEMENT, {\n\u001b[1;32m    977\u001b[0m             \u001b[0;34m'using'\u001b[0m\u001b[0;34m:\u001b[0m \u001b[0mby\u001b[0m\u001b[0;34m,\u001b[0m\u001b[0;34m\u001b[0m\u001b[0;34m\u001b[0m\u001b[0m\n\u001b[0;32m--> 978\u001b[0;31m             'value': value})['value']\n\u001b[0m\u001b[1;32m    979\u001b[0m \u001b[0;34m\u001b[0m\u001b[0m\n\u001b[1;32m    980\u001b[0m     \u001b[0;32mdef\u001b[0m \u001b[0mfind_elements\u001b[0m\u001b[0;34m(\u001b[0m\u001b[0mself\u001b[0m\u001b[0;34m,\u001b[0m \u001b[0mby\u001b[0m\u001b[0;34m=\u001b[0m\u001b[0mBy\u001b[0m\u001b[0;34m.\u001b[0m\u001b[0mID\u001b[0m\u001b[0;34m,\u001b[0m \u001b[0mvalue\u001b[0m\u001b[0;34m=\u001b[0m\u001b[0;32mNone\u001b[0m\u001b[0;34m)\u001b[0m\u001b[0;34m:\u001b[0m\u001b[0;34m\u001b[0m\u001b[0;34m\u001b[0m\u001b[0m\n",
      "\u001b[0;32m~/opt/anaconda3/envs/dss/lib/python3.7/site-packages/selenium/webdriver/remote/webdriver.py\u001b[0m in \u001b[0;36mexecute\u001b[0;34m(self, driver_command, params)\u001b[0m\n\u001b[1;32m    319\u001b[0m         \u001b[0mresponse\u001b[0m \u001b[0;34m=\u001b[0m \u001b[0mself\u001b[0m\u001b[0;34m.\u001b[0m\u001b[0mcommand_executor\u001b[0m\u001b[0;34m.\u001b[0m\u001b[0mexecute\u001b[0m\u001b[0;34m(\u001b[0m\u001b[0mdriver_command\u001b[0m\u001b[0;34m,\u001b[0m \u001b[0mparams\u001b[0m\u001b[0;34m)\u001b[0m\u001b[0;34m\u001b[0m\u001b[0;34m\u001b[0m\u001b[0m\n\u001b[1;32m    320\u001b[0m         \u001b[0;32mif\u001b[0m \u001b[0mresponse\u001b[0m\u001b[0;34m:\u001b[0m\u001b[0;34m\u001b[0m\u001b[0;34m\u001b[0m\u001b[0m\n\u001b[0;32m--> 321\u001b[0;31m             \u001b[0mself\u001b[0m\u001b[0;34m.\u001b[0m\u001b[0merror_handler\u001b[0m\u001b[0;34m.\u001b[0m\u001b[0mcheck_response\u001b[0m\u001b[0;34m(\u001b[0m\u001b[0mresponse\u001b[0m\u001b[0;34m)\u001b[0m\u001b[0;34m\u001b[0m\u001b[0;34m\u001b[0m\u001b[0m\n\u001b[0m\u001b[1;32m    322\u001b[0m             response['value'] = self._unwrap_value(\n\u001b[1;32m    323\u001b[0m                 response.get('value', None))\n",
      "\u001b[0;32m~/opt/anaconda3/envs/dss/lib/python3.7/site-packages/selenium/webdriver/remote/errorhandler.py\u001b[0m in \u001b[0;36mcheck_response\u001b[0;34m(self, response)\u001b[0m\n\u001b[1;32m    240\u001b[0m                 \u001b[0malert_text\u001b[0m \u001b[0;34m=\u001b[0m \u001b[0mvalue\u001b[0m\u001b[0;34m[\u001b[0m\u001b[0;34m'alert'\u001b[0m\u001b[0;34m]\u001b[0m\u001b[0;34m.\u001b[0m\u001b[0mget\u001b[0m\u001b[0;34m(\u001b[0m\u001b[0;34m'text'\u001b[0m\u001b[0;34m)\u001b[0m\u001b[0;34m\u001b[0m\u001b[0;34m\u001b[0m\u001b[0m\n\u001b[1;32m    241\u001b[0m             \u001b[0;32mraise\u001b[0m \u001b[0mexception_class\u001b[0m\u001b[0;34m(\u001b[0m\u001b[0mmessage\u001b[0m\u001b[0;34m,\u001b[0m \u001b[0mscreen\u001b[0m\u001b[0;34m,\u001b[0m \u001b[0mstacktrace\u001b[0m\u001b[0;34m,\u001b[0m \u001b[0malert_text\u001b[0m\u001b[0;34m)\u001b[0m\u001b[0;34m\u001b[0m\u001b[0;34m\u001b[0m\u001b[0m\n\u001b[0;32m--> 242\u001b[0;31m         \u001b[0;32mraise\u001b[0m \u001b[0mexception_class\u001b[0m\u001b[0;34m(\u001b[0m\u001b[0mmessage\u001b[0m\u001b[0;34m,\u001b[0m \u001b[0mscreen\u001b[0m\u001b[0;34m,\u001b[0m \u001b[0mstacktrace\u001b[0m\u001b[0;34m)\u001b[0m\u001b[0;34m\u001b[0m\u001b[0;34m\u001b[0m\u001b[0m\n\u001b[0m\u001b[1;32m    243\u001b[0m \u001b[0;34m\u001b[0m\u001b[0m\n\u001b[1;32m    244\u001b[0m     \u001b[0;32mdef\u001b[0m \u001b[0m_value_or_default\u001b[0m\u001b[0;34m(\u001b[0m\u001b[0mself\u001b[0m\u001b[0;34m,\u001b[0m \u001b[0mobj\u001b[0m\u001b[0;34m,\u001b[0m \u001b[0mkey\u001b[0m\u001b[0;34m,\u001b[0m \u001b[0mdefault\u001b[0m\u001b[0;34m)\u001b[0m\u001b[0;34m:\u001b[0m\u001b[0;34m\u001b[0m\u001b[0;34m\u001b[0m\u001b[0m\n",
      "\u001b[0;31mWebDriverException\u001b[0m: Message: chrome not reachable\n  (Session info: chrome=87.0.4280.88)\n"
     ]
    }
   ],
   "source": [
    "element = driver.find_element_by_tag_name('body')\n",
    "element.send_keys(Keys.END)\n"
   ]
  },
  {
   "cell_type": "markdown",
   "metadata": {},
   "source": [
    "### 크몽 게시물 1 페이지 크롤 36개\n",
    "\n"
   ]
  },
  {
   "cell_type": "code",
   "execution_count": 12,
   "metadata": {},
   "outputs": [],
   "source": [
    "\n",
    "Link = []\n",
    "driver=webdriver.Chrome('/Users/ash/Documents/chromedriver')\n",
    "\n",
    "driver.get('https://kmong.com/category/715?page=36&sort=ranking_points&online=false&company=false&is_prime=false&ratings=&meta=&is_it_portfolio=false')\n",
    "\n",
    "## 팝업 띄우기\n",
    "element = driver.find_element_by_tag_name('body')\n",
    "element.send_keys(Keys.END)\n",
    "## 팝업제거\n",
    "button = driver.find_element_by_xpath('/html/body/div[2]/div/div/div/div[1]/button[@type=\"button\"]')\n",
    "time.sleep(2)\n",
    "button.click()\n",
    "    \n",
    "## 게시물 긁어오기\n",
    "try:    \n",
    "    a = driver.find_elements_by_class_name('GigList')\n",
    "    element.send_keys(Keys.PAGE_DOWN)\n",
    "    driver.implicitly_wait(5)\n",
    "    for num in range(36):\n",
    "        b = a[num].find_element_by_tag_name('a')\n",
    "        c = b.get_attribute('href')\n",
    "        Link.append(c)\n",
    "except:\n",
    "    driver.quit()\n",
    "\n",
    "        \n",
    "        "
   ]
  },
  {
   "cell_type": "code",
   "execution_count": 14,
   "metadata": {},
   "outputs": [
    {
     "data": {
      "text/plain": [
       "['https://kmong.com/gig/178066',\n",
       " 'https://kmong.com/gig/194725',\n",
       " 'https://kmong.com/gig/210355',\n",
       " 'https://kmong.com/gig/133203',\n",
       " 'https://kmong.com/gig/94833',\n",
       " 'https://kmong.com/gig/140299',\n",
       " 'https://kmong.com/gig/254153',\n",
       " 'https://kmong.com/gig/141247',\n",
       " 'https://kmong.com/gig/240212',\n",
       " 'https://kmong.com/gig/90178',\n",
       " 'https://kmong.com/gig/111486',\n",
       " 'https://kmong.com/gig/214610']"
      ]
     },
     "execution_count": 14,
     "metadata": {},
     "output_type": "execute_result"
    }
   ],
   "source": [
    "Link"
   ]
  },
  {
   "cell_type": "markdown",
   "metadata": {},
   "source": [
    "### 크몽 게시물 읽어오기"
   ]
  },
  {
   "cell_type": "code",
   "execution_count": 17,
   "metadata": {},
   "outputs": [],
   "source": [
    "\n",
    "Link = []\n",
    "driver=webdriver.Chrome('/Users/ash/Documents/chromedriver')\n",
    "\n",
    "for page in range(1,37):\n",
    "    url = \"https://kmong.com/category/715?page={}&sort=ranking_points&online=false&company=false&is_prime=false&ratings=&meta=&is_it_portfolio=false\".format(page)\n",
    "    driver.get(url)\n",
    "    driver.implicitly_wait(10)\n",
    "    time.sleep(1)\n",
    "## 팝업 띄우기\n",
    "    element = driver.find_element_by_tag_name('body')\n",
    "    element.send_keys(Keys.END)\n",
    "## 팝업제거\n",
    "    button = driver.find_element_by_xpath('/html/body/div[2]/div/div/div/div[1]/button[@type=\"button\"]')\n",
    "    time.sleep(2)\n",
    "    button.click()\n",
    "    \n",
    "## 게시물 긁어오기\n",
    "    try:\n",
    "        a = driver.find_elements_by_class_name('GigList')\n",
    "        element.send_keys(Keys.PAGE_DOWN)\n",
    "        driver.implicitly_wait(5)\n",
    "        for num in range(36):\n",
    "            b = a[num].find_element_by_tag_name('a')\n",
    "            c = b.get_attribute('href')\n",
    "            Link.append(c)\n",
    "    except:\n",
    "        driver.quit()\n",
    "\n",
    "        \n",
    "        "
   ]
  },
  {
   "cell_type": "code",
   "execution_count": 18,
   "metadata": {},
   "outputs": [
    {
     "data": {
      "text/plain": [
       "1273"
      ]
     },
     "execution_count": 18,
     "metadata": {},
     "output_type": "execute_result"
    }
   ],
   "source": [
    "len(Link)"
   ]
  },
  {
   "cell_type": "markdown",
   "metadata": {},
   "source": [
    "## csv 파일로 저장"
   ]
  },
  {
   "cell_type": "code",
   "execution_count": 25,
   "metadata": {},
   "outputs": [],
   "source": [
    "Briphy = pd.DataFrame(Link)"
   ]
  },
  {
   "cell_type": "code",
   "execution_count": 26,
   "metadata": {},
   "outputs": [],
   "source": [
    "Briphy.to_csv(\"크몽.csv\", header=False, index=False )"
   ]
  },
  {
   "cell_type": "code",
   "execution_count": null,
   "metadata": {},
   "outputs": [],
   "source": []
  },
  {
   "cell_type": "markdown",
   "metadata": {},
   "source": [
    "## 정보 읽어오기"
   ]
  },
  {
   "cell_type": "code",
   "execution_count": 60,
   "metadata": {},
   "outputs": [],
   "source": [
    "driver=webdriver.Chrome('/Users/ash/Documents/chromedriver')\n",
    "driver.get('https://kmong.com/category/715?page=1&sort=ranking_points&online=false&company=false&is_prime=false&ratings=&meta=&is_it_portfolio=false')\n",
    "\n"
   ]
  },
  {
   "cell_type": "markdown",
   "metadata": {},
   "source": [
    "## 제작자 읽어오기"
   ]
  },
  {
   "cell_type": "code",
   "execution_count": 8,
   "metadata": {},
   "outputs": [
    {
     "data": {
      "text/plain": [
       "'PowerStudio'"
      ]
     },
     "execution_count": 8,
     "metadata": {},
     "output_type": "execute_result"
    }
   ],
   "source": [
    "a = driver.find_element_by_css_selector('#router-view > div > div.gig-detail-content > div.RightModules > div.GigSellerProfile > div.seller-profile > h1 > a.GigSellerProfile__username')\n",
    "a.text"
   ]
  },
  {
   "cell_type": "markdown",
   "metadata": {},
   "source": [
    "## 전화번호 읽어오기"
   ]
  },
  {
   "cell_type": "code",
   "execution_count": 9,
   "metadata": {},
   "outputs": [
    {
     "data": {
      "text/plain": [
       "'전화문의: 050409017871'"
      ]
     },
     "execution_count": 9,
     "metadata": {},
     "output_type": "execute_result"
    }
   ],
   "source": [
    "b = driver.find_element_by_css_selector(\"#router-view > div > div.gig-detail-content > div.RightModules > div.GigSellerProfile > div.seller-request > h5.safe-number > span\")\n",
    "b.text"
   ]
  },
  {
   "cell_type": "markdown",
   "metadata": {},
   "source": [
    "## 총작업개수 읽어오기"
   ]
  },
  {
   "cell_type": "code",
   "execution_count": 10,
   "metadata": {},
   "outputs": [
    {
     "data": {
      "text/plain": [
       "'1099건'"
      ]
     },
     "execution_count": 10,
     "metadata": {},
     "output_type": "execute_result"
    }
   ],
   "source": [
    "c = driver.find_element_by_css_selector('#router-view > div > div.gig-detail-content > div.RightModules > div.GigSellerProfile > div.seller-information-wrap > div:nth-child(1) > h5')\n",
    "c.text"
   ]
  },
  {
   "cell_type": "markdown",
   "metadata": {},
   "source": [
    "## 전문가 소개 읽어오기"
   ]
  },
  {
   "cell_type": "code",
   "execution_count": 11,
   "metadata": {},
   "outputs": [
    {
     "data": {
      "text/plain": [
       "'안녕하세요, 크몽 1위 영상 제작 업체 파워스튜디오입니다!\\n활발한 소통과, 정확한 납기일 준수 및 우수한 퀄리티로\\n클라이언트의 만족도가 매우 높습니다!\\n\\n메세지나 0504-0901-7871 번으로 전화주시면 앱홍보영상 레퍼런스 영상만 모아놓은 링크를 전달드리도록 하겠습니다!\\n아래는 저희 포트폴리오 링크입니다. 감사합니다^^\\nhttps://www.youtube.com/playlist?list=PLiRbZdi6Hk5W1grkpZwrIZ_8jKUFSd1fo'"
      ]
     },
     "execution_count": 11,
     "metadata": {},
     "output_type": "execute_result"
    }
   ],
   "source": [
    "d = driver.find_element_by_css_selector('#router-view > div > div.gig-detail-content > div.RightModules > div.GigSellerProfile > div.seller-description > h5.description')\n",
    "d.text"
   ]
  },
  {
   "cell_type": "markdown",
   "metadata": {},
   "source": [
    "## 작업유형, 종류"
   ]
  },
  {
   "cell_type": "code",
   "execution_count": 12,
   "metadata": {},
   "outputs": [
    {
     "data": {
      "text/plain": [
       "'촬영 편집/후반작업'"
      ]
     },
     "execution_count": 12,
     "metadata": {},
     "output_type": "execute_result"
    }
   ],
   "source": [
    "e = driver.find_elements_by_class_name('meta-box')\n",
    "e[0].text.replace(\"\\n\", \" \")\n"
   ]
  },
  {
   "cell_type": "code",
   "execution_count": 13,
   "metadata": {},
   "outputs": [
    {
     "data": {
      "text/plain": [
       "'홍보 메이킹/인터뷰 교육용 SNS용 드론촬영 뮤직비디오'"
      ]
     },
     "execution_count": 13,
     "metadata": {},
     "output_type": "execute_result"
    }
   ],
   "source": [
    "e[1].text.replace(\"\\n\", \" \")"
   ]
  },
  {
   "cell_type": "markdown",
   "metadata": {},
   "source": [
    "## 가격정보"
   ]
  },
  {
   "cell_type": "code",
   "execution_count": 15,
   "metadata": {},
   "outputs": [
    {
     "data": {
      "text/plain": [
       "''"
      ]
     },
     "execution_count": 15,
     "metadata": {},
     "output_type": "execute_result"
    }
   ],
   "source": [
    "check = driver.find_element_by_css_selector(\"#router-view > div > div.gig-detail-content > div.LeftModules > div.GigPackageTable > div.gig-package-table > div:nth-child(3) > div:nth-child(3) > div > i\")\n",
    "(check.text)"
   ]
  },
  {
   "cell_type": "code",
   "execution_count": 16,
   "metadata": {},
   "outputs": [
    {
     "ename": "NameError",
     "evalue": "name 'Body' is not defined",
     "output_type": "error",
     "traceback": [
      "\u001b[0;31m---------------------------------------------------------------------------\u001b[0m",
      "\u001b[0;31mNameError\u001b[0m                                 Traceback (most recent call last)",
      "\u001b[0;32m<ipython-input-16-081883447ee7>\u001b[0m in \u001b[0;36m<module>\u001b[0;34m\u001b[0m\n\u001b[1;32m      1\u001b[0m \u001b[0mbody\u001b[0m \u001b[0;34m=\u001b[0m \u001b[0mdriver\u001b[0m\u001b[0;34m.\u001b[0m\u001b[0mfind_elements_by_class_name\u001b[0m\u001b[0;34m(\u001b[0m\u001b[0;34m\"package-body-items\"\u001b[0m\u001b[0;34m)\u001b[0m\u001b[0;34m\u001b[0m\u001b[0;34m\u001b[0m\u001b[0m\n\u001b[1;32m      2\u001b[0m \u001b[0;32mfor\u001b[0m \u001b[0mu\u001b[0m \u001b[0;32min\u001b[0m \u001b[0mbody\u001b[0m\u001b[0;34m:\u001b[0m\u001b[0;34m\u001b[0m\u001b[0;34m\u001b[0m\u001b[0m\n\u001b[0;32m----> 3\u001b[0;31m     \u001b[0mBody\u001b[0m\u001b[0;34m.\u001b[0m\u001b[0mappend\u001b[0m\u001b[0;34m(\u001b[0m\u001b[0mu\u001b[0m\u001b[0;34m.\u001b[0m\u001b[0mtext\u001b[0m\u001b[0;34m)\u001b[0m\u001b[0;34m\u001b[0m\u001b[0;34m\u001b[0m\u001b[0m\n\u001b[0m\u001b[1;32m      4\u001b[0m \u001b[0mprint\u001b[0m\u001b[0;34m(\u001b[0m\u001b[0mBody\u001b[0m\u001b[0;34m)\u001b[0m\u001b[0;34m\u001b[0m\u001b[0;34m\u001b[0m\u001b[0m\n",
      "\u001b[0;31mNameError\u001b[0m: name 'Body' is not defined"
     ]
    }
   ],
   "source": [
    "\n",
    "body = driver.find_elements_by_class_name(\"package-body-items\")\n",
    "for u in body:\n",
    "    Body.append(u.text) \n",
    "print(Body)  "
   ]
  },
  {
   "cell_type": "code",
   "execution_count": 17,
   "metadata": {},
   "outputs": [
    {
     "name": "stdout",
     "output_type": "stream",
     "text": [
      "STANDARD\n",
      "DELUXE\n",
      "PREMIUM\n"
     ]
    }
   ],
   "source": [
    "test = driver.find_elements_by_class_name(\"header-package-type\")\n",
    "for a in test:\n",
    "    print(a.text)"
   ]
  },
  {
   "cell_type": "code",
   "execution_count": 18,
   "metadata": {},
   "outputs": [
    {
     "name": "stdout",
     "output_type": "stream",
     "text": [
      "100,000원\n",
      "350,000원\n",
      "600,000원\n"
     ]
    }
   ],
   "source": [
    "test1 = driver.find_elements_by_class_name(\"header-package-price\")\n",
    "for a in test1:\n",
    "    print(a.text)"
   ]
  },
  {
   "cell_type": "code",
   "execution_count": 19,
   "metadata": {},
   "outputs": [
    {
     "data": {
      "text/plain": [
       "['', 'STANDARD\\n100,000원', 'DELUXE\\n350,000원', 'PREMIUM\\n600,000원']"
      ]
     },
     "execution_count": 19,
     "metadata": {},
     "output_type": "execute_result"
    }
   ],
   "source": [
    "Pri = []\n",
    "Body = []\n",
    "for i in range(1,5):\n",
    "    standard = driver.find_elements_by_css_selector(\"#router-view > div > div.gig-detail-content > div.LeftModules > div.GigPackageTable > div.gig-package-table > div.package-header > div:nth-child({})\".format(i))\n",
    "    for sta in standard:\n",
    "        Pri.append(sta.text)\n",
    "body = driver.find_elements_by_class_name(\"package-body-items\")\n",
    "for u in body:\n",
    "    \n",
    "    Body.append(u.text) \n",
    "Pri"
   ]
  },
  {
   "cell_type": "code",
   "execution_count": 20,
   "metadata": {},
   "outputs": [
    {
     "data": {
      "text/plain": [
       "['가격',\n",
       " ['STANDARD', '100,000원'],\n",
       " ['DELUXE', '350,000원'],\n",
       " ['PREMIUM', '600,000원']]"
      ]
     },
     "execution_count": 20,
     "metadata": {},
     "output_type": "execute_result"
    }
   ],
   "source": [
    "column = []\n",
    "for pri in Pri:\n",
    "    \n",
    "    z = pri.split(\"\\n\")\n",
    "    column.append(z)\n",
    "    column[0] = \"가격\"\n",
    "column"
   ]
  },
  {
   "cell_type": "code",
   "execution_count": 21,
   "metadata": {},
   "outputs": [
    {
     "data": {
      "text/plain": [
       "'가격'"
      ]
     },
     "execution_count": 21,
     "metadata": {},
     "output_type": "execute_result"
    }
   ],
   "source": [
    "column[0]"
   ]
  },
  {
   "cell_type": "code",
   "execution_count": 22,
   "metadata": {},
   "outputs": [
    {
     "data": {
      "text/plain": [
       "['STANDARD', 'DELUXE', 'PREMIUM']"
      ]
     },
     "execution_count": 22,
     "metadata": {},
     "output_type": "execute_result"
    }
   ],
   "source": [
    "COL = []\n",
    "for n in range(1,4):\n",
    "    COL.append(column[n][0])\n",
    "COL"
   ]
  },
  {
   "cell_type": "code",
   "execution_count": 23,
   "metadata": {},
   "outputs": [
    {
     "ename": "NameError",
     "evalue": "name 'index' is not defined",
     "output_type": "error",
     "traceback": [
      "\u001b[0;31m---------------------------------------------------------------------------\u001b[0m",
      "\u001b[0;31mNameError\u001b[0m                                 Traceback (most recent call last)",
      "\u001b[0;32m<ipython-input-23-7fdbecafb444>\u001b[0m in \u001b[0;36m<module>\u001b[0;34m\u001b[0m\n\u001b[0;32m----> 1\u001b[0;31m \u001b[0mtable\u001b[0m \u001b[0;34m=\u001b[0m \u001b[0mpd\u001b[0m\u001b[0;34m.\u001b[0m\u001b[0mDataFrame\u001b[0m\u001b[0;34m(\u001b[0m\u001b[0mcolumns\u001b[0m\u001b[0;34m=\u001b[0m\u001b[0mCOL\u001b[0m\u001b[0;34m,\u001b[0m \u001b[0mindex\u001b[0m\u001b[0;34m=\u001b[0m\u001b[0mcolumn\u001b[0m\u001b[0;34m[\u001b[0m\u001b[0;36m0\u001b[0m\u001b[0;34m]\u001b[0m \u001b[0;34m+\u001b[0m \u001b[0mindex\u001b[0m\u001b[0;34m)\u001b[0m\u001b[0;34m\u001b[0m\u001b[0;34m\u001b[0m\u001b[0m\n\u001b[0m\u001b[1;32m      2\u001b[0m \u001b[0mtable\u001b[0m\u001b[0;34m\u001b[0m\u001b[0;34m\u001b[0m\u001b[0m\n",
      "\u001b[0;31mNameError\u001b[0m: name 'index' is not defined"
     ]
    }
   ],
   "source": [
    "table = pd.DataFrame(columns=COL, index=column[0] + index)\n",
    "table"
   ]
  },
  {
   "cell_type": "code",
   "execution_count": 25,
   "metadata": {},
   "outputs": [
    {
     "ename": "NameError",
     "evalue": "name 'body1' is not defined",
     "output_type": "error",
     "traceback": [
      "\u001b[0;31m---------------------------------------------------------------------------\u001b[0m",
      "\u001b[0;31mNameError\u001b[0m                                 Traceback (most recent call last)",
      "\u001b[0;32m<ipython-input-25-b944928727af>\u001b[0m in \u001b[0;36m<module>\u001b[0;34m\u001b[0m\n\u001b[0;32m----> 1\u001b[0;31m \u001b[0mtable\u001b[0m\u001b[0;34m[\u001b[0m\u001b[0;34m\"STANDARD\"\u001b[0m\u001b[0;34m]\u001b[0m \u001b[0;34m=\u001b[0m \u001b[0mbody1\u001b[0m\u001b[0;34m\u001b[0m\u001b[0;34m\u001b[0m\u001b[0m\n\u001b[0m\u001b[1;32m      2\u001b[0m \u001b[0mtable\u001b[0m\u001b[0;34m[\u001b[0m\u001b[0;34m\"DELUXE\"\u001b[0m\u001b[0;34m]\u001b[0m \u001b[0;34m=\u001b[0m \u001b[0mbody2\u001b[0m\u001b[0;34m\u001b[0m\u001b[0;34m\u001b[0m\u001b[0m\n\u001b[1;32m      3\u001b[0m \u001b[0mtable\u001b[0m\u001b[0;34m[\u001b[0m\u001b[0;34m\"PREMIUM\"\u001b[0m\u001b[0;34m]\u001b[0m \u001b[0;34m=\u001b[0m \u001b[0mbody3\u001b[0m\u001b[0;34m\u001b[0m\u001b[0;34m\u001b[0m\u001b[0m\n\u001b[1;32m      4\u001b[0m \u001b[0mtable\u001b[0m\u001b[0;34m\u001b[0m\u001b[0;34m\u001b[0m\u001b[0m\n",
      "\u001b[0;31mNameError\u001b[0m: name 'body1' is not defined"
     ]
    }
   ],
   "source": [
    "table[\"STANDARD\"] = body1\n",
    "table[\"DELUXE\"] = body2\n",
    "table[\"PREMIUM\"] = body3\n",
    "table"
   ]
  },
  {
   "cell_type": "code",
   "execution_count": 26,
   "metadata": {},
   "outputs": [
    {
     "ename": "NameError",
     "evalue": "name 'col' is not defined",
     "output_type": "error",
     "traceback": [
      "\u001b[0;31m---------------------------------------------------------------------------\u001b[0m",
      "\u001b[0;31mNameError\u001b[0m                                 Traceback (most recent call last)",
      "\u001b[0;32m<ipython-input-26-57597df99a0c>\u001b[0m in \u001b[0;36m<module>\u001b[0;34m\u001b[0m\n\u001b[1;32m      1\u001b[0m \u001b[0mindex\u001b[0m \u001b[0;34m=\u001b[0m  \u001b[0mBody\u001b[0m\u001b[0;34m[\u001b[0m\u001b[0;36m0\u001b[0m\u001b[0;34m:\u001b[0m\u001b[0;34m:\u001b[0m\u001b[0;36m4\u001b[0m\u001b[0;34m]\u001b[0m\u001b[0;34m\u001b[0m\u001b[0;34m\u001b[0m\u001b[0m\n\u001b[0;32m----> 2\u001b[0;31m \u001b[0mcol\u001b[0m\u001b[0;34m\u001b[0m\u001b[0;34m\u001b[0m\u001b[0m\n\u001b[0m",
      "\u001b[0;31mNameError\u001b[0m: name 'col' is not defined"
     ]
    }
   ],
   "source": [
    "index =  Body[0::4]\n",
    "col"
   ]
  },
  {
   "cell_type": "code",
   "execution_count": 27,
   "metadata": {},
   "outputs": [
    {
     "data": {
      "text/plain": [
       "['100,000원',\n",
       " '단순편집 (상담/문의필수!!) 30초미만의 단순컷편집 및 단순하단자막 or 단순인트로 영상 제작 (상담/문의 필수!!)',\n",
       " '',\n",
       " '',\n",
       " '',\n",
       " '',\n",
       " '30초',\n",
       " '1회',\n",
       " '3일']"
      ]
     },
     "execution_count": 27,
     "metadata": {},
     "output_type": "execute_result"
    }
   ],
   "source": [
    "body1 = []\n",
    "body1.append(column[1][1])\n",
    "for x in Body[1::4]:\n",
    "    x = x.replace(\"\\n\", \" \")\n",
    "    body1.append(x)\n",
    "body1"
   ]
  },
  {
   "cell_type": "code",
   "execution_count": 28,
   "metadata": {},
   "outputs": [
    {
     "data": {
      "text/plain": [
       "['350,000원',\n",
       " '30초이내 영상제작 감각적인 편집으로 30초 이내 영상을 제작해 드립니다 (구매전 상담/문의 필수!)',\n",
       " '',\n",
       " '',\n",
       " '',\n",
       " '',\n",
       " '30초',\n",
       " '2회',\n",
       " '4일']"
      ]
     },
     "execution_count": 28,
     "metadata": {},
     "output_type": "execute_result"
    }
   ],
   "source": [
    "body2 = []\n",
    "body2.append(column[2][1])\n",
    "for x in Body[2::4]:\n",
    "    x = x.replace(\"\\n\", \" \")\n",
    "    body2.append(x)\n",
    "body2"
   ]
  },
  {
   "cell_type": "code",
   "execution_count": 414,
   "metadata": {},
   "outputs": [
    {
     "data": {
      "text/plain": [
       "['6,600,000원',\n",
       " '인트로+메이킹/인터뷰 영상 러닝타임 7분 기준 촬영+컷편집+자막 모션그래픽',\n",
       " '',\n",
       " '',\n",
       " '',\n",
       " '',\n",
       " '',\n",
       " '4회',\n",
       " '10일']"
      ]
     },
     "execution_count": 414,
     "metadata": {},
     "output_type": "execute_result"
    }
   ],
   "source": [
    "body3 = []\n",
    "body3.append(column[3][1])\n",
    "for x in Body[3::4]:\n",
    "    x = x.replace(\"\\n\", \" \")\n",
    "    body3.append(x)\n",
    "body3"
   ]
  },
  {
   "cell_type": "code",
   "execution_count": null,
   "metadata": {},
   "outputs": [],
   "source": []
  },
  {
   "cell_type": "code",
   "execution_count": null,
   "metadata": {},
   "outputs": [],
   "source": []
  },
  {
   "cell_type": "code",
   "execution_count": null,
   "metadata": {},
   "outputs": [],
   "source": []
  },
  {
   "cell_type": "code",
   "execution_count": 409,
   "metadata": {},
   "outputs": [],
   "source": [
    "driver=webdriver.Chrome('/Users/ash/Documents/chromedriver')\n",
    "\n",
    "driver.get('https://kmong.com/category/724?page=1&sort=ranking_points&online=false&company=false&is_prime=false&ratings=&meta=&is_it_portfolio=false')\n"
   ]
  },
  {
   "cell_type": "markdown",
   "metadata": {},
   "source": [
    "## 1페이지 36 게시물 읽기"
   ]
  },
  {
   "cell_type": "markdown",
   "metadata": {},
   "source": []
  },
  {
   "cell_type": "code",
   "execution_count": 69,
   "metadata": {},
   "outputs": [],
   "source": [
    "\n",
    "kmong_coulums = [\"링크\", \"등급\",\"제작자\", \"전화번호\", \"작업수\", \"전문가소개\", \"작업유형\", \"작업종류\", \"싱글패키지\", \"항목\", \"가격1\", \"가격2\", \"가격3\"]\n",
    "table = pd.DataFrame(columns=kmong_coulums)\n",
    "\n",
    "\n",
    "## 팝업 띄우기\n",
    "element = driver.find_element_by_tag_name('body')\n",
    "element.send_keys(Keys.END)\n",
    "## 팝업제거\n",
    "# button = driver.find_element_by_xpath('/html/body/div[2]/div/div/div/div[1]/button[@type=\"button\"]')\n",
    "# time.sleep(2)\n",
    "# button.click()\n",
    "    \n",
    "## 게시물 긁어오기\n",
    "try:    \n",
    "    a = driver.find_elements_by_class_name('GigList')\n",
    "    element.send_keys(Keys.PAGE_DOWN)\n",
    "    driver.implicitly_wait(5)\n",
    "    for num in range(36):\n",
    "        b = a[num].find_element_by_tag_name('a')\n",
    "        c = b.get_attribute('href')\n",
    "        Link.append(c)\n",
    "except:\n",
    "#     driver.quit()\n",
    "    print(\"driver.quit\")\n",
    "    \n",
    "    \n",
    "    \n",
    "for post in Link:\n",
    "    driver.get(post)\n",
    "    Producer = []\n",
    "    Number = []\n",
    "    Work = []\n",
    "    Intro = []\n",
    "    Category1 = []\n",
    "    Category2 = []\n",
    "    Price1 = []\n",
    "    Price2 = []\n",
    "    Pri = []\n",
    "    Body = []\n",
    "    body1 = []\n",
    "    body2 = []\n",
    "    body3 = []\n",
    "    column = []\n",
    "    index = []\n",
    "    link = [post]\n",
    "    Prime = []\n",
    "    producer = driver.find_element_by_css_selector('#router-view > div > div.gig-detail-content > div.RightModules > div.GigSellerProfile > div.seller-profile > h1 > a.GigSellerProfile__username')\n",
    "    Producer.append(producer.text)\n",
    "         # 전화번호 읽기\n",
    "    try:\n",
    "        number = driver.find_element_by_css_selector(\"#router-view > div > div.gig-detail-content > div.RightModules > div.GigSellerProfile > div.seller-request > h5.safe-number > span\")\n",
    "        Number.append(number.text)\n",
    "    except:\n",
    "        Number.append(\"-\")\n",
    "        # 등급 prime\n",
    "    try:\n",
    "        prime = driver.find_element_by_class_name(\"prime-badge\")\n",
    "        Prime.append(\"Prime\")\n",
    "    except:\n",
    "        Prime.append(\"-\")\n",
    "         # 작업물 횟수\n",
    "    work = driver.find_element_by_css_selector('#router-view > div > div.gig-detail-content > div.RightModules > div.GigSellerProfile > div.seller-information-wrap > div:nth-child(1) > h5')\n",
    "    Work.append(work.text)\n",
    "         # 전문가 소개\n",
    "    intro = driver.find_element_by_css_selector('#router-view > div > div.gig-detail-content > div.RightModules > div.GigSellerProfile > div.seller-description > h5.description')\n",
    "    Intro.append(intro.text.replace(\"\\n\", \" \"))\n",
    "    category = driver.find_elements_by_class_name('meta-box')\n",
    "    Category1.append(category[0].text.replace(\"\\n\", \" \"))\n",
    "    Category2.append(category[1].text.replace(\"\\n\", \" \"))\n",
    "\n",
    "    try :\n",
    "        driver.find_element_by_class_name(\"gig-single-package\")\n",
    "        sin_pri = driver.find_element_by_class_name(\"package-price\").text\n",
    "        sin_body = driver.find_element_by_class_name(\"package-information\").text.split(\"\\n\")\n",
    "        for x in ([sin_pri] + sin_body):\n",
    "            Price1.append(x)\n",
    "\n",
    "    except:  \n",
    "        for i in range(2,5):\n",
    "            standard = driver.find_elements_by_css_selector(\"#router-view > div > div.gig-detail-content > div.LeftModules > div.GigPackageTable > div.gig-package-table > div.package-header > div:nth-child({})\".format(i))\n",
    "            for sta in standard:\n",
    "                Pri.append(sta.text)\n",
    "        for pri in Pri:\n",
    "            z = pri.replace(\"\\n\", \" \")\n",
    "            column.append(z)\n",
    "        body = driver.find_elements_by_class_name(\"package-body-items\")\n",
    "        for u in body:\n",
    "            Body.append(u.text) \n",
    "\n",
    "        body1.append(column[0])\n",
    "        for x in Body[1::4]:\n",
    "            x = x.replace(\"\\n\", \" \")\n",
    "            body1.append(x)\n",
    "\n",
    "        body2.append(column[1])\n",
    "        for x in Body[2::4]:\n",
    "            x = x.replace(\"\\n\", \" \")\n",
    "            body2.append(x)\n",
    "\n",
    "        body3.append(column[2])\n",
    "        for x in Body[3::4]:\n",
    "            x = x.replace(\"\\n\", \" \")\n",
    "            body3.append(x)\n",
    "        a = driver.find_element_by_css_selector(\"#router-view > div > div.gig-detail-content > div.LeftModules > div.GigPackageTable > div.GigLeftTitle\").text\n",
    "        for t in Body[0::4]:\n",
    "            index.append(t)\n",
    "        index.insert(0, a)\n",
    "    if len(Price1) > 0:\n",
    "        for z in range(1, len(Price1)):\n",
    "            Producer.append(\"-\")\n",
    "            Number.append(\"-\")\n",
    "            Work.append(\"-\")\n",
    "            Intro.append(\"-\")\n",
    "            Category1.append(\"-\")\n",
    "            Category2.append(\"-\")\n",
    "            link.append(\"-\")\n",
    "            index.append(\"-\")\n",
    "            Prime.append(\"-\")\n",
    "        kmong_1 = pd.DataFrame({\"링크\" : link,\"등급\" : Prime,\"제작자\" : Producer, \"전화번호\" : Number, \"작업수\" : Work, \"전문가소개\" : Intro, \"작업유형\" : Category1, \"작업종류\" : Category2, \"싱글패키지\" : Price1, \"항목\" : \"-\", \"가격1\" : \"-\", \"가격2\" : \"-\", \"가격3\" : \"-\"})\n",
    "        table = pd.concat([table, kmong_1])\n",
    "    elif len(body1) > 0:\n",
    "        for x in range(1, len(body1)):\n",
    "            Producer.append(\"-\")\n",
    "            Number.append(\"-\")\n",
    "            Work.append(\"-\")\n",
    "            Intro.append(\"-\")\n",
    "            Category1.append(\"-\")\n",
    "            Category2.append(\"-\")\n",
    "            link.append(\"-\")\n",
    "            Prime.append(\"-\")\n",
    "        kmong_2 = pd.DataFrame({\"링크\" : link, \"등급\" : Prime,\"제작자\" : Producer, \"전화번호\" : Number, \"작업수\" : Work, \"전문가소개\" : Intro, \"작업유형\" : Category1, \"작업종류\" : Category2,\"싱글패키지\" : \"-\" ,\"항목\" : index, \"가격1\" : body1, \"가격2\" : body2, \"가격3\" : body3})\n",
    "        table = pd.concat([table, kmong_2])\n",
    "\n",
    "    \n",
    "    \n",
    "    \n",
    "    "
   ]
  },
  {
   "cell_type": "code",
   "execution_count": 45,
   "metadata": {},
   "outputs": [
    {
     "data": {
      "text/plain": [
       "['https://kmong.com/gig/220287', '-', '-', '-', '-', '-', '-', '-']"
      ]
     },
     "execution_count": 45,
     "metadata": {},
     "output_type": "execute_result"
    }
   ],
   "source": [
    "link"
   ]
  },
  {
   "cell_type": "code",
   "execution_count": 91,
   "metadata": {},
   "outputs": [
    {
     "data": {
      "text/html": [
       "<div>\n",
       "<style scoped>\n",
       "    .dataframe tbody tr th:only-of-type {\n",
       "        vertical-align: middle;\n",
       "    }\n",
       "\n",
       "    .dataframe tbody tr th {\n",
       "        vertical-align: top;\n",
       "    }\n",
       "\n",
       "    .dataframe thead th {\n",
       "        text-align: right;\n",
       "    }\n",
       "</style>\n",
       "<table border=\"1\" class=\"dataframe\">\n",
       "  <thead>\n",
       "    <tr style=\"text-align: right;\">\n",
       "      <th></th>\n",
       "      <th>링크</th>\n",
       "      <th>등급</th>\n",
       "      <th>제작자</th>\n",
       "      <th>전화번호</th>\n",
       "      <th>작업수</th>\n",
       "      <th>전문가소개</th>\n",
       "      <th>작업유형</th>\n",
       "      <th>작업종류</th>\n",
       "      <th>싱글패키지</th>\n",
       "      <th>항목</th>\n",
       "      <th>가격1</th>\n",
       "      <th>가격2</th>\n",
       "      <th>가격3</th>\n",
       "    </tr>\n",
       "  </thead>\n",
       "  <tbody>\n",
       "    <tr>\n",
       "      <th>2</th>\n",
       "      <td>-</td>\n",
       "      <td>-</td>\n",
       "      <td>-</td>\n",
       "      <td>-</td>\n",
       "      <td>-</td>\n",
       "      <td>-</td>\n",
       "      <td>-</td>\n",
       "      <td>-</td>\n",
       "      <td>기본요금 15만원 (장비대여료) +출장비 (거리에따라 별도청구) +촬영목적에 따라 ...</td>\n",
       "      <td>-</td>\n",
       "      <td>-</td>\n",
       "      <td>-</td>\n",
       "      <td>-</td>\n",
       "    </tr>\n",
       "    <tr>\n",
       "      <th>3</th>\n",
       "      <td>-</td>\n",
       "      <td>-</td>\n",
       "      <td>-</td>\n",
       "      <td>-</td>\n",
       "      <td>-</td>\n",
       "      <td>-</td>\n",
       "      <td>-</td>\n",
       "      <td>-</td>\n",
       "      <td>보정작업</td>\n",
       "      <td>-</td>\n",
       "      <td>-</td>\n",
       "      <td>-</td>\n",
       "      <td>-</td>\n",
       "    </tr>\n",
       "    <tr>\n",
       "      <th>4</th>\n",
       "      <td>-</td>\n",
       "      <td>-</td>\n",
       "      <td>-</td>\n",
       "      <td>-</td>\n",
       "      <td>-</td>\n",
       "      <td>-</td>\n",
       "      <td>-</td>\n",
       "      <td>-</td>\n",
       "      <td>촬영 시간 (분) : 180분</td>\n",
       "      <td>-</td>\n",
       "      <td>-</td>\n",
       "      <td>-</td>\n",
       "      <td>-</td>\n",
       "    </tr>\n",
       "    <tr>\n",
       "      <th>5</th>\n",
       "      <td>-</td>\n",
       "      <td>-</td>\n",
       "      <td>-</td>\n",
       "      <td>-</td>\n",
       "      <td>-</td>\n",
       "      <td>-</td>\n",
       "      <td>-</td>\n",
       "      <td>-</td>\n",
       "      <td>작업일: 7일</td>\n",
       "      <td>-</td>\n",
       "      <td>-</td>\n",
       "      <td>-</td>\n",
       "      <td>-</td>\n",
       "    </tr>\n",
       "    <tr>\n",
       "      <th>6</th>\n",
       "      <td>-</td>\n",
       "      <td>-</td>\n",
       "      <td>-</td>\n",
       "      <td>-</td>\n",
       "      <td>-</td>\n",
       "      <td>-</td>\n",
       "      <td>-</td>\n",
       "      <td>-</td>\n",
       "      <td>수정 횟수: 제한없음</td>\n",
       "      <td>-</td>\n",
       "      <td>-</td>\n",
       "      <td>-</td>\n",
       "      <td>-</td>\n",
       "    </tr>\n",
       "    <tr>\n",
       "      <th>0</th>\n",
       "      <td>https://kmong.com/gig/228352</td>\n",
       "      <td>prime</td>\n",
       "      <td>카이엔스튜디오</td>\n",
       "      <td>-</td>\n",
       "      <td>10건</td>\n",
       "      <td>안녕하세요  포토그래퍼 김명현(카이엔)입니다~ 포토그래퍼 경력 12년차 됩니다  여...</td>\n",
       "      <td>촬영 편집/후반작업</td>\n",
       "      <td>상품 프로필 기업홍보 행사</td>\n",
       "      <td>-</td>\n",
       "      <td>가격 정보</td>\n",
       "      <td>STANDARD 130,000원</td>\n",
       "      <td>DELUXE 220,000원</td>\n",
       "      <td>PREMIUM 660,000원</td>\n",
       "    </tr>\n",
       "    <tr>\n",
       "      <th>1</th>\n",
       "      <td>-</td>\n",
       "      <td>-</td>\n",
       "      <td>-</td>\n",
       "      <td>-</td>\n",
       "      <td>-</td>\n",
       "      <td>-</td>\n",
       "      <td>-</td>\n",
       "      <td>-</td>\n",
       "      <td>-</td>\n",
       "      <td>패키지 설명</td>\n",
       "      <td>스튜디오사용안함(3시간 최소 진행) 60분기준 /3시간 최소 진행/색감보정된 원본파...</td>\n",
       "      <td>호리존스튜디오 포함/2시간 최소 진행 60분기준(2시간 최소 진행)/호리죤스튜디오포...</td>\n",
       "      <td>600000(4시간기준) 4시간기준(호리죤스튜디오포함) /협의진행/색감보정된 원본파일제공</td>\n",
       "    </tr>\n",
       "    <tr>\n",
       "      <th>2</th>\n",
       "      <td>-</td>\n",
       "      <td>-</td>\n",
       "      <td>-</td>\n",
       "      <td>-</td>\n",
       "      <td>-</td>\n",
       "      <td>-</td>\n",
       "      <td>-</td>\n",
       "      <td>-</td>\n",
       "      <td>-</td>\n",
       "      <td>보정작업</td>\n",
       "      <td></td>\n",
       "      <td></td>\n",
       "      <td></td>\n",
       "    </tr>\n",
       "    <tr>\n",
       "      <th>3</th>\n",
       "      <td>-</td>\n",
       "      <td>-</td>\n",
       "      <td>-</td>\n",
       "      <td>-</td>\n",
       "      <td>-</td>\n",
       "      <td>-</td>\n",
       "      <td>-</td>\n",
       "      <td>-</td>\n",
       "      <td>-</td>\n",
       "      <td>수정 횟수</td>\n",
       "      <td>1회</td>\n",
       "      <td>1회</td>\n",
       "      <td>1회</td>\n",
       "    </tr>\n",
       "    <tr>\n",
       "      <th>4</th>\n",
       "      <td>-</td>\n",
       "      <td>-</td>\n",
       "      <td>-</td>\n",
       "      <td>-</td>\n",
       "      <td>-</td>\n",
       "      <td>-</td>\n",
       "      <td>-</td>\n",
       "      <td>-</td>\n",
       "      <td>-</td>\n",
       "      <td>작업일</td>\n",
       "      <td>5일</td>\n",
       "      <td>7일</td>\n",
       "      <td>7일</td>\n",
       "    </tr>\n",
       "    <tr>\n",
       "      <th>5</th>\n",
       "      <td>-</td>\n",
       "      <td>-</td>\n",
       "      <td>-</td>\n",
       "      <td>-</td>\n",
       "      <td>-</td>\n",
       "      <td>-</td>\n",
       "      <td>-</td>\n",
       "      <td>-</td>\n",
       "      <td>-</td>\n",
       "      <td>촬영 시간 (분)</td>\n",
       "      <td>60분</td>\n",
       "      <td>60분</td>\n",
       "      <td>240분</td>\n",
       "    </tr>\n",
       "    <tr>\n",
       "      <th>6</th>\n",
       "      <td>-</td>\n",
       "      <td>-</td>\n",
       "      <td>-</td>\n",
       "      <td>-</td>\n",
       "      <td>-</td>\n",
       "      <td>-</td>\n",
       "      <td>-</td>\n",
       "      <td>-</td>\n",
       "      <td>-</td>\n",
       "      <td>촬영 시간 추가</td>\n",
       "      <td>+ 0원 (60분/160,000원)</td>\n",
       "      <td>+ 0원 (60분/160,000원)</td>\n",
       "      <td>+ 0원 (60분/160,000원)</td>\n",
       "    </tr>\n",
       "    <tr>\n",
       "      <th>0</th>\n",
       "      <td>https://kmong.com/gig/220287</td>\n",
       "      <td>-</td>\n",
       "      <td>아츠달스튜디오</td>\n",
       "      <td>-</td>\n",
       "      <td>59건</td>\n",
       "      <td>현직스타일리스트와 함께 제품촬영 다양하게 연출가능한 아츠달스튜디오입니다. 스튜디오 ...</td>\n",
       "      <td>촬영 편집/후반작업</td>\n",
       "      <td>상품</td>\n",
       "      <td>-</td>\n",
       "      <td>가격 정보</td>\n",
       "      <td>STANDARD 12,000원</td>\n",
       "      <td>DELUXE 99,000원</td>\n",
       "      <td>PREMIUM 500,000원</td>\n",
       "    </tr>\n",
       "    <tr>\n",
       "      <th>1</th>\n",
       "      <td>-</td>\n",
       "      <td>-</td>\n",
       "      <td>-</td>\n",
       "      <td>-</td>\n",
       "      <td>-</td>\n",
       "      <td>-</td>\n",
       "      <td>-</td>\n",
       "      <td>-</td>\n",
       "      <td>-</td>\n",
       "      <td>패키지 설명</td>\n",
       "      <td>누끼촬영 제품1개당 가격 / 화이트배경에 연출없이 촬영(빛반사가 없는 제품기준)/ ...</td>\n",
       "      <td>연출촬영 자연광/색지 컷당 필요하신연출촬영진행 / 세부보정을포함한비용 협의</td>\n",
       "      <td>프리미엄촬영 컨셉갯수무제한 기본3시간 시간동안에는 컨셉제한없이 진행 / 추가 1시간...</td>\n",
       "    </tr>\n",
       "    <tr>\n",
       "      <th>2</th>\n",
       "      <td>-</td>\n",
       "      <td>-</td>\n",
       "      <td>-</td>\n",
       "      <td>-</td>\n",
       "      <td>-</td>\n",
       "      <td>-</td>\n",
       "      <td>-</td>\n",
       "      <td>-</td>\n",
       "      <td>-</td>\n",
       "      <td>보정작업</td>\n",
       "      <td></td>\n",
       "      <td></td>\n",
       "      <td></td>\n",
       "    </tr>\n",
       "    <tr>\n",
       "      <th>3</th>\n",
       "      <td>-</td>\n",
       "      <td>-</td>\n",
       "      <td>-</td>\n",
       "      <td>-</td>\n",
       "      <td>-</td>\n",
       "      <td>-</td>\n",
       "      <td>-</td>\n",
       "      <td>-</td>\n",
       "      <td>-</td>\n",
       "      <td>이미지 장 수</td>\n",
       "      <td>1장</td>\n",
       "      <td>2장</td>\n",
       "      <td>-</td>\n",
       "    </tr>\n",
       "    <tr>\n",
       "      <th>4</th>\n",
       "      <td>-</td>\n",
       "      <td>-</td>\n",
       "      <td>-</td>\n",
       "      <td>-</td>\n",
       "      <td>-</td>\n",
       "      <td>-</td>\n",
       "      <td>-</td>\n",
       "      <td>-</td>\n",
       "      <td>-</td>\n",
       "      <td>수정 횟수</td>\n",
       "      <td>1회</td>\n",
       "      <td>1회</td>\n",
       "      <td>1회</td>\n",
       "    </tr>\n",
       "    <tr>\n",
       "      <th>5</th>\n",
       "      <td>-</td>\n",
       "      <td>-</td>\n",
       "      <td>-</td>\n",
       "      <td>-</td>\n",
       "      <td>-</td>\n",
       "      <td>-</td>\n",
       "      <td>-</td>\n",
       "      <td>-</td>\n",
       "      <td>-</td>\n",
       "      <td>작업일</td>\n",
       "      <td>7일</td>\n",
       "      <td>5일</td>\n",
       "      <td>7일</td>\n",
       "    </tr>\n",
       "    <tr>\n",
       "      <th>6</th>\n",
       "      <td>-</td>\n",
       "      <td>-</td>\n",
       "      <td>-</td>\n",
       "      <td>-</td>\n",
       "      <td>-</td>\n",
       "      <td>-</td>\n",
       "      <td>-</td>\n",
       "      <td>-</td>\n",
       "      <td>-</td>\n",
       "      <td>촬영 시간 (분)</td>\n",
       "      <td>30분</td>\n",
       "      <td>60분</td>\n",
       "      <td>180분</td>\n",
       "    </tr>\n",
       "    <tr>\n",
       "      <th>7</th>\n",
       "      <td>-</td>\n",
       "      <td>-</td>\n",
       "      <td>-</td>\n",
       "      <td>-</td>\n",
       "      <td>-</td>\n",
       "      <td>-</td>\n",
       "      <td>-</td>\n",
       "      <td>-</td>\n",
       "      <td>-</td>\n",
       "      <td>촬영 시간 추가</td>\n",
       "      <td>+ 0원 (30분/15,000원)</td>\n",
       "      <td>+ 0원 (60분/15,000원)</td>\n",
       "      <td>+ 0원 (60분/200,000원)</td>\n",
       "    </tr>\n",
       "  </tbody>\n",
       "</table>\n",
       "</div>"
      ],
      "text/plain": [
       "                             링크     등급      제작자 전화번호  작업수  \\\n",
       "2                             -      -        -    -    -   \n",
       "3                             -      -        -    -    -   \n",
       "4                             -      -        -    -    -   \n",
       "5                             -      -        -    -    -   \n",
       "6                             -      -        -    -    -   \n",
       "0  https://kmong.com/gig/228352  prime  카이엔스튜디오    -  10건   \n",
       "1                             -      -        -    -    -   \n",
       "2                             -      -        -    -    -   \n",
       "3                             -      -        -    -    -   \n",
       "4                             -      -        -    -    -   \n",
       "5                             -      -        -    -    -   \n",
       "6                             -      -        -    -    -   \n",
       "0  https://kmong.com/gig/220287      -  아츠달스튜디오    -  59건   \n",
       "1                             -      -        -    -    -   \n",
       "2                             -      -        -    -    -   \n",
       "3                             -      -        -    -    -   \n",
       "4                             -      -        -    -    -   \n",
       "5                             -      -        -    -    -   \n",
       "6                             -      -        -    -    -   \n",
       "7                             -      -        -    -    -   \n",
       "\n",
       "                                               전문가소개        작업유형  \\\n",
       "2                                                  -           -   \n",
       "3                                                  -           -   \n",
       "4                                                  -           -   \n",
       "5                                                  -           -   \n",
       "6                                                  -           -   \n",
       "0  안녕하세요  포토그래퍼 김명현(카이엔)입니다~ 포토그래퍼 경력 12년차 됩니다  여...  촬영 편집/후반작업   \n",
       "1                                                  -           -   \n",
       "2                                                  -           -   \n",
       "3                                                  -           -   \n",
       "4                                                  -           -   \n",
       "5                                                  -           -   \n",
       "6                                                  -           -   \n",
       "0  현직스타일리스트와 함께 제품촬영 다양하게 연출가능한 아츠달스튜디오입니다. 스튜디오 ...  촬영 편집/후반작업   \n",
       "1                                                  -           -   \n",
       "2                                                  -           -   \n",
       "3                                                  -           -   \n",
       "4                                                  -           -   \n",
       "5                                                  -           -   \n",
       "6                                                  -           -   \n",
       "7                                                  -           -   \n",
       "\n",
       "             작업종류                                              싱글패키지  \\\n",
       "2               -  기본요금 15만원 (장비대여료) +출장비 (거리에따라 별도청구) +촬영목적에 따라 ...   \n",
       "3               -                                               보정작업   \n",
       "4               -                                   촬영 시간 (분) : 180분   \n",
       "5               -                                            작업일: 7일   \n",
       "6               -                                        수정 횟수: 제한없음   \n",
       "0  상품 프로필 기업홍보 행사                                                  -   \n",
       "1               -                                                  -   \n",
       "2               -                                                  -   \n",
       "3               -                                                  -   \n",
       "4               -                                                  -   \n",
       "5               -                                                  -   \n",
       "6               -                                                  -   \n",
       "0              상품                                                  -   \n",
       "1               -                                                  -   \n",
       "2               -                                                  -   \n",
       "3               -                                                  -   \n",
       "4               -                                                  -   \n",
       "5               -                                                  -   \n",
       "6               -                                                  -   \n",
       "7               -                                                  -   \n",
       "\n",
       "          항목                                                가격1  \\\n",
       "2          -                                                  -   \n",
       "3          -                                                  -   \n",
       "4          -                                                  -   \n",
       "5          -                                                  -   \n",
       "6          -                                                  -   \n",
       "0      가격 정보                                  STANDARD 130,000원   \n",
       "1     패키지 설명  스튜디오사용안함(3시간 최소 진행) 60분기준 /3시간 최소 진행/색감보정된 원본파...   \n",
       "2       보정작업                                                      \n",
       "3      수정 횟수                                                 1회   \n",
       "4        작업일                                                 5일   \n",
       "5  촬영 시간 (분)                                                60분   \n",
       "6   촬영 시간 추가                                + 0원 (60분/160,000원)   \n",
       "0      가격 정보                                   STANDARD 12,000원   \n",
       "1     패키지 설명  누끼촬영 제품1개당 가격 / 화이트배경에 연출없이 촬영(빛반사가 없는 제품기준)/ ...   \n",
       "2       보정작업                                                      \n",
       "3    이미지 장 수                                                 1장   \n",
       "4      수정 횟수                                                 1회   \n",
       "5        작업일                                                 7일   \n",
       "6  촬영 시간 (분)                                                30분   \n",
       "7   촬영 시간 추가                                 + 0원 (30분/15,000원)   \n",
       "\n",
       "                                                 가격2  \\\n",
       "2                                                  -   \n",
       "3                                                  -   \n",
       "4                                                  -   \n",
       "5                                                  -   \n",
       "6                                                  -   \n",
       "0                                    DELUXE 220,000원   \n",
       "1  호리존스튜디오 포함/2시간 최소 진행 60분기준(2시간 최소 진행)/호리죤스튜디오포...   \n",
       "2                                                      \n",
       "3                                                 1회   \n",
       "4                                                 7일   \n",
       "5                                                60분   \n",
       "6                                + 0원 (60분/160,000원)   \n",
       "0                                     DELUXE 99,000원   \n",
       "1          연출촬영 자연광/색지 컷당 필요하신연출촬영진행 / 세부보정을포함한비용 협의   \n",
       "2                                                      \n",
       "3                                                 2장   \n",
       "4                                                 1회   \n",
       "5                                                 5일   \n",
       "6                                                60분   \n",
       "7                                 + 0원 (60분/15,000원)   \n",
       "\n",
       "                                                 가격3  \n",
       "2                                                  -  \n",
       "3                                                  -  \n",
       "4                                                  -  \n",
       "5                                                  -  \n",
       "6                                                  -  \n",
       "0                                   PREMIUM 660,000원  \n",
       "1  600000(4시간기준) 4시간기준(호리죤스튜디오포함) /협의진행/색감보정된 원본파일제공  \n",
       "2                                                     \n",
       "3                                                 1회  \n",
       "4                                                 7일  \n",
       "5                                               240분  \n",
       "6                                + 0원 (60분/160,000원)  \n",
       "0                                   PREMIUM 500,000원  \n",
       "1  프리미엄촬영 컨셉갯수무제한 기본3시간 시간동안에는 컨셉제한없이 진행 / 추가 1시간...  \n",
       "2                                                     \n",
       "3                                                  -  \n",
       "4                                                 1회  \n",
       "5                                                 7일  \n",
       "6                                               180분  \n",
       "7                                + 0원 (60분/200,000원)  "
      ]
     },
     "execution_count": 91,
     "metadata": {},
     "output_type": "execute_result"
    }
   ],
   "source": [
    "table.tail(20)"
   ]
  },
  {
   "cell_type": "markdown",
   "metadata": {},
   "source": [
    "## 전체 게시글 읽기"
   ]
  },
  {
   "cell_type": "code",
   "execution_count": null,
   "metadata": {},
   "outputs": [],
   "source": [
    "# webdirver옵션에서 headless기능을 사용하겠다 라는 내용\n",
    "# webdriver_options = webdriver.ChromeOptions()\n",
    "# webdriver_options .add_argument('headless')\n",
    "\n",
    "# chromedriver = 'C:/dev_python/Webdriver/chromedriver.exe'\n",
    "# driver = webdriver.Chrome(chromedriver, options=webdriver_options )\n"
   ]
  },
  {
   "cell_type": "code",
   "execution_count": 307,
   "metadata": {},
   "outputs": [],
   "source": [
    "driver=webdriver.Chrome('/Users/ash/Documents/chromedriver')\n",
    "driver.get(\"https://kmong.com/\")\n",
    "driver.find_element_by_css_selector(\"#kmongNavBar > div.container-1170.position-relative > div.flex-between-center.height-70px > div.flex-end-center > div.header-right-info.flex-center.NavRight > div:nth-child(2) > a\").click()\n",
    "driver.find_element_by_name('email').send_keys('tkemf1@naver.com')\n",
    "driver.find_element_by_name('password').send_keys('Sp12dlqj2*')\n",
    "driver.find_element_by_id('loginBtn').click()"
   ]
  },
  {
   "cell_type": "code",
   "execution_count": 126,
   "metadata": {},
   "outputs": [],
   "source": [
    "Link = []\n",
    "a = driver.find_elements_by_class_name('GigList')\n",
    "element = driver.find_element_by_tag_name('body')\n",
    "element.send_keys(Keys.END)\n",
    "driver.implicitly_wait(5)\n",
    "for num in range(36):\n",
    "    b = a[num].find_element_by_tag_name('a')\n",
    "    c = b.get_attribute('href')\n",
    "    Link.append(c)"
   ]
  },
  {
   "cell_type": "code",
   "execution_count": 230,
   "metadata": {},
   "outputs": [
    {
     "name": "stdout",
     "output_type": "stream",
     "text": [
      "driver quit\n"
     ]
    }
   ],
   "source": [
    "webdriver_options = webdriver.ChromeOptions()\n",
    "webdriver_options .add_argument('headless')\n",
    "\n",
    "driver=webdriver.Chrome('/Users/ash/Documents/chromedriver', options=webdriver_options)\n",
    "Link = []\n",
    "for page in range(1,33):\n",
    "    url = \"https://kmong.com/category/724?page={}&sort=ranking_points&online=false&company=false&is_prime=false&ratings=&meta=&is_it_portfolio=false\".format(page)\n",
    "    driver.get(url)\n",
    "    driver.implicitly_wait(5)\n",
    "    time.sleep(2)\n",
    "    element = driver.find_element_by_tag_name('body')\n",
    "    element.send_keys(Keys.END)\n",
    "    driver.implicitly_wait(10)\n",
    "    time.sleep(1)\n",
    "    element.send_keys(Keys.END)\n",
    "    a = driver.find_elements_by_class_name('GigList')\n",
    "    time.sleep(2)\n",
    "    try:\n",
    "        for num in range(36):\n",
    "            b = a[num].find_element_by_tag_name('a')\n",
    "            c = b.get_attribute('href')\n",
    "            Link.append(c)\n",
    "    except:\n",
    "        print(\"driver quit\")"
   ]
  },
  {
   "cell_type": "code",
   "execution_count": 231,
   "metadata": {},
   "outputs": [
    {
     "data": {
      "text/plain": [
       "1122"
      ]
     },
     "execution_count": 231,
     "metadata": {},
     "output_type": "execute_result"
    }
   ],
   "source": [
    "len(Link)"
   ]
  },
  {
   "cell_type": "markdown",
   "metadata": {},
   "source": [
    "### 에러 링크 찾고 제거"
   ]
  },
  {
   "cell_type": "code",
   "execution_count": 322,
   "metadata": {},
   "outputs": [],
   "source": [
    "from urllib.request import urlopen\n",
    "from urllib.error import URLError, HTTPError\n",
    " \n",
    "    \n",
    "for url in new_link:\n",
    "    try:\n",
    "        res = urlopen(url)\n",
    "#         print(res.status)\n",
    "    except HTTPError as e:\n",
    "        err = e.read()\n",
    "        code = e.getcode()\n",
    "        print(code) ## 404\n",
    "        print(url)\n",
    "        new_link.remove(url)"
   ]
  },
  {
   "cell_type": "code",
   "execution_count": 323,
   "metadata": {},
   "outputs": [
    {
     "data": {
      "text/plain": [
       "95"
      ]
     },
     "execution_count": 323,
     "metadata": {},
     "output_type": "execute_result"
    }
   ],
   "source": [
    "len(new_link)"
   ]
  },
  {
   "cell_type": "code",
   "execution_count": 221,
   "metadata": {},
   "outputs": [],
   "source": [
    "kmong_link = pd.DataFrame(Link)"
   ]
  },
  {
   "cell_type": "code",
   "execution_count": 223,
   "metadata": {},
   "outputs": [],
   "source": [
    "kmong_link.to_csv(\"kmongpiclink.csv\")"
   ]
  },
  {
   "cell_type": "code",
   "execution_count": 220,
   "metadata": {},
   "outputs": [
    {
     "ename": "AttributeError",
     "evalue": "'list' object has no attribute 'to_csv'",
     "output_type": "error",
     "traceback": [
      "\u001b[0;31m---------------------------------------------------------------------------\u001b[0m",
      "\u001b[0;31mAttributeError\u001b[0m                            Traceback (most recent call last)",
      "\u001b[0;32m<ipython-input-220-eb221cba6ef8>\u001b[0m in \u001b[0;36m<module>\u001b[0;34m\u001b[0m\n\u001b[0;32m----> 1\u001b[0;31m \u001b[0mLink\u001b[0m\u001b[0;34m.\u001b[0m\u001b[0mto_csv\u001b[0m\u001b[0;34m(\u001b[0m\u001b[0;34m\"Link_kmong_pic.csv\"\u001b[0m\u001b[0;34m)\u001b[0m\u001b[0;34m\u001b[0m\u001b[0;34m\u001b[0m\u001b[0m\n\u001b[0m",
      "\u001b[0;31mAttributeError\u001b[0m: 'list' object has no attribute 'to_csv'"
     ]
    }
   ],
   "source": [
    "Link.to_csv(\"Link_kmong_pic.csv\")"
   ]
  },
  {
   "cell_type": "code",
   "execution_count": 233,
   "metadata": {},
   "outputs": [],
   "source": [
    "webdriver_options = webdriver.ChromeOptions()\n",
    "webdriver_options .add_argument('headless')\n",
    "\n",
    "driver=webdriver.Chrome('/Users/ash/Documents/chromedriver', options=webdriver_options)"
   ]
  },
  {
   "cell_type": "code",
   "execution_count": 324,
   "metadata": {},
   "outputs": [],
   "source": [
    "webdriver_options = webdriver.ChromeOptions()\n",
    "webdriver_options .add_argument('headless')\n",
    "\n",
    "driver=webdriver.Chrome('/Users/ash/Documents/chromedriver')\n",
    "\n",
    "driver.get(\"https://kmong.com/\")\n",
    "driver.find_element_by_css_selector(\"#kmongNavBar > div.container-1170.position-relative > div.flex-between-center.height-70px > div.flex-end-center > div.header-right-info.flex-center.NavRight > div:nth-child(2) > a\").click()\n",
    "driver.find_element_by_name('email').send_keys('tkemf1@naver.com')\n",
    "driver.find_element_by_name('password').send_keys('Sp12dlqj2*')\n",
    "driver.find_element_by_id('loginBtn').click()\n",
    "\n",
    "\n",
    "kmong_coulums = [\"링크\", \"등급\",\"제작자\", \"전화번호\", \"작업수\", \"전문가소개\", \"작업유형\", \"작업종류\", \"싱글패키지\", \"항목\", \"가격1\", \"가격2\", \"가격3\"]\n",
    "table = pd.DataFrame(columns=kmong_coulums)\n",
    "\n",
    "## 팝업 띄우기\n",
    "# element = driver.find_element_by_tag_name('body')\n",
    "# element.send_keys(Keys.END)\n",
    "## 팝업제거\n",
    "# button = driver.find_element_by_xpath('/html/body/div[2]/div/div/div/div[1]/button[@type=\"button\"]')\n",
    "# time.sleep(2)\n",
    "# button.click()\n",
    "    \n",
    "for post in new_link:\n",
    "    \n",
    "    driver.get(post)\n",
    "    driver.implicitly_wait(2)\n",
    "    Producer = []\n",
    "    Number = []\n",
    "    Work = []\n",
    "    Intro = []\n",
    "    Category1 = []\n",
    "    Category2 = []\n",
    "    Price1 = []\n",
    "    Price2 = []\n",
    "    Pri = []\n",
    "    Body = []\n",
    "    body1 = []\n",
    "    body2 = []\n",
    "    body3 = []\n",
    "    column = []\n",
    "    index = []\n",
    "    link = [post]\n",
    "    Prime = []\n",
    "    try:\n",
    "        producer = driver.find_element_by_css_selector('#router-view > div > div.gig-detail-content > div.RightModules > div.GigSellerProfile > div.seller-profile > h1 > a.GigSellerProfile__username')\n",
    "        Producer.append(producer.text)\n",
    "    except:\n",
    "        Producer.append(\"-\")\n",
    "         # 전화번호 읽기\n",
    "    try:\n",
    "        number = driver.find_element_by_css_selector(\"#router-view > div > div.gig-detail-content > div.RightModules > div.GigSellerProfile > div.seller-request > h5.safe-number > span\")\n",
    "        Number.append(number.text)\n",
    "    except:\n",
    "        Number.append(\"-\")\n",
    "        # 등급 prime\n",
    "    try:\n",
    "        prime = driver.find_element_by_class_name(\"prime-badge\")\n",
    "        Prime.append(\"Prime\")\n",
    "    except:\n",
    "        Prime.append(\"-\")\n",
    "         # 작업물 횟수\n",
    "    try:\n",
    "        work = driver.find_element_by_css_selector('#router-view > div > div.gig-detail-content > div.RightModules > div.GigSellerProfile > div.seller-information-wrap > div:nth-child(1) > h5')\n",
    "        Work.append(work.text)\n",
    "    except:\n",
    "        Work.append(\"-\")\n",
    "         # 전문가 소개\n",
    "    try:\n",
    "        intro = driver.find_element_by_css_selector('#router-view > div > div.gig-detail-content > div.RightModules > div.GigSellerProfile > div.seller-description > h5.description')\n",
    "        Intro.append(intro.text.replace(\"\\n\", \" \"))\n",
    "    except:\n",
    "        Intro.append(\"-\")\n",
    "        \n",
    "    try:\n",
    "        category = driver.find_elements_by_class_name('meta-box')\n",
    "        Category1.append(category[0].text.replace(\"\\n\", \" \"))\n",
    "    except:\n",
    "        Category1.append(\"-\")\n",
    "\n",
    "    try:\n",
    "        category = driver.find_elements_by_class_name('meta-box')\n",
    "        Category2.append(category[1].text.replace(\"\\n\", \" \"))\n",
    "    except:\n",
    "        Category2.append(\"-\")\n",
    "        \n",
    "    try :\n",
    "        driver.find_element_by_class_name(\"gig-single-package\")\n",
    "        sin_pri = driver.find_element_by_class_name(\"package-price\").text\n",
    "        sin_body = driver.find_element_by_class_name(\"package-information\").text.split(\"\\n\")\n",
    "        for x in ([sin_pri] + sin_body):\n",
    "            Price1.append(x)\n",
    "\n",
    "    except:  \n",
    "        for i in range(2,5):\n",
    "            standard = driver.find_elements_by_css_selector(\"#router-view > div > div.gig-detail-content > div.LeftModules > div.GigPackageTable > div.gig-package-table > div.package-header > div:nth-child({})\".format(i))\n",
    "            for sta in standard:\n",
    "                Pri.append(sta.text)\n",
    "        for pri in Pri:\n",
    "            z = pri.replace(\"\\n\", \" \")\n",
    "            column.append(z)\n",
    "        body = driver.find_elements_by_class_name(\"package-body-items\")\n",
    "        for u in body:\n",
    "            Body.append(u.text) \n",
    "\n",
    "        body1.append(column[0])\n",
    "        for x in Body[1::4]:\n",
    "            x = x.replace(\"\\n\", \" \")\n",
    "            body1.append(x)\n",
    "\n",
    "        body2.append(column[1])\n",
    "        for h in Body[2::4]:\n",
    "            h = h.replace(\"\\n\", \" \")\n",
    "            body2.append(h)\n",
    "\n",
    "        body3.append(column[2])\n",
    "        for k in Body[3::4]:\n",
    "            k = k.replace(\"\\n\", \" \")\n",
    "            body3.append(k)\n",
    "        a = driver.find_element_by_css_selector(\"#router-view > div > div.gig-detail-content > div.LeftModules > div.GigPackageTable > div.GigLeftTitle\").text\n",
    "        for t in Body[0::4]:\n",
    "            index.append(t)\n",
    "        index.insert(0, a)\n",
    "    if len(Price1) > 0:\n",
    "        for z in range(1, len(Price1)):\n",
    "            Producer.append(\"-\")\n",
    "            Number.append(\"-\")\n",
    "            Work.append(\"-\")\n",
    "            Intro.append(\"-\")\n",
    "            Category1.append(\"-\")\n",
    "            Category2.append(\"-\")\n",
    "            link.append(\"-\")\n",
    "            index.append(\"-\")\n",
    "            Prime.append(\"-\")\n",
    "        kmong_1 = pd.DataFrame({\"링크\" : link,\"등급\" : Prime,\"제작자\" : Producer, \"전화번호\" : Number, \"작업수\" : Work, \"전문가소개\" : Intro, \"작업유형\" : Category1, \"작업종류\" : Category2, \"싱글패키지\" : Price1, \"항목\" : \"-\", \"가격1\" : \"-\", \"가격2\" : \"-\", \"가격3\" : \"-\"})\n",
    "        table = pd.concat([table, kmong_1])\n",
    "    elif len(body1) > 0:\n",
    "        for x in range(1, len(body1)):\n",
    "            Producer.append(\"-\")\n",
    "            Number.append(\"-\")\n",
    "            Work.append(\"-\")\n",
    "            Intro.append(\"-\")\n",
    "            Category1.append(\"-\")\n",
    "            Category2.append(\"-\")\n",
    "            link.append(\"-\")\n",
    "            Prime.append(\"-\")\n",
    "        kmong_2 = pd.DataFrame({\"링크\" : link, \"등급\" : Prime,\"제작자\" : Producer, \"전화번호\" : Number, \"작업수\" : Work, \"전문가소개\" : Intro, \"작업유형\" : Category1, \"작업종류\" : Category2,\"싱글패키지\" : \"-\" ,\"항목\" : index, \"가격1\" : body1, \"가격2\" : body2, \"가격3\" : body3})\n",
    "        table = pd.concat([table, kmong_2])\n",
    "\n",
    "    \n",
    "\n",
    "    "
   ]
  },
  {
   "cell_type": "code",
   "execution_count": 213,
   "metadata": {},
   "outputs": [],
   "source": [
    "table.to_csv('test.csv')"
   ]
  },
  {
   "cell_type": "code",
   "execution_count": 287,
   "metadata": {},
   "outputs": [],
   "source": [
    "table.to_excel(\"test.xlsx\")"
   ]
  },
  {
   "cell_type": "code",
   "execution_count": 422,
   "metadata": {},
   "outputs": [
    {
     "data": {
      "text/html": [
       "<div>\n",
       "<style scoped>\n",
       "    .dataframe tbody tr th:only-of-type {\n",
       "        vertical-align: middle;\n",
       "    }\n",
       "\n",
       "    .dataframe tbody tr th {\n",
       "        vertical-align: top;\n",
       "    }\n",
       "\n",
       "    .dataframe thead th {\n",
       "        text-align: right;\n",
       "    }\n",
       "</style>\n",
       "<table border=\"1\" class=\"dataframe\">\n",
       "  <thead>\n",
       "    <tr style=\"text-align: right;\">\n",
       "      <th></th>\n",
       "      <th>링크</th>\n",
       "      <th>등급</th>\n",
       "      <th>제작자</th>\n",
       "      <th>전화번호</th>\n",
       "      <th>작업수</th>\n",
       "      <th>전문가소개</th>\n",
       "      <th>작업유형</th>\n",
       "      <th>작업종류</th>\n",
       "      <th>싱글패키지</th>\n",
       "      <th>항목</th>\n",
       "      <th>가격1</th>\n",
       "      <th>가격2</th>\n",
       "      <th>가격3</th>\n",
       "    </tr>\n",
       "  </thead>\n",
       "  <tbody>\n",
       "    <tr>\n",
       "      <th>0</th>\n",
       "      <td>https://kmong.com/gig/141614</td>\n",
       "      <td>-</td>\n",
       "      <td>byseo</td>\n",
       "      <td>-</td>\n",
       "      <td>1건</td>\n",
       "      <td>자연스러운 아름다움을 추구합니다.</td>\n",
       "      <td>촬영</td>\n",
       "      <td>행사</td>\n",
       "      <td>-</td>\n",
       "      <td>가격 정보</td>\n",
       "      <td>STANDARD 400,000원</td>\n",
       "      <td>DELUXE 750,000원</td>\n",
       "      <td>PREMIUM 1,000,000원</td>\n",
       "    </tr>\n",
       "    <tr>\n",
       "      <th>1</th>\n",
       "      <td>-</td>\n",
       "      <td>-</td>\n",
       "      <td>-</td>\n",
       "      <td>-</td>\n",
       "      <td>-</td>\n",
       "      <td>-</td>\n",
       "      <td>-</td>\n",
       "      <td>-</td>\n",
       "      <td>-</td>\n",
       "      <td>패키지 설명</td>\n",
       "      <td>서브데이터형 원본 모두 제공 고객 셀렉 40장</td>\n",
       "      <td>일반패키지형(앨범) 원본 모두 제공 고객 셀렉 40장 앨범30p 1권 앨범 10p ...</td>\n",
       "      <td>고급패키지형(앨범) 원본 모두 제공 고객 셀렉 40장 앨범40p 1권 앨범 20p ...</td>\n",
       "    </tr>\n",
       "    <tr>\n",
       "      <th>2</th>\n",
       "      <td>-</td>\n",
       "      <td>-</td>\n",
       "      <td>-</td>\n",
       "      <td>-</td>\n",
       "      <td>-</td>\n",
       "      <td>-</td>\n",
       "      <td>-</td>\n",
       "      <td>-</td>\n",
       "      <td>-</td>\n",
       "      <td>보정작업</td>\n",
       "      <td></td>\n",
       "      <td></td>\n",
       "      <td></td>\n",
       "    </tr>\n",
       "    <tr>\n",
       "      <th>3</th>\n",
       "      <td>-</td>\n",
       "      <td>-</td>\n",
       "      <td>-</td>\n",
       "      <td>-</td>\n",
       "      <td>-</td>\n",
       "      <td>-</td>\n",
       "      <td>-</td>\n",
       "      <td>-</td>\n",
       "      <td>-</td>\n",
       "      <td>촬영 시간 (분)</td>\n",
       "      <td>180분</td>\n",
       "      <td>180분</td>\n",
       "      <td>180분</td>\n",
       "    </tr>\n",
       "    <tr>\n",
       "      <th>4</th>\n",
       "      <td>-</td>\n",
       "      <td>-</td>\n",
       "      <td>-</td>\n",
       "      <td>-</td>\n",
       "      <td>-</td>\n",
       "      <td>-</td>\n",
       "      <td>-</td>\n",
       "      <td>-</td>\n",
       "      <td>-</td>\n",
       "      <td>수정 횟수</td>\n",
       "      <td>3회</td>\n",
       "      <td>3회</td>\n",
       "      <td>3회</td>\n",
       "    </tr>\n",
       "    <tr>\n",
       "      <th>...</th>\n",
       "      <td>...</td>\n",
       "      <td>...</td>\n",
       "      <td>...</td>\n",
       "      <td>...</td>\n",
       "      <td>...</td>\n",
       "      <td>...</td>\n",
       "      <td>...</td>\n",
       "      <td>...</td>\n",
       "      <td>...</td>\n",
       "      <td>...</td>\n",
       "      <td>...</td>\n",
       "      <td>...</td>\n",
       "      <td>...</td>\n",
       "    </tr>\n",
       "    <tr>\n",
       "      <th>2</th>\n",
       "      <td>-</td>\n",
       "      <td>-</td>\n",
       "      <td>-</td>\n",
       "      <td>-</td>\n",
       "      <td>-</td>\n",
       "      <td>-</td>\n",
       "      <td>-</td>\n",
       "      <td>-</td>\n",
       "      <td>-</td>\n",
       "      <td>보정작업</td>\n",
       "      <td></td>\n",
       "      <td></td>\n",
       "      <td></td>\n",
       "    </tr>\n",
       "    <tr>\n",
       "      <th>3</th>\n",
       "      <td>-</td>\n",
       "      <td>-</td>\n",
       "      <td>-</td>\n",
       "      <td>-</td>\n",
       "      <td>-</td>\n",
       "      <td>-</td>\n",
       "      <td>-</td>\n",
       "      <td>-</td>\n",
       "      <td>-</td>\n",
       "      <td>촬영 시간 (분)</td>\n",
       "      <td>60분</td>\n",
       "      <td>90분</td>\n",
       "      <td>300분</td>\n",
       "    </tr>\n",
       "    <tr>\n",
       "      <th>4</th>\n",
       "      <td>-</td>\n",
       "      <td>-</td>\n",
       "      <td>-</td>\n",
       "      <td>-</td>\n",
       "      <td>-</td>\n",
       "      <td>-</td>\n",
       "      <td>-</td>\n",
       "      <td>-</td>\n",
       "      <td>-</td>\n",
       "      <td>이미지 장 수</td>\n",
       "      <td>3장</td>\n",
       "      <td>6장</td>\n",
       "      <td>6장</td>\n",
       "    </tr>\n",
       "    <tr>\n",
       "      <th>5</th>\n",
       "      <td>-</td>\n",
       "      <td>-</td>\n",
       "      <td>-</td>\n",
       "      <td>-</td>\n",
       "      <td>-</td>\n",
       "      <td>-</td>\n",
       "      <td>-</td>\n",
       "      <td>-</td>\n",
       "      <td>-</td>\n",
       "      <td>수정 횟수</td>\n",
       "      <td>-</td>\n",
       "      <td>-</td>\n",
       "      <td>-</td>\n",
       "    </tr>\n",
       "    <tr>\n",
       "      <th>6</th>\n",
       "      <td>-</td>\n",
       "      <td>-</td>\n",
       "      <td>-</td>\n",
       "      <td>-</td>\n",
       "      <td>-</td>\n",
       "      <td>-</td>\n",
       "      <td>-</td>\n",
       "      <td>-</td>\n",
       "      <td>-</td>\n",
       "      <td>작업일</td>\n",
       "      <td>4일</td>\n",
       "      <td>4일</td>\n",
       "      <td>30일</td>\n",
       "    </tr>\n",
       "  </tbody>\n",
       "</table>\n",
       "<p>670 rows × 13 columns</p>\n",
       "</div>"
      ],
      "text/plain": [
       "                              링크 등급    제작자 전화번호 작업수               전문가소개 작업유형  \\\n",
       "0   https://kmong.com/gig/141614  -  byseo    -  1건  자연스러운 아름다움을 추구합니다.   촬영   \n",
       "1                              -  -      -    -   -                   -    -   \n",
       "2                              -  -      -    -   -                   -    -   \n",
       "3                              -  -      -    -   -                   -    -   \n",
       "4                              -  -      -    -   -                   -    -   \n",
       "..                           ... ..    ...  ...  ..                 ...  ...   \n",
       "2                              -  -      -    -   -                   -    -   \n",
       "3                              -  -      -    -   -                   -    -   \n",
       "4                              -  -      -    -   -                   -    -   \n",
       "5                              -  -      -    -   -                   -    -   \n",
       "6                              -  -      -    -   -                   -    -   \n",
       "\n",
       "   작업종류 싱글패키지         항목                        가격1  \\\n",
       "0    행사     -      가격 정보          STANDARD 400,000원   \n",
       "1     -     -     패키지 설명  서브데이터형 원본 모두 제공 고객 셀렉 40장   \n",
       "2     -     -       보정작업                              \n",
       "3     -     -  촬영 시간 (분)                       180분   \n",
       "4     -     -      수정 횟수                         3회   \n",
       "..  ...   ...        ...                        ...   \n",
       "2     -     -       보정작업                              \n",
       "3     -     -  촬영 시간 (분)                        60분   \n",
       "4     -     -    이미지 장 수                         3장   \n",
       "5     -     -      수정 횟수                          -   \n",
       "6     -     -        작업일                         4일   \n",
       "\n",
       "                                                  가격2  \\\n",
       "0                                     DELUXE 750,000원   \n",
       "1   일반패키지형(앨범) 원본 모두 제공 고객 셀렉 40장 앨범30p 1권 앨범 10p ...   \n",
       "2                                                       \n",
       "3                                                180분   \n",
       "4                                                  3회   \n",
       "..                                                ...   \n",
       "2                                                       \n",
       "3                                                 90분   \n",
       "4                                                  6장   \n",
       "5                                                   -   \n",
       "6                                                  4일   \n",
       "\n",
       "                                                  가격3  \n",
       "0                                  PREMIUM 1,000,000원  \n",
       "1   고급패키지형(앨범) 원본 모두 제공 고객 셀렉 40장 앨범40p 1권 앨범 20p ...  \n",
       "2                                                      \n",
       "3                                                180분  \n",
       "4                                                  3회  \n",
       "..                                                ...  \n",
       "2                                                      \n",
       "3                                                300분  \n",
       "4                                                  6장  \n",
       "5                                                   -  \n",
       "6                                                 30일  \n",
       "\n",
       "[670 rows x 13 columns]"
      ]
     },
     "execution_count": 422,
     "metadata": {},
     "output_type": "execute_result"
    }
   ],
   "source": [
    "table"
   ]
  },
  {
   "cell_type": "code",
   "execution_count": 273,
   "metadata": {},
   "outputs": [
    {
     "data": {
      "text/plain": [
       "['-']"
      ]
     },
     "execution_count": 273,
     "metadata": {},
     "output_type": "execute_result"
    }
   ],
   "source": [
    "Category2"
   ]
  },
  {
   "cell_type": "code",
   "execution_count": 275,
   "metadata": {},
   "outputs": [
    {
     "data": {
      "text/plain": [
       "0"
      ]
     },
     "execution_count": 275,
     "metadata": {},
     "output_type": "execute_result"
    }
   ],
   "source": [
    "len(Price1)"
   ]
  },
  {
   "cell_type": "code",
   "execution_count": 249,
   "metadata": {},
   "outputs": [
    {
     "data": {
      "text/plain": [
       "['https://kmong.com/gig/198267', '-', '-', '-', '-']"
      ]
     },
     "execution_count": 249,
     "metadata": {},
     "output_type": "execute_result"
    }
   ],
   "source": [
    "link"
   ]
  },
  {
   "cell_type": "code",
   "execution_count": 369,
   "metadata": {},
   "outputs": [
    {
     "data": {
      "text/plain": [
       "0    https://kmong.com/gig/141614\n",
       "0    https://kmong.com/gig/141619\n",
       "0    https://kmong.com/gig/141626\n",
       "0    https://kmong.com/gig/160591\n",
       "0    https://kmong.com/gig/253013\n",
       "                 ...             \n",
       "0    https://kmong.com/gig/260910\n",
       "0    https://kmong.com/gig/180337\n",
       "0    https://kmong.com/gig/183993\n",
       "0    https://kmong.com/gig/248245\n",
       "0    https://kmong.com/gig/126291\n",
       "Name: 링크, Length: 95, dtype: object"
      ]
     },
     "execution_count": 369,
     "metadata": {},
     "output_type": "execute_result"
    }
   ],
   "source": [
    "table.링크[0]"
   ]
  },
  {
   "cell_type": "code",
   "execution_count": 357,
   "metadata": {},
   "outputs": [
    {
     "ename": "AttributeError",
     "evalue": "'str' object has no attribute 'tolist'",
     "output_type": "error",
     "traceback": [
      "\u001b[0;31m---------------------------------------------------------------------------\u001b[0m",
      "\u001b[0;31mAttributeError\u001b[0m                            Traceback (most recent call last)",
      "\u001b[0;32m<ipython-input-357-060265ea4bd6>\u001b[0m in \u001b[0;36m<module>\u001b[0;34m\u001b[0m\n\u001b[0;32m----> 1\u001b[0;31m \u001b[0mexcel_link\u001b[0m \u001b[0;34m=\u001b[0m \u001b[0mnp\u001b[0m\u001b[0;34m.\u001b[0m\u001b[0marray\u001b[0m\u001b[0;34m(\u001b[0m\u001b[0mkmong_number\u001b[0m\u001b[0;34m.\u001b[0m\u001b[0m링크\u001b[0m\u001b[0;34m[\u001b[0m\u001b[0;36m0\u001b[0m\u001b[0;34m]\u001b[0m\u001b[0;34m.\u001b[0m\u001b[0mtolist\u001b[0m\u001b[0;34m(\u001b[0m\u001b[0;34m)\u001b[0m\u001b[0;34m)\u001b[0m\u001b[0;34m\u001b[0m\u001b[0;34m\u001b[0m\u001b[0m\n\u001b[0m",
      "\u001b[0;31mAttributeError\u001b[0m: 'str' object has no attribute 'tolist'"
     ]
    }
   ],
   "source": [
    "excel_link = np.array(kmong_number.링크[0].tolist())"
   ]
  },
  {
   "cell_type": "code",
   "execution_count": 300,
   "metadata": {},
   "outputs": [],
   "source": [
    "for illiminate in Link:\n",
    "    if illiminate not in excel_link:\n",
    "        new_link.append(illiminate)"
   ]
  },
  {
   "cell_type": "code",
   "execution_count": 299,
   "metadata": {},
   "outputs": [],
   "source": [
    "new_link = []"
   ]
  },
  {
   "cell_type": "code",
   "execution_count": 339,
   "metadata": {},
   "outputs": [],
   "source": [
    "old_table = pd.read_excel(\"test.xlsx\", index_col=False)"
   ]
  },
  {
   "cell_type": "code",
   "execution_count": 351,
   "metadata": {},
   "outputs": [],
   "source": [
    "kmong_pic = pd.concat([old_table, table])"
   ]
  },
  {
   "cell_type": "code",
   "execution_count": 353,
   "metadata": {},
   "outputs": [],
   "source": [
    "kmong_pic.to_excel(\"kmong_picture.xlsx\")"
   ]
  },
  {
   "cell_type": "code",
   "execution_count": 349,
   "metadata": {},
   "outputs": [],
   "source": [
    "old_table.drop('Unnamed: 0', axis=1, inplace=True)"
   ]
  },
  {
   "cell_type": "code",
   "execution_count": 362,
   "metadata": {},
   "outputs": [],
   "source": [
    "kmong_number = pd.read_excel(\"kmong_picture.xlsx\")"
   ]
  },
  {
   "cell_type": "code",
   "execution_count": 356,
   "metadata": {},
   "outputs": [],
   "source": [
    "kmong_number.drop('Unnamed: 0', axis=1, inplace=True)"
   ]
  },
  {
   "cell_type": "code",
   "execution_count": 389,
   "metadata": {},
   "outputs": [],
   "source": [
    "mising_number = kmong_number.링크.tolist()"
   ]
  },
  {
   "cell_type": "code",
   "execution_count": 403,
   "metadata": {},
   "outputs": [],
   "source": []
  },
  {
   "cell_type": "code",
   "execution_count": 408,
   "metadata": {},
   "outputs": [
    {
     "data": {
      "text/plain": [
       "1121"
      ]
     },
     "execution_count": 408,
     "metadata": {},
     "output_type": "execute_result"
    }
   ],
   "source": [
    "len(mising_number)"
   ]
  },
  {
   "cell_type": "code",
   "execution_count": 410,
   "metadata": {},
   "outputs": [],
   "source": [
    "Number = []\n",
    "for post in mising_number:\n",
    "    \n",
    "    driver.get(post)\n",
    "    driver.implicitly_wait(2)\n",
    "    try:\n",
    "        number = driver.find_element_by_css_selector(\"#router-view > div > div.gig-detail-content > div.RightModules > div.GigSellerProfile > div.seller-request > h5.safe-number > span\")\n",
    "        Number.append(number.text)\n",
    "    except:\n",
    "        Number.append(\"-\")"
   ]
  },
  {
   "cell_type": "code",
   "execution_count": 419,
   "metadata": {},
   "outputs": [],
   "source": [
    "dd = pd.DataFrame(Number)"
   ]
  },
  {
   "cell_type": "code",
   "execution_count": 421,
   "metadata": {},
   "outputs": [],
   "source": [
    "dd.to_excel(\"니 전화번호.xlsx\", index=False)"
   ]
  },
  {
   "cell_type": "code",
   "execution_count": null,
   "metadata": {},
   "outputs": [],
   "source": []
  },
  {
   "cell_type": "code",
   "execution_count": 7,
   "metadata": {},
   "outputs": [],
   "source": [
    "A =  pd.read_excel(\"kmong_picture.xlsx\", index_col=False)"
   ]
  },
  {
   "cell_type": "code",
   "execution_count": 12,
   "metadata": {},
   "outputs": [
    {
     "data": {
      "text/html": [
       "<div>\n",
       "<style scoped>\n",
       "    .dataframe tbody tr th:only-of-type {\n",
       "        vertical-align: middle;\n",
       "    }\n",
       "\n",
       "    .dataframe tbody tr th {\n",
       "        vertical-align: top;\n",
       "    }\n",
       "\n",
       "    .dataframe thead th {\n",
       "        text-align: right;\n",
       "    }\n",
       "</style>\n",
       "<table border=\"1\" class=\"dataframe\">\n",
       "  <thead>\n",
       "    <tr style=\"text-align: right;\">\n",
       "      <th></th>\n",
       "      <th>Unnamed: 0</th>\n",
       "      <th>링크</th>\n",
       "      <th>등급</th>\n",
       "      <th>제작자</th>\n",
       "      <th>전화번호</th>\n",
       "      <th>작업수</th>\n",
       "      <th>전문가소개</th>\n",
       "      <th>작업유형</th>\n",
       "      <th>작업종류</th>\n",
       "      <th>싱글패키지</th>\n",
       "      <th>항목</th>\n",
       "      <th>가격1</th>\n",
       "      <th>가격2</th>\n",
       "      <th>가격3</th>\n",
       "    </tr>\n",
       "  </thead>\n",
       "  <tbody>\n",
       "    <tr>\n",
       "      <th>0</th>\n",
       "      <td>제작자</td>\n",
       "      <td>https://kmong.com/gig/2711</td>\n",
       "      <td>-</td>\n",
       "      <td>Phoenix</td>\n",
       "      <td>-</td>\n",
       "      <td>1631건</td>\n",
       "      <td>안녕하세요.. 저는 웹마스터 손재희라고 합니다.. 현재 크몽에서는 사진촬영, 영상촬...</td>\n",
       "      <td>촬영 편집/후반작업</td>\n",
       "      <td>상품</td>\n",
       "      <td>-</td>\n",
       "      <td>가격 정보</td>\n",
       "      <td>STANDARD 7,000원</td>\n",
       "      <td>DELUXE 60,000원</td>\n",
       "      <td>PREMIUM 250,000원</td>\n",
       "    </tr>\n",
       "    <tr>\n",
       "      <th>1</th>\n",
       "      <td>NaN</td>\n",
       "      <td>-</td>\n",
       "      <td>-</td>\n",
       "      <td>-</td>\n",
       "      <td>-</td>\n",
       "      <td>-</td>\n",
       "      <td>-</td>\n",
       "      <td>-</td>\n",
       "      <td>-</td>\n",
       "      <td>-</td>\n",
       "      <td>패키지 설명</td>\n",
       "      <td>제품당1컷기준 1제품 1컷촬영기준, 기본촬영에 포함되지 않는 제품은 상세내용에서 확...</td>\n",
       "      <td>1제품 1가지컨셉연출 4컷기준 배경,소품,색지등을 이용하여 제품과 연출한컷 다양한 ...</td>\n",
       "      <td>출장컷 제품 , 장소 , 어떤식으로 촬영하는지에 따라 가격 책정</td>\n",
       "    </tr>\n",
       "    <tr>\n",
       "      <th>2</th>\n",
       "      <td>NaN</td>\n",
       "      <td>-</td>\n",
       "      <td>-</td>\n",
       "      <td>-</td>\n",
       "      <td>-</td>\n",
       "      <td>-</td>\n",
       "      <td>-</td>\n",
       "      <td>-</td>\n",
       "      <td>-</td>\n",
       "      <td>-</td>\n",
       "      <td>보정작업</td>\n",
       "      <td>NaN</td>\n",
       "      <td>NaN</td>\n",
       "      <td>-</td>\n",
       "    </tr>\n",
       "    <tr>\n",
       "      <th>3</th>\n",
       "      <td>NaN</td>\n",
       "      <td>-</td>\n",
       "      <td>-</td>\n",
       "      <td>-</td>\n",
       "      <td>-</td>\n",
       "      <td>-</td>\n",
       "      <td>-</td>\n",
       "      <td>-</td>\n",
       "      <td>-</td>\n",
       "      <td>-</td>\n",
       "      <td>촬영 시간 (분)</td>\n",
       "      <td>60분</td>\n",
       "      <td>120분</td>\n",
       "      <td>150분</td>\n",
       "    </tr>\n",
       "    <tr>\n",
       "      <th>4</th>\n",
       "      <td>NaN</td>\n",
       "      <td>-</td>\n",
       "      <td>-</td>\n",
       "      <td>-</td>\n",
       "      <td>-</td>\n",
       "      <td>-</td>\n",
       "      <td>-</td>\n",
       "      <td>-</td>\n",
       "      <td>-</td>\n",
       "      <td>-</td>\n",
       "      <td>이미지 장 수</td>\n",
       "      <td>1장</td>\n",
       "      <td>4장</td>\n",
       "      <td>-</td>\n",
       "    </tr>\n",
       "    <tr>\n",
       "      <th>...</th>\n",
       "      <td>...</td>\n",
       "      <td>...</td>\n",
       "      <td>...</td>\n",
       "      <td>...</td>\n",
       "      <td>...</td>\n",
       "      <td>...</td>\n",
       "      <td>...</td>\n",
       "      <td>...</td>\n",
       "      <td>...</td>\n",
       "      <td>...</td>\n",
       "      <td>...</td>\n",
       "      <td>...</td>\n",
       "      <td>...</td>\n",
       "      <td>...</td>\n",
       "    </tr>\n",
       "    <tr>\n",
       "      <th>7991</th>\n",
       "      <td>NaN</td>\n",
       "      <td>-</td>\n",
       "      <td>-</td>\n",
       "      <td>-</td>\n",
       "      <td>-</td>\n",
       "      <td>-</td>\n",
       "      <td>-</td>\n",
       "      <td>-</td>\n",
       "      <td>-</td>\n",
       "      <td>-</td>\n",
       "      <td>보정작업</td>\n",
       "      <td>NaN</td>\n",
       "      <td>NaN</td>\n",
       "      <td>NaN</td>\n",
       "    </tr>\n",
       "    <tr>\n",
       "      <th>7992</th>\n",
       "      <td>NaN</td>\n",
       "      <td>-</td>\n",
       "      <td>-</td>\n",
       "      <td>-</td>\n",
       "      <td>-</td>\n",
       "      <td>-</td>\n",
       "      <td>-</td>\n",
       "      <td>-</td>\n",
       "      <td>-</td>\n",
       "      <td>-</td>\n",
       "      <td>촬영 시간 (분)</td>\n",
       "      <td>60분</td>\n",
       "      <td>90분</td>\n",
       "      <td>300분</td>\n",
       "    </tr>\n",
       "    <tr>\n",
       "      <th>7993</th>\n",
       "      <td>NaN</td>\n",
       "      <td>-</td>\n",
       "      <td>-</td>\n",
       "      <td>-</td>\n",
       "      <td>-</td>\n",
       "      <td>-</td>\n",
       "      <td>-</td>\n",
       "      <td>-</td>\n",
       "      <td>-</td>\n",
       "      <td>-</td>\n",
       "      <td>이미지 장 수</td>\n",
       "      <td>3장</td>\n",
       "      <td>6장</td>\n",
       "      <td>6장</td>\n",
       "    </tr>\n",
       "    <tr>\n",
       "      <th>7994</th>\n",
       "      <td>NaN</td>\n",
       "      <td>-</td>\n",
       "      <td>-</td>\n",
       "      <td>-</td>\n",
       "      <td>-</td>\n",
       "      <td>-</td>\n",
       "      <td>-</td>\n",
       "      <td>-</td>\n",
       "      <td>-</td>\n",
       "      <td>-</td>\n",
       "      <td>수정 횟수</td>\n",
       "      <td>-</td>\n",
       "      <td>-</td>\n",
       "      <td>-</td>\n",
       "    </tr>\n",
       "    <tr>\n",
       "      <th>7995</th>\n",
       "      <td>NaN</td>\n",
       "      <td>-</td>\n",
       "      <td>-</td>\n",
       "      <td>-</td>\n",
       "      <td>-</td>\n",
       "      <td>-</td>\n",
       "      <td>-</td>\n",
       "      <td>-</td>\n",
       "      <td>-</td>\n",
       "      <td>-</td>\n",
       "      <td>작업일</td>\n",
       "      <td>4일</td>\n",
       "      <td>4일</td>\n",
       "      <td>30일</td>\n",
       "    </tr>\n",
       "  </tbody>\n",
       "</table>\n",
       "<p>7996 rows × 14 columns</p>\n",
       "</div>"
      ],
      "text/plain": [
       "     Unnamed: 0                          링크 등급      제작자 전화번호    작업수  \\\n",
       "0           제작자  https://kmong.com/gig/2711  -  Phoenix    -  1631건   \n",
       "1           NaN                           -  -        -    -      -   \n",
       "2           NaN                           -  -        -    -      -   \n",
       "3           NaN                           -  -        -    -      -   \n",
       "4           NaN                           -  -        -    -      -   \n",
       "...         ...                         ... ..      ...  ...    ...   \n",
       "7991        NaN                           -  -        -    -      -   \n",
       "7992        NaN                           -  -        -    -      -   \n",
       "7993        NaN                           -  -        -    -      -   \n",
       "7994        NaN                           -  -        -    -      -   \n",
       "7995        NaN                           -  -        -    -      -   \n",
       "\n",
       "                                                  전문가소개        작업유형 작업종류  \\\n",
       "0     안녕하세요.. 저는 웹마스터 손재희라고 합니다.. 현재 크몽에서는 사진촬영, 영상촬...  촬영 편집/후반작업   상품   \n",
       "1                                                     -           -    -   \n",
       "2                                                     -           -    -   \n",
       "3                                                     -           -    -   \n",
       "4                                                     -           -    -   \n",
       "...                                                 ...         ...  ...   \n",
       "7991                                                  -           -    -   \n",
       "7992                                                  -           -    -   \n",
       "7993                                                  -           -    -   \n",
       "7994                                                  -           -    -   \n",
       "7995                                                  -           -    -   \n",
       "\n",
       "     싱글패키지         항목                                                가격1  \\\n",
       "0        -      가격 정보                                    STANDARD 7,000원   \n",
       "1        -     패키지 설명  제품당1컷기준 1제품 1컷촬영기준, 기본촬영에 포함되지 않는 제품은 상세내용에서 확...   \n",
       "2        -       보정작업                                                NaN   \n",
       "3        -  촬영 시간 (분)                                                60분   \n",
       "4        -    이미지 장 수                                                 1장   \n",
       "...    ...        ...                                                ...   \n",
       "7991     -       보정작업                                                NaN   \n",
       "7992     -  촬영 시간 (분)                                                60분   \n",
       "7993     -    이미지 장 수                                                 3장   \n",
       "7994     -      수정 횟수                                                  -   \n",
       "7995     -        작업일                                                 4일   \n",
       "\n",
       "                                                    가격2  \\\n",
       "0                                        DELUXE 60,000원   \n",
       "1     1제품 1가지컨셉연출 4컷기준 배경,소품,색지등을 이용하여 제품과 연출한컷 다양한 ...   \n",
       "2                                                   NaN   \n",
       "3                                                  120분   \n",
       "4                                                    4장   \n",
       "...                                                 ...   \n",
       "7991                                                NaN   \n",
       "7992                                                90분   \n",
       "7993                                                 6장   \n",
       "7994                                                  -   \n",
       "7995                                                 4일   \n",
       "\n",
       "                                      가격3  \n",
       "0                        PREMIUM 250,000원  \n",
       "1     출장컷 제품 , 장소 , 어떤식으로 촬영하는지에 따라 가격 책정  \n",
       "2                                       -  \n",
       "3                                    150분  \n",
       "4                                       -  \n",
       "...                                   ...  \n",
       "7991                                  NaN  \n",
       "7992                                 300분  \n",
       "7993                                   6장  \n",
       "7994                                    -  \n",
       "7995                                  30일  \n",
       "\n",
       "[7996 rows x 14 columns]"
      ]
     },
     "execution_count": 12,
     "metadata": {},
     "output_type": "execute_result"
    }
   ],
   "source": [
    "A"
   ]
  },
  {
   "cell_type": "code",
   "execution_count": 29,
   "metadata": {},
   "outputs": [],
   "source": [
    "df_A = A[A['Unnamed: 0']== \"제작자\"]"
   ]
  },
  {
   "cell_type": "code",
   "execution_count": 63,
   "metadata": {},
   "outputs": [
    {
     "name": "stderr",
     "output_type": "stream",
     "text": [
      "/Users/ash/opt/anaconda3/envs/dss/lib/python3.7/site-packages/ipykernel_launcher.py:1: SettingWithCopyWarning: \n",
      "A value is trying to be set on a copy of a slice from a DataFrame.\n",
      "Try using .loc[row_indexer,col_indexer] = value instead\n",
      "\n",
      "See the caveats in the documentation: https://pandas.pydata.org/pandas-docs/stable/user_guide/indexing.html#returning-a-view-versus-a-copy\n",
      "  \"\"\"Entry point for launching an IPython kernel.\n"
     ]
    }
   ],
   "source": [
    "df_A[\"전화번호\"] = Phone"
   ]
  },
  {
   "cell_type": "code",
   "execution_count": 66,
   "metadata": {},
   "outputs": [
    {
     "name": "stderr",
     "output_type": "stream",
     "text": [
      "/Users/ash/opt/anaconda3/envs/dss/lib/python3.7/site-packages/IPython/core/interactiveshell.py:3418: SettingWithCopyWarning: \n",
      "A value is trying to be set on a copy of a slice from a DataFrame\n",
      "\n",
      "See the caveats in the documentation: https://pandas.pydata.org/pandas-docs/stable/user_guide/indexing.html#returning-a-view-versus-a-copy\n",
      "  exec(code_obj, self.user_global_ns, self.user_ns)\n"
     ]
    }
   ],
   "source": [
    "df_A.전화번호.update(pd.Series(Phone))"
   ]
  },
  {
   "cell_type": "code",
   "execution_count": 49,
   "metadata": {},
   "outputs": [
    {
     "ename": "KeyError",
     "evalue": "1",
     "output_type": "error",
     "traceback": [
      "\u001b[0;31m---------------------------------------------------------------------------\u001b[0m",
      "\u001b[0;31mKeyError\u001b[0m                                  Traceback (most recent call last)",
      "\u001b[0;32m~/opt/anaconda3/envs/dss/lib/python3.7/site-packages/pandas/core/indexes/base.py\u001b[0m in \u001b[0;36mget_loc\u001b[0;34m(self, key, method, tolerance)\u001b[0m\n\u001b[1;32m   2645\u001b[0m             \u001b[0;32mtry\u001b[0m\u001b[0;34m:\u001b[0m\u001b[0;34m\u001b[0m\u001b[0;34m\u001b[0m\u001b[0m\n\u001b[0;32m-> 2646\u001b[0;31m                 \u001b[0;32mreturn\u001b[0m \u001b[0mself\u001b[0m\u001b[0;34m.\u001b[0m\u001b[0m_engine\u001b[0m\u001b[0;34m.\u001b[0m\u001b[0mget_loc\u001b[0m\u001b[0;34m(\u001b[0m\u001b[0mkey\u001b[0m\u001b[0;34m)\u001b[0m\u001b[0;34m\u001b[0m\u001b[0;34m\u001b[0m\u001b[0m\n\u001b[0m\u001b[1;32m   2647\u001b[0m             \u001b[0;32mexcept\u001b[0m \u001b[0mKeyError\u001b[0m\u001b[0;34m:\u001b[0m\u001b[0;34m\u001b[0m\u001b[0;34m\u001b[0m\u001b[0m\n",
      "\u001b[0;32mpandas/_libs/index.pyx\u001b[0m in \u001b[0;36mpandas._libs.index.IndexEngine.get_loc\u001b[0;34m()\u001b[0m\n",
      "\u001b[0;32mpandas/_libs/index.pyx\u001b[0m in \u001b[0;36mpandas._libs.index.IndexEngine.get_loc\u001b[0;34m()\u001b[0m\n",
      "\u001b[0;32mpandas/_libs/hashtable_class_helper.pxi\u001b[0m in \u001b[0;36mpandas._libs.hashtable.Int64HashTable.get_item\u001b[0;34m()\u001b[0m\n",
      "\u001b[0;32mpandas/_libs/hashtable_class_helper.pxi\u001b[0m in \u001b[0;36mpandas._libs.hashtable.Int64HashTable.get_item\u001b[0;34m()\u001b[0m\n",
      "\u001b[0;31mKeyError\u001b[0m: 1",
      "\nDuring handling of the above exception, another exception occurred:\n",
      "\u001b[0;31mKeyError\u001b[0m                                  Traceback (most recent call last)",
      "\u001b[0;32m<ipython-input-49-2b4e90ba6946>\u001b[0m in \u001b[0;36m<module>\u001b[0;34m\u001b[0m\n\u001b[0;32m----> 1\u001b[0;31m \u001b[0mPhone\u001b[0m \u001b[0;34m=\u001b[0m \u001b[0mnp\u001b[0m\u001b[0;34m.\u001b[0m\u001b[0marray\u001b[0m\u001b[0;34m(\u001b[0m\u001b[0mphone\u001b[0m\u001b[0;34m[\u001b[0m\u001b[0;36m1\u001b[0m\u001b[0;34m]\u001b[0m\u001b[0;34m.\u001b[0m\u001b[0mtolist\u001b[0m\u001b[0;34m(\u001b[0m\u001b[0;34m)\u001b[0m\u001b[0;34m)\u001b[0m\u001b[0;34m\u001b[0m\u001b[0;34m\u001b[0m\u001b[0m\n\u001b[0m",
      "\u001b[0;32m~/opt/anaconda3/envs/dss/lib/python3.7/site-packages/pandas/core/frame.py\u001b[0m in \u001b[0;36m__getitem__\u001b[0;34m(self, key)\u001b[0m\n\u001b[1;32m   2798\u001b[0m             \u001b[0;32mif\u001b[0m \u001b[0mself\u001b[0m\u001b[0;34m.\u001b[0m\u001b[0mcolumns\u001b[0m\u001b[0;34m.\u001b[0m\u001b[0mnlevels\u001b[0m \u001b[0;34m>\u001b[0m \u001b[0;36m1\u001b[0m\u001b[0;34m:\u001b[0m\u001b[0;34m\u001b[0m\u001b[0;34m\u001b[0m\u001b[0m\n\u001b[1;32m   2799\u001b[0m                 \u001b[0;32mreturn\u001b[0m \u001b[0mself\u001b[0m\u001b[0;34m.\u001b[0m\u001b[0m_getitem_multilevel\u001b[0m\u001b[0;34m(\u001b[0m\u001b[0mkey\u001b[0m\u001b[0;34m)\u001b[0m\u001b[0;34m\u001b[0m\u001b[0;34m\u001b[0m\u001b[0m\n\u001b[0;32m-> 2800\u001b[0;31m             \u001b[0mindexer\u001b[0m \u001b[0;34m=\u001b[0m \u001b[0mself\u001b[0m\u001b[0;34m.\u001b[0m\u001b[0mcolumns\u001b[0m\u001b[0;34m.\u001b[0m\u001b[0mget_loc\u001b[0m\u001b[0;34m(\u001b[0m\u001b[0mkey\u001b[0m\u001b[0;34m)\u001b[0m\u001b[0;34m\u001b[0m\u001b[0;34m\u001b[0m\u001b[0m\n\u001b[0m\u001b[1;32m   2801\u001b[0m             \u001b[0;32mif\u001b[0m \u001b[0mis_integer\u001b[0m\u001b[0;34m(\u001b[0m\u001b[0mindexer\u001b[0m\u001b[0;34m)\u001b[0m\u001b[0;34m:\u001b[0m\u001b[0;34m\u001b[0m\u001b[0;34m\u001b[0m\u001b[0m\n\u001b[1;32m   2802\u001b[0m                 \u001b[0mindexer\u001b[0m \u001b[0;34m=\u001b[0m \u001b[0;34m[\u001b[0m\u001b[0mindexer\u001b[0m\u001b[0;34m]\u001b[0m\u001b[0;34m\u001b[0m\u001b[0;34m\u001b[0m\u001b[0m\n",
      "\u001b[0;32m~/opt/anaconda3/envs/dss/lib/python3.7/site-packages/pandas/core/indexes/base.py\u001b[0m in \u001b[0;36mget_loc\u001b[0;34m(self, key, method, tolerance)\u001b[0m\n\u001b[1;32m   2646\u001b[0m                 \u001b[0;32mreturn\u001b[0m \u001b[0mself\u001b[0m\u001b[0;34m.\u001b[0m\u001b[0m_engine\u001b[0m\u001b[0;34m.\u001b[0m\u001b[0mget_loc\u001b[0m\u001b[0;34m(\u001b[0m\u001b[0mkey\u001b[0m\u001b[0;34m)\u001b[0m\u001b[0;34m\u001b[0m\u001b[0;34m\u001b[0m\u001b[0m\n\u001b[1;32m   2647\u001b[0m             \u001b[0;32mexcept\u001b[0m \u001b[0mKeyError\u001b[0m\u001b[0;34m:\u001b[0m\u001b[0;34m\u001b[0m\u001b[0;34m\u001b[0m\u001b[0m\n\u001b[0;32m-> 2648\u001b[0;31m                 \u001b[0;32mreturn\u001b[0m \u001b[0mself\u001b[0m\u001b[0;34m.\u001b[0m\u001b[0m_engine\u001b[0m\u001b[0;34m.\u001b[0m\u001b[0mget_loc\u001b[0m\u001b[0;34m(\u001b[0m\u001b[0mself\u001b[0m\u001b[0;34m.\u001b[0m\u001b[0m_maybe_cast_indexer\u001b[0m\u001b[0;34m(\u001b[0m\u001b[0mkey\u001b[0m\u001b[0;34m)\u001b[0m\u001b[0;34m)\u001b[0m\u001b[0;34m\u001b[0m\u001b[0;34m\u001b[0m\u001b[0m\n\u001b[0m\u001b[1;32m   2649\u001b[0m         \u001b[0mindexer\u001b[0m \u001b[0;34m=\u001b[0m \u001b[0mself\u001b[0m\u001b[0;34m.\u001b[0m\u001b[0mget_indexer\u001b[0m\u001b[0;34m(\u001b[0m\u001b[0;34m[\u001b[0m\u001b[0mkey\u001b[0m\u001b[0;34m]\u001b[0m\u001b[0;34m,\u001b[0m \u001b[0mmethod\u001b[0m\u001b[0;34m=\u001b[0m\u001b[0mmethod\u001b[0m\u001b[0;34m,\u001b[0m \u001b[0mtolerance\u001b[0m\u001b[0;34m=\u001b[0m\u001b[0mtolerance\u001b[0m\u001b[0;34m)\u001b[0m\u001b[0;34m\u001b[0m\u001b[0;34m\u001b[0m\u001b[0m\n\u001b[1;32m   2650\u001b[0m         \u001b[0;32mif\u001b[0m \u001b[0mindexer\u001b[0m\u001b[0;34m.\u001b[0m\u001b[0mndim\u001b[0m \u001b[0;34m>\u001b[0m \u001b[0;36m1\u001b[0m \u001b[0;32mor\u001b[0m \u001b[0mindexer\u001b[0m\u001b[0;34m.\u001b[0m\u001b[0msize\u001b[0m \u001b[0;34m>\u001b[0m \u001b[0;36m1\u001b[0m\u001b[0;34m:\u001b[0m\u001b[0;34m\u001b[0m\u001b[0;34m\u001b[0m\u001b[0m\n",
      "\u001b[0;32mpandas/_libs/index.pyx\u001b[0m in \u001b[0;36mpandas._libs.index.IndexEngine.get_loc\u001b[0;34m()\u001b[0m\n",
      "\u001b[0;32mpandas/_libs/index.pyx\u001b[0m in \u001b[0;36mpandas._libs.index.IndexEngine.get_loc\u001b[0;34m()\u001b[0m\n",
      "\u001b[0;32mpandas/_libs/hashtable_class_helper.pxi\u001b[0m in \u001b[0;36mpandas._libs.hashtable.Int64HashTable.get_item\u001b[0;34m()\u001b[0m\n",
      "\u001b[0;32mpandas/_libs/hashtable_class_helper.pxi\u001b[0m in \u001b[0;36mpandas._libs.hashtable.Int64HashTable.get_item\u001b[0;34m()\u001b[0m\n",
      "\u001b[0;31mKeyError\u001b[0m: 1"
     ]
    }
   ],
   "source": [
    "Phone = np.array(phone[0].tolist())"
   ]
  },
  {
   "cell_type": "code",
   "execution_count": 24,
   "metadata": {},
   "outputs": [
    {
     "data": {
      "text/plain": [
       "1121"
      ]
     },
     "execution_count": 24,
     "metadata": {},
     "output_type": "execute_result"
    }
   ],
   "source": [
    "excel_link = np.array(kmong_number.링크[0].tolist())"
   ]
  },
  {
   "cell_type": "code",
   "execution_count": null,
   "metadata": {},
   "outputs": [],
   "source": []
  },
  {
   "cell_type": "code",
   "execution_count": 59,
   "metadata": {},
   "outputs": [],
   "source": []
  },
  {
   "cell_type": "code",
   "execution_count": 61,
   "metadata": {},
   "outputs": [
    {
     "data": {
      "text/plain": [
       "list"
      ]
     },
     "execution_count": 61,
     "metadata": {},
     "output_type": "execute_result"
    }
   ],
   "source": [
    "type(Phone)"
   ]
  },
  {
   "cell_type": "code",
   "execution_count": 67,
   "metadata": {},
   "outputs": [
    {
     "name": "stdout",
     "output_type": "stream",
     "text": [
      "driver quit\n"
     ]
    }
   ],
   "source": [
    "webdriver_options = webdriver.ChromeOptions()\n",
    "webdriver_options .add_argument('headless')\n",
    "\n",
    "driver=webdriver.Chrome('/Users/ash/Documents/chromedriver', options=webdriver_options)\n",
    "Link = []\n",
    "for page in range(1,38):\n",
    "    url = \"https://kmong.com/category/715?page={}&sort=ranking_points&online=false&company=false&is_prime=false&ratings=&meta=&is_it_portfolio=false\".format(page)\n",
    "    driver.get(url)\n",
    "    driver.implicitly_wait(5)\n",
    "    time.sleep(2)\n",
    "    element = driver.find_element_by_tag_name('body')\n",
    "    element.send_keys(Keys.END)\n",
    "    driver.implicitly_wait(10)\n",
    "    time.sleep(1)\n",
    "    element.send_keys(Keys.END)\n",
    "    a = driver.find_elements_by_class_name('GigList')\n",
    "    time.sleep(2)\n",
    "    try:\n",
    "        for num in range(36):\n",
    "            b = a[num].find_element_by_tag_name('a')\n",
    "            c = b.get_attribute('href')\n",
    "            Link.append(c)\n",
    "    except:\n",
    "        print(\"driver quit\")"
   ]
  },
  {
   "cell_type": "code",
   "execution_count": 69,
   "metadata": {},
   "outputs": [
    {
     "data": {
      "text/plain": [
       "1313"
      ]
     },
     "execution_count": 69,
     "metadata": {},
     "output_type": "execute_result"
    }
   ],
   "source": [
    "len(Link)"
   ]
  },
  {
   "cell_type": "code",
   "execution_count": 70,
   "metadata": {},
   "outputs": [],
   "source": [
    "webdriver_options = webdriver.ChromeOptions()\n",
    "webdriver_options .add_argument('headless')\n",
    "\n",
    "driver=webdriver.Chrome('/Users/ash/Documents/chromedriver', options=webdriver_options)\n",
    "\n",
    "driver.get(\"https://kmong.com/\")\n",
    "driver.find_element_by_css_selector(\"#kmongNavBar > div.container-1170.position-relative > div.flex-between-center.height-70px > div.flex-end-center > div.header-right-info.flex-center.NavRight > div:nth-child(2) > a\").click()\n",
    "driver.find_element_by_name('email').send_keys('tkemf1@naver.com')\n",
    "driver.find_element_by_name('password').send_keys('Sp12dlqj2*')\n",
    "driver.find_element_by_id('loginBtn').click()\n",
    "\n",
    "\n",
    "kmong_coulums = [\"링크\", \"등급\",\"제작자\", \"전화번호\", \"작업수\", \"전문가소개\", \"작업유형\", \"작업종류\", \"싱글패키지\", \"항목\", \"가격1\", \"가격2\", \"가격3\"]\n",
    "table = pd.DataFrame(columns=kmong_coulums)\n",
    "\n",
    "## 팝업 띄우기\n",
    "# element = driver.find_element_by_tag_name('body')\n",
    "# element.send_keys(Keys.END)\n",
    "## 팝업제거\n",
    "# button = driver.find_element_by_xpath('/html/body/div[2]/div/div/div/div[1]/button[@type=\"button\"]')\n",
    "# time.sleep(2)\n",
    "# button.click()\n",
    "    \n",
    "for post in Link:\n",
    "    \n",
    "    driver.get(post)\n",
    "    driver.implicitly_wait(2)\n",
    "    Producer = []\n",
    "    Number = []\n",
    "    Work = []\n",
    "    Intro = []\n",
    "    Category1 = []\n",
    "    Category2 = []\n",
    "    Price1 = []\n",
    "    Price2 = []\n",
    "    Pri = []\n",
    "    Body = []\n",
    "    body1 = []\n",
    "    body2 = []\n",
    "    body3 = []\n",
    "    column = []\n",
    "    index = []\n",
    "    link = [post]\n",
    "    Prime = []\n",
    "    try:\n",
    "        producer = driver.find_element_by_css_selector('#router-view > div > div.gig-detail-content > div.RightModules > div.GigSellerProfile > div.seller-profile > h1 > a.GigSellerProfile__username')\n",
    "        Producer.append(producer.text)\n",
    "    except:\n",
    "        Producer.append(\"-\")\n",
    "         # 전화번호 읽기\n",
    "    try:\n",
    "        number = driver.find_element_by_css_selector(\"#router-view > div > div.gig-detail-content > div.RightModules > div.GigSellerProfile > div.seller-request > h5.safe-number > span\")\n",
    "        Number.append(number.text)\n",
    "    except:\n",
    "        Number.append(\"-\")\n",
    "        # 등급 prime\n",
    "    try:\n",
    "        prime = driver.find_element_by_class_name(\"prime-badge\")\n",
    "        Prime.append(\"Prime\")\n",
    "    except:\n",
    "        Prime.append(\"-\")\n",
    "         # 작업물 횟수\n",
    "    try:\n",
    "        work = driver.find_element_by_css_selector('#router-view > div > div.gig-detail-content > div.RightModules > div.GigSellerProfile > div.seller-information-wrap > div:nth-child(1) > h5')\n",
    "        Work.append(work.text)\n",
    "    except:\n",
    "        Work.append(\"-\")\n",
    "         # 전문가 소개\n",
    "    try:\n",
    "        intro = driver.find_element_by_css_selector('#router-view > div > div.gig-detail-content > div.RightModules > div.GigSellerProfile > div.seller-description > h5.description')\n",
    "        Intro.append(intro.text.replace(\"\\n\", \" \"))\n",
    "    except:\n",
    "        Intro.append(\"-\")\n",
    "        \n",
    "    try:\n",
    "        category = driver.find_elements_by_class_name('meta-box')\n",
    "        Category1.append(category[0].text.replace(\"\\n\", \" \"))\n",
    "    except:\n",
    "        Category1.append(\"-\")\n",
    "\n",
    "    try:\n",
    "        category = driver.find_elements_by_class_name('meta-box')\n",
    "        Category2.append(category[1].text.replace(\"\\n\", \" \"))\n",
    "    except:\n",
    "        Category2.append(\"-\")\n",
    "        \n",
    "    try :\n",
    "        driver.find_element_by_class_name(\"gig-single-package\")\n",
    "        sin_pri = driver.find_element_by_class_name(\"package-price\").text\n",
    "        sin_body = driver.find_element_by_class_name(\"package-information\").text.split(\"\\n\")\n",
    "        for x in ([sin_pri] + sin_body):\n",
    "            Price1.append(x)\n",
    "\n",
    "    except:  \n",
    "        for i in range(2,5):\n",
    "            standard = driver.find_elements_by_css_selector(\"#router-view > div > div.gig-detail-content > div.LeftModules > div.GigPackageTable > div.gig-package-table > div.package-header > div:nth-child({})\".format(i))\n",
    "            for sta in standard:\n",
    "                Pri.append(sta.text)\n",
    "        for pri in Pri:\n",
    "            z = pri.replace(\"\\n\", \" \")\n",
    "            column.append(z)\n",
    "        body = driver.find_elements_by_class_name(\"package-body-items\")\n",
    "        for u in body:\n",
    "            Body.append(u.text) \n",
    "\n",
    "        body1.append(column[0])\n",
    "        for x in Body[1::4]:\n",
    "            x = x.replace(\"\\n\", \" \")\n",
    "            body1.append(x)\n",
    "\n",
    "        body2.append(column[1])\n",
    "        for h in Body[2::4]:\n",
    "            h = h.replace(\"\\n\", \" \")\n",
    "            body2.append(h)\n",
    "\n",
    "        body3.append(column[2])\n",
    "        for k in Body[3::4]:\n",
    "            k = k.replace(\"\\n\", \" \")\n",
    "            body3.append(k)\n",
    "        a = driver.find_element_by_css_selector(\"#router-view > div > div.gig-detail-content > div.LeftModules > div.GigPackageTable > div.GigLeftTitle\").text\n",
    "        for t in Body[0::4]:\n",
    "            index.append(t)\n",
    "        index.insert(0, a)\n",
    "    if len(Price1) > 0:\n",
    "        for z in range(1, len(Price1)):\n",
    "            Producer.append(\"-\")\n",
    "            Number.append(\"-\")\n",
    "            Work.append(\"-\")\n",
    "            Intro.append(\"-\")\n",
    "            Category1.append(\"-\")\n",
    "            Category2.append(\"-\")\n",
    "            link.append(\"-\")\n",
    "            index.append(\"-\")\n",
    "            Prime.append(\"-\")\n",
    "        kmong_1 = pd.DataFrame({\"링크\" : link,\"등급\" : Prime,\"제작자\" : Producer, \"전화번호\" : Number, \"작업수\" : Work, \"전문가소개\" : Intro, \"작업유형\" : Category1, \"작업종류\" : Category2, \"싱글패키지\" : Price1, \"항목\" : \"-\", \"가격1\" : \"-\", \"가격2\" : \"-\", \"가격3\" : \"-\"})\n",
    "        table = pd.concat([table, kmong_1])\n",
    "    elif len(body1) > 0:\n",
    "        for x in range(1, len(body1)):\n",
    "            Producer.append(\"-\")\n",
    "            Number.append(\"-\")\n",
    "            Work.append(\"-\")\n",
    "            Intro.append(\"-\")\n",
    "            Category1.append(\"-\")\n",
    "            Category2.append(\"-\")\n",
    "            link.append(\"-\")\n",
    "            Prime.append(\"-\")\n",
    "        kmong_2 = pd.DataFrame({\"링크\" : link, \"등급\" : Prime,\"제작자\" : Producer, \"전화번호\" : Number, \"작업수\" : Work, \"전문가소개\" : Intro, \"작업유형\" : Category1, \"작업종류\" : Category2,\"싱글패키지\" : \"-\" ,\"항목\" : index, \"가격1\" : body1, \"가격2\" : body2, \"가격3\" : body3})\n",
    "        table = pd.concat([table, kmong_2])\n",
    "\n",
    "    \n",
    "\n",
    "    "
   ]
  },
  {
   "cell_type": "code",
   "execution_count": 76,
   "metadata": {},
   "outputs": [],
   "source": [
    "table.to_excel(\"kmong_video_1.xlsx\")"
   ]
  },
  {
   "cell_type": "code",
   "execution_count": 75,
   "metadata": {},
   "outputs": [],
   "source": [
    "table.to_csv(\"kmong_video.csv\")"
   ]
  },
  {
   "cell_type": "code",
   "execution_count": null,
   "metadata": {},
   "outputs": [],
   "source": []
  }
 ],
 "metadata": {
  "kernelspec": {
   "display_name": "Python 3",
   "language": "python",
   "name": "python3"
  },
  "language_info": {
   "codemirror_mode": {
    "name": "ipython",
    "version": 3
   },
   "file_extension": ".py",
   "mimetype": "text/x-python",
   "name": "python",
   "nbconvert_exporter": "python",
   "pygments_lexer": "ipython3",
   "version": "3.7.7"
  }
 },
 "nbformat": 4,
 "nbformat_minor": 4
}
