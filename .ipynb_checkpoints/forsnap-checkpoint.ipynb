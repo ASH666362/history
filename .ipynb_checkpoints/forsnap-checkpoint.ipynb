{
 "cells": [
  {
   "cell_type": "code",
   "execution_count": 22,
   "metadata": {},
   "outputs": [],
   "source": [
    "import requests\n",
    "from bs4 import BeautifulSoup\n",
    "from urllib.request import urlopen\n",
    "import csv"
   ]
  },
  {
   "cell_type": "code",
   "execution_count": 23,
   "metadata": {},
   "outputs": [],
   "source": [
    "from selenium import webdriver\n",
    "import pandas as pd\n",
    "from pandas import DataFrame\n",
    "import scrapy\n",
    "import requests\n",
    "from scrapy.http import TextResponse "
   ]
  },
  {
   "cell_type": "code",
   "execution_count": 24,
   "metadata": {},
   "outputs": [],
   "source": [
    "import numpy as np\n",
    "import os"
   ]
  },
  {
   "cell_type": "code",
   "execution_count": 25,
   "metadata": {},
   "outputs": [],
   "source": [
    "import time\n",
    "from selenium.webdriver.common.keys import Keys"
   ]
  },
  {
   "cell_type": "code",
   "execution_count": 26,
   "metadata": {},
   "outputs": [],
   "source": [
    "from selenium.webdriver.common.by import By\n",
    "from selenium.webdriver.support.ui import WebDriverWait\n",
    "from selenium.webdriver.support import expected_conditions as EC"
   ]
  },
  {
   "cell_type": "code",
   "execution_count": 165,
   "metadata": {},
   "outputs": [],
   "source": [
    "driver=webdriver.Chrome('/Users/ash/Documents/chromedriver')\n",
    "driver.get('https://forsnap.com/@%EB%A9%9C%EB%A1%9C%EC%9A%B0%EB%AA%A8%EB%A8%BC%ED%8A%B8')"
   ]
  },
  {
   "cell_type": "code",
   "execution_count": null,
   "metadata": {},
   "outputs": [],
   "source": [
    "#site-main > section > div > section.about-artist-rightside > div > div > div > div:nth-child(1) > section > div.product-list > a:nth-child(3)"
   ]
  },
  {
   "cell_type": "code",
   "execution_count": null,
   "metadata": {},
   "outputs": [],
   "source": [
    "//*[@id=\"site-main\"]/section/div/section[2]/div/div/div/div[1]/section/div[2]/a[3]"
   ]
  },
  {
   "cell_type": "code",
   "execution_count": 175,
   "metadata": {},
   "outputs": [],
   "source": [
    "forsnap= driver.find_elements_by_class_name(\"product-list\")"
   ]
  },
  {
   "cell_type": "code",
   "execution_count": 176,
   "metadata": {},
   "outputs": [],
   "source": [
    "for i in forsnap:\n",
    "    test = i.find_elements_by_tag_name(\"a\")\n"
   ]
  },
  {
   "cell_type": "code",
   "execution_count": 166,
   "metadata": {},
   "outputs": [],
   "source": [
    "driver.find_element_by_css_selector(\"#site-main > section > div > section.about-artist-rightside > div > div > div > div:nth-child(1) > section > button\").click()"
   ]
  },
  {
   "cell_type": "code",
   "execution_count": 177,
   "metadata": {},
   "outputs": [
    {
     "name": "stdout",
     "output_type": "stream",
     "text": [
      "good\n",
      "good\n",
      "good\n",
      "good\n",
      "good\n"
     ]
    }
   ],
   "source": [
    "for sd in test:\n",
    "    a = sd.get_attribute(\"href\")\n",
    "    if \"products\" in a:\n",
    "        print(\"good\")\n",
    "        teeest.append(a)"
   ]
  },
  {
   "cell_type": "code",
   "execution_count": 178,
   "metadata": {},
   "outputs": [],
   "source": [
    "a = sd.get_attribute(\"href\")"
   ]
  },
  {
   "cell_type": "code",
   "execution_count": 179,
   "metadata": {},
   "outputs": [
    {
     "data": {
      "text/plain": [
       "'https://forsnap.com/products/431?new=true'"
      ]
     },
     "execution_count": 179,
     "metadata": {},
     "output_type": "execute_result"
    }
   ],
   "source": [
    "a"
   ]
  },
  {
   "cell_type": "code",
   "execution_count": 68,
   "metadata": {},
   "outputs": [],
   "source": [
    "a = []"
   ]
  },
  {
   "cell_type": "code",
   "execution_count": 69,
   "metadata": {},
   "outputs": [],
   "source": [
    "a += \"a\""
   ]
  },
  {
   "cell_type": "code",
   "execution_count": 99,
   "metadata": {},
   "outputs": [],
   "source": [
    "teeest = []"
   ]
  },
  {
   "cell_type": "code",
   "execution_count": 107,
   "metadata": {},
   "outputs": [
    {
     "data": {
      "text/plain": [
       "['https://forsnap.com/products/2168?new=true',\n",
       " 'https://forsnap.com/products/875?new=true']"
      ]
     },
     "execution_count": 107,
     "metadata": {},
     "output_type": "execute_result"
    }
   ],
   "source": [
    "teeest"
   ]
  },
  {
   "cell_type": "code",
   "execution_count": 130,
   "metadata": {},
   "outputs": [
    {
     "data": {
      "text/plain": [
       "4"
      ]
     },
     "execution_count": 130,
     "metadata": {},
     "output_type": "execute_result"
    }
   ],
   "source": [
    "len(driver.find_elements_by_class_name(\"product_display_bars_info-area-right\"))"
   ]
  },
  {
   "cell_type": "code",
   "execution_count": null,
   "metadata": {},
   "outputs": [],
   "source": [
    "forsnap_producer = []"
   ]
  },
  {
   "cell_type": "code",
   "execution_count": 131,
   "metadata": {},
   "outputs": [],
   "source": [
    "\n",
    "for name in driver.find_elements_by_class_name(\"product_display_bars_info-area-right\"):\n",
    "    forsnap_producer.append(name.text)\n",
    "    \n"
   ]
  },
  {
   "cell_type": "code",
   "execution_count": 132,
   "metadata": {},
   "outputs": [
    {
     "data": {
      "text/plain": [
       "1390"
      ]
     },
     "execution_count": 132,
     "metadata": {},
     "output_type": "execute_result"
    }
   ],
   "source": [
    "len(forsnap_producer)"
   ]
  },
  {
   "cell_type": "code",
   "execution_count": 149,
   "metadata": {},
   "outputs": [],
   "source": [
    "forsnap_producer = np.array(Allforsnap_producer[0].tolist())"
   ]
  },
  {
   "cell_type": "code",
   "execution_count": 134,
   "metadata": {},
   "outputs": [],
   "source": [
    "Allforsnap_producer =pd.DataFrame(forsnap_producer)"
   ]
  },
  {
   "cell_type": "code",
   "execution_count": 140,
   "metadata": {},
   "outputs": [],
   "source": [
    "Allforsnap_producer.to_excel(\"allproducer_forsnap.xlsx\")"
   ]
  },
  {
   "cell_type": "code",
   "execution_count": 150,
   "metadata": {},
   "outputs": [],
   "source": [
    "new_list = set(forsnap_producer)"
   ]
  },
  {
   "cell_type": "code",
   "execution_count": 164,
   "metadata": {},
   "outputs": [
    {
     "data": {
      "text/plain": [
       "357"
      ]
     },
     "execution_count": 164,
     "metadata": {},
     "output_type": "execute_result"
    }
   ],
   "source": [
    "len(new_list)"
   ]
  },
  {
   "cell_type": "code",
   "execution_count": 190,
   "metadata": {},
   "outputs": [],
   "source": [
    "driver=webdriver.Chrome('/Users/ash/Documents/chromedriver')\n",
    "producer_product = []\n",
    "for producer_list in new_list:\n",
    "    url = \"https://forsnap.com/@{}\".format(producer_list)\n",
    "    driver.get(url)\n",
    "    try:\n",
    "        driver.find_element_by_css_selector(\"#site-main > section > div > section.about-artist-rightside > div > div > div > div:nth-child(1) > section > button\").click()\n",
    "    except:\n",
    "        pass\n",
    "    forsnap = driver.find_elements_by_class_name(\"product-list\")\n",
    "    for i in forsnap:\n",
    "        test = i.find_elements_by_tag_name(\"a\")\n",
    "    for sd in test:\n",
    "        a = sd.get_attribute(\"href\")\n",
    "        if \"products\" in a:\n",
    "            producer_product.append(a)\n"
   ]
  },
  {
   "cell_type": "code",
   "execution_count": 187,
   "metadata": {},
   "outputs": [],
   "source": [
    "for sd in test:\n",
    "        a = sd.get_attribute(\"href\")\n",
    "        if \"products\" in a:\n",
    "            producer_product.append(a)\n"
   ]
  },
  {
   "cell_type": "code",
   "execution_count": 234,
   "metadata": {},
   "outputs": [
    {
     "data": {
      "text/plain": [
       "647"
      ]
     },
     "execution_count": 234,
     "metadata": {},
     "output_type": "execute_result"
    }
   ],
   "source": [
    "len(producer_product)"
   ]
  },
  {
   "cell_type": "code",
   "execution_count": 193,
   "metadata": {},
   "outputs": [],
   "source": [
    "forsnap_product_link = pd.DataFrame(producer_product)"
   ]
  },
  {
   "cell_type": "code",
   "execution_count": 194,
   "metadata": {},
   "outputs": [],
   "source": [
    "forsnap_product_link.to_excel(\"forsnap_prodcut_link.xlsx\")"
   ]
  },
  {
   "cell_type": "markdown",
   "metadata": {},
   "source": [
    "### 작가정보"
   ]
  },
  {
   "cell_type": "code",
   "execution_count": 239,
   "metadata": {},
   "outputs": [
    {
     "data": {
      "text/plain": [
       "'이수연'"
      ]
     },
     "execution_count": 239,
     "metadata": {},
     "output_type": "execute_result"
    }
   ],
   "source": [
    "driver.find_element_by_class_name(\"nickname\").text"
   ]
  },
  {
   "cell_type": "markdown",
   "metadata": {},
   "source": [
    "### 설명"
   ]
  },
  {
   "cell_type": "code",
   "execution_count": 254,
   "metadata": {},
   "outputs": [
    {
     "data": {
      "text/plain": [
       "'잇쇼니의 메인 상품!  당신의 자존감을 높여줄 인/생/사/진  나의 스무살을 기록하고 싶나요? 처음 맞이하는 30살에 대한 위로? 남들과 다른 고급진 카톡프로필?  여러모로 당신에겐 인생사진이 필요합니다!!  100% 1대1보정으로 진행하는 안성맞춤 200%만족 나의 모습  당신의 인생의 아름다움을 잇쇼니가 함께할게요!  롸잇나우 인/생/사/진       ..........{인생사진_상품내용}  · 촬영 컷수 100~200컷 · 인생사진 5장 보정 · 1:1 맞춤 보정 · 4x6inch 사이즈 사진 5장 · 포켓사진 1인당 10장 · 인화사진 우편전달   ※ 꼭 읽어주세요~  - 1:1 보정은 당일 같이 진행합니다 - 촬영시간 외 보정시간은 약 1시간 진행됩니다 - 1:1 보정이 어려운경우 온라인으로 보정내용을 받아 진행합니다 - 수정은 2회까지 가능합니다 (추가 수정은 추가비용이 발생합니다)  - 잇쇼니는 100% 예약제 입니다 - 촬영 2일 전까지 시간 혹은 날짜 변동이 가능합니다 - 촬영 당일 추가 요금은 대화하기를 통한 추가결제 가능 - 고객 예약 취소의 경우 1. 촬영일로부터 30일 이전 통보 시 : 전액 환불 2. 촬영일로부터 14일 이전 통보 시 : 70% 환불 3. 촬영일로부터 3일 이전 통보 시 : 50% 환불 4. 촬영일로부터 2일 이전ㆍ당일 통보 시 : 0% 환불 (단, 예약완료일부터 3일내 취소의 경우 100% 환불) - 작가 예약 취소의 경우 : 전액 환불 설명 더보기'"
      ]
     },
     "execution_count": 254,
     "metadata": {},
     "output_type": "execute_result"
    }
   ],
   "source": [
    "driver.find_element_by_css_selector(\"#info > div.content\").text.replace(\"\\n\", \" \")"
   ]
  },
  {
   "cell_type": "markdown",
   "metadata": {},
   "source": [
    "### 태그"
   ]
  },
  {
   "cell_type": "code",
   "execution_count": 202,
   "metadata": {},
   "outputs": [
    {
     "data": {
      "text/plain": [
       "'태그 #프로필 #인생사진 #인생사진작가 #개인화보 #개인프로필 #셀카'"
      ]
     },
     "execution_count": 202,
     "metadata": {},
     "output_type": "execute_result"
    }
   ],
   "source": [
    "driver.find_element_by_css_selector(\"#info > div:nth-child(4)\").text.replace(\"\\n\", \" \")"
   ]
  },
  {
   "cell_type": "markdown",
   "metadata": {},
   "source": [
    "### 가격정보"
   ]
  },
  {
   "cell_type": "code",
   "execution_count": 206,
   "metadata": {},
   "outputs": [
    {
     "data": {
      "text/plain": [
       "'잇쇼니의 인생사진 ₩250,000 이미지 100 장 보정 5 장 촬영시간 60 분 * 보정 추가 시 1컷당 5만원 * 원본 구매시 5만원 * 액자 별도 문의 작업일 7 일 보정사진 추가 ?  ₩50,000 출장비 추가 ? ₩150,000 스튜디오 대여 ?  ₩40,000 컨셉촬영 추가 ?  ₩150,000 ₩ 250,000 예약&결제하기'"
      ]
     },
     "execution_count": 206,
     "metadata": {},
     "output_type": "execute_result"
    }
   ],
   "source": [
    "driver.find_element_by_xpath('//*[@id=\"price\"]').text.replace(\"\\n\", \" \")"
   ]
  },
  {
   "cell_type": "markdown",
   "metadata": {},
   "source": [
    "#### 상품명 + 기본가격"
   ]
  },
  {
   "cell_type": "code",
   "execution_count": 209,
   "metadata": {},
   "outputs": [
    {
     "data": {
      "text/plain": [
       "'잇쇼니의 인생사진 ₩250,000'"
      ]
     },
     "execution_count": 209,
     "metadata": {},
     "output_type": "execute_result"
    }
   ],
   "source": [
    "driver.find_element_by_class_name(\"option__title\").text.replace(\"\\n\", \" \")"
   ]
  },
  {
   "cell_type": "markdown",
   "metadata": {},
   "source": [
    "#### 기본 포함 항목"
   ]
  },
  {
   "cell_type": "code",
   "execution_count": 210,
   "metadata": {},
   "outputs": [
    {
     "data": {
      "text/plain": [
       "'이미지 100 장 보정 5 장 촬영시간 60 분'"
      ]
     },
     "execution_count": 210,
     "metadata": {},
     "output_type": "execute_result"
    }
   ],
   "source": [
    "driver.find_element_by_class_name(\"option__info\").text.replace(\"\\n\", \" \")"
   ]
  },
  {
   "cell_type": "markdown",
   "metadata": {},
   "source": [
    "#### 추가항목"
   ]
  },
  {
   "cell_type": "code",
   "execution_count": 211,
   "metadata": {},
   "outputs": [
    {
     "data": {
      "text/plain": [
       "'* 보정 추가 시 1컷당 5만원 * 원본 구매시 5만원 * 액자 별도 문의'"
      ]
     },
     "execution_count": 211,
     "metadata": {},
     "output_type": "execute_result"
    }
   ],
   "source": [
    "driver.find_element_by_class_name(\"option__content\").text.replace(\"\\n\", \" \")"
   ]
  },
  {
   "cell_type": "markdown",
   "metadata": {},
   "source": [
    "#### 작업일"
   ]
  },
  {
   "cell_type": "code",
   "execution_count": 215,
   "metadata": {},
   "outputs": [
    {
     "data": {
      "text/plain": [
       "'작업일 7 일'"
      ]
     },
     "execution_count": 215,
     "metadata": {},
     "output_type": "execute_result"
    }
   ],
   "source": [
    "driver.find_element_by_class_name(\"info__basic\").text.replace(\"\\n\", \" \")"
   ]
  },
  {
   "cell_type": "markdown",
   "metadata": {},
   "source": [
    "#### 옵션 항목"
   ]
  },
  {
   "cell_type": "code",
   "execution_count": 232,
   "metadata": {},
   "outputs": [
    {
     "data": {
      "text/plain": [
       "4"
      ]
     },
     "execution_count": 232,
     "metadata": {},
     "output_type": "execute_result"
    }
   ],
   "source": [
    "option = driver.find_elements_by_class_name('products__options__checkbox__item')\n",
    "len(option)"
   ]
  },
  {
   "cell_type": "code",
   "execution_count": 233,
   "metadata": {},
   "outputs": [
    {
     "name": "stdout",
     "output_type": "stream",
     "text": [
      "보정사진 추가   ₩50,000\n",
      "출장비 추가  ₩150,000\n",
      "스튜디오 대여   ₩40,000\n",
      "컨셉촬영 추가   ₩150,000\n"
     ]
    }
   ],
   "source": [
    "for i in option:\n",
    "    print(i.text.replace(\"\\n\", \" \").replace(\"?\", \"\"))"
   ]
  },
  {
   "cell_type": "code",
   "execution_count": 298,
   "metadata": {},
   "outputs": [],
   "source": [
    "webdriver_options = webdriver.ChromeOptions()\n",
    "webdriver_options .add_argument('headless')\n",
    "\n",
    "driver=webdriver.Chrome('/Users/ash/Documents/chromedriver', options=webdriver_options)\n",
    "Forsnap_columns = [\"이름\", \"설명\", \"태그\", \"가격정보\", \"상품명 기본정보\", \"기본항목\", \"추가항목\", \"작업일\", \"옵션항목\"]\n",
    "forsnap = pd.DataFrame(columns=Forsnap_columns)\n",
    "\n",
    "for x in producer_product:\n",
    "\n",
    "    Name = []\n",
    "    Info = []\n",
    "    Tag = []\n",
    "    Price = []\n",
    "    Option_basic = []\n",
    "    Option_more = []\n",
    "    Option_plus = []\n",
    "    Working_day = []\n",
    "    Options = []\n",
    "    url = x\n",
    "\n",
    "    driver.get(url)\n",
    "    driver.implicitly_wait(5)\n",
    "\n",
    "    ## 작가정보\n",
    "    try:\n",
    "        name = driver.find_element_by_class_name(\"nickname\").text\n",
    "        Name.append(name)\n",
    "    except:\n",
    "        Name.append(\"-\")\n",
    "    ## 설명\n",
    "    try:\n",
    "        info = driver.find_element_by_css_selector(\"#info > div.content\").text.replace(\"\\n\", \" \")\n",
    "        Info.append(info)\n",
    "    except:\n",
    "        Info.append(\"-\")\n",
    "    ## 태그\n",
    "    try:\n",
    "        tag = driver.find_element_by_css_selector(\"#info > div:nth-child(4)\").text.replace(\"\\n\", \" \")\n",
    "        Tag.append(tag)\n",
    "    except:\n",
    "        Tag.append(\"-\")\n",
    "    ## 가격정보\n",
    "    try:\n",
    "        price = driver.find_element_by_xpath('//*[@id=\"price\"]').text.replace(\"\\n\", \" \")\n",
    "        Price.append(price)\n",
    "    except:\n",
    "        Price.append(\"-\")\n",
    "    ## 상품명 기본정보\n",
    "    try:\n",
    "        option_basic = driver.find_element_by_class_name(\"option__title\").text.replace(\"\\n\", \" \")\n",
    "        Option_basic.append(option_basic)\n",
    "    except:\n",
    "        Option_basic.append(\"-\")\n",
    "    ## 기본 포함 항목\n",
    "    try:\n",
    "        option_more = driver.find_element_by_class_name(\"option__info\").text.replace(\"\\n\", \" \")\n",
    "        Option_more.append(option_more)\n",
    "    except:\n",
    "        Option_more.append(\"-\")\n",
    "    ## 추가항목\n",
    "    try:\n",
    "        option_plus = driver.find_element_by_class_name(\"option__content\").text.replace(\"\\n\", \" \")\n",
    "        Option_plus.append(option_plus)\n",
    "    except:\n",
    "        Option_plus.append(\"-\")\n",
    "    ## 작업일\n",
    "    try:\n",
    "        working_day = driver.find_element_by_class_name(\"info__basic\").text.replace(\"\\n\", \" \")\n",
    "        Working_day.append(working_day)\n",
    "    except:\n",
    "        Working_day.append(\"-\")\n",
    "    ## 옵션항목\n",
    "    try:\n",
    "        option = driver.find_elements_by_class_name('products__options__checkbox__item')\n",
    "        for i in option:\n",
    "            op = i.text.replace(\"\\n\", \" \").replace(\"?\", \"\")\n",
    "            Options.append(op)\n",
    "        for t in range(1, len(option)):\n",
    "            Name.append(\"-\")\n",
    "            Info.append(\"-\")\n",
    "            Tag.append(\"-\")\n",
    "            Price.append(\"-\")\n",
    "            Option_basic.append(\"-\")\n",
    "            Option_more.append(\"-\")\n",
    "            Option_plus.append(\"-\")\n",
    "            Working_day.append(\"-\")\n",
    "        Forsnape_product_list = pd.DataFrame({\"이름\" : Name, \"설명\" : Info, \"태그\" : Tag, \"가격정보\" : Price, \"상품명 기본정보\" : Option_basic, \"기본항목\" : Option_more, \"추가항목\" : Option_plus, \"작업일\" : Working_day, \"옵션항목\" : Options})\n",
    "        forsnap = pd.concat([forsnap, Forsnape_product_list])\n",
    "    except:\n",
    "        Options.append(\"-\")\n",
    "        Forsnape_product_list = pd.DataFrame({\"이름\" : Name, \"설명\" : Info, \"태그\" : Tag, \"가격정보\" : Price, \"상품명 기본정보\" : Option_basic, \"기본항목\" : Option_more, \"추가항목\" : Option_plus, \"작업일\" : Working_day, \"옵션항목\" : Options})\n",
    "        forsnap = pd.concat([forsnap, Forsnape_product_list])\n",
    "\n"
   ]
  },
  {
   "cell_type": "code",
   "execution_count": 300,
   "metadata": {},
   "outputs": [],
   "source": [
    "forsnap.to_excel(\"Forsnap.xlsx\", index=False)"
   ]
  },
  {
   "cell_type": "code",
   "execution_count": 283,
   "metadata": {},
   "outputs": [],
   "source": [
    "Forsnap_columns = [\"이름\", \"설명\", \"태그\", \"가격정보\", \"상품명 기본정보\", \"기본항목\", \"추가항목\", \"작업일\", \"옵션항목\"]\n",
    "forsnap = pd.DataFrame(columns=Forsnap_columns)\n",
    "Name = []\n",
    "Info = []\n",
    "Tag = []\n",
    "Price = []\n",
    "Option_basic = []\n",
    "Option_more = []\n",
    "Option_plus = []\n",
    "Working_day = []\n",
    "Options = []\n",
    "url = x\n",
    "Forsnap = []\n",
    "driver=webdriver.Chrome('/Users/ash/Documents/chromedriver')\n",
    "driver.get('https://forsnap.com/products/322?new=true')\n",
    "driver.implicitly_wait(5)\n",
    "\n",
    "## 작가정보\n",
    "name = driver.find_element_by_class_name(\"nickname\").text\n",
    "Name.append(name)\n",
    "## 설명\n",
    "info = driver.find_element_by_css_selector(\"#info > div.content\").text.replace(\"\\n\", \" \")\n",
    "Info.append(info)\n",
    "## 태그\n",
    "tag = driver.find_element_by_css_selector(\"#info > div:nth-child(4)\").text.replace(\"\\n\", \" \")\n",
    "Tag.append(tag)\n",
    "## 가격정보\n",
    "price = driver.find_element_by_xpath('//*[@id=\"price\"]').text.replace(\"\\n\", \" \")\n",
    "Price.append(price)\n",
    "## 상품명 기본정보\n",
    "option_basic = driver.find_element_by_class_name(\"option__title\").text.replace(\"\\n\", \" \")\n",
    "Option_basic.append(option_basic)\n",
    "## 기본 포함 항목\n",
    "option_more = driver.find_element_by_class_name(\"option__info\").text.replace(\"\\n\", \" \")\n",
    "Option_more.append(option_more)\n",
    "## 추가항목\n",
    "option_plus = driver.find_element_by_class_name(\"option__content\").text.replace(\"\\n\", \" \")\n",
    "Option_plus.append(option_plus)\n",
    "## 작업일\n",
    "working_day = driver.find_element_by_class_name(\"info__basic\").text.replace(\"\\n\", \" \")\n",
    "Working_day.append(working_day)\n",
    "## 옵션항목\n",
    "option = driver.find_elements_by_class_name('products__options__checkbox__item')\n",
    "for i in option:\n",
    "    op = i.text.replace(\"\\n\", \" \").replace(\"?\", \"\")\n",
    "    Options.append(op)\n",
    "for t in range(1, len(option)):\n",
    "    Name.append(\"-\")\n",
    "    Info.append(\"-\")\n",
    "    Tag.append(\"-\")\n",
    "    Price.append(\"-\")\n",
    "    Option_basic.append(\"-\")\n",
    "    Option_more.append(\"-\")\n",
    "    Option_plus.append(\"-\")\n",
    "    Working_day.append(\"-\")\n",
    "Forsnape_product_list = pd.DataFrame({\"이름\" : Name, \"설명\" : Info, \"태그\" : Tag, \"가격정보\" : Price, \"상품명 기본정보\" : Option_basic, \"기본항목\" : Option_more, \"추가항목\" : Option_plus, \"작업일\" : Working_day, \"옵션항목\" : Options})\n",
    "forsnap = pd.concat([forsnap, Forsnape_product_list])\n",
    "\n"
   ]
  },
  {
   "cell_type": "code",
   "execution_count": 294,
   "metadata": {},
   "outputs": [
    {
     "data": {
      "text/html": [
       "<div>\n",
       "<style scoped>\n",
       "    .dataframe tbody tr th:only-of-type {\n",
       "        vertical-align: middle;\n",
       "    }\n",
       "\n",
       "    .dataframe tbody tr th {\n",
       "        vertical-align: top;\n",
       "    }\n",
       "\n",
       "    .dataframe thead th {\n",
       "        text-align: right;\n",
       "    }\n",
       "</style>\n",
       "<table border=\"1\" class=\"dataframe\">\n",
       "  <thead>\n",
       "    <tr style=\"text-align: right;\">\n",
       "      <th></th>\n",
       "      <th>이름</th>\n",
       "      <th>설명</th>\n",
       "      <th>태그</th>\n",
       "      <th>가격정보</th>\n",
       "      <th>상품명 기본정보</th>\n",
       "      <th>기본항목</th>\n",
       "      <th>추가항목</th>\n",
       "      <th>작업일</th>\n",
       "      <th>옵션항목</th>\n",
       "    </tr>\n",
       "  </thead>\n",
       "  <tbody>\n",
       "    <tr>\n",
       "      <th>0</th>\n",
       "      <td>강영선</td>\n",
       "      <td>♥ 목화를 소품으로 진행하는 프로필 사진입니다. 전신이 아닌 허리까지 나오는 상반신...</td>\n",
       "      <td>태그 #프로필 #목화 #우정사진 #개인화보 #화보 #이미지사진</td>\n",
       "      <td>보정데이터형 ₩50,000 촬영 200 ~ 500 컷 보정 15 컷 인화 없음 촬영...</td>\n",
       "      <td>보정데이터형 ₩50,000</td>\n",
       "      <td>촬영 200 ~ 500 컷 보정 15 컷 인화 없음</td>\n",
       "      <td></td>\n",
       "      <td>촬영인원 1 ~ 2</td>\n",
       "      <td>-</td>\n",
       "    </tr>\n",
       "  </tbody>\n",
       "</table>\n",
       "</div>"
      ],
      "text/plain": [
       "    이름                                                 설명  \\\n",
       "0  강영선  ♥ 목화를 소품으로 진행하는 프로필 사진입니다. 전신이 아닌 허리까지 나오는 상반신...   \n",
       "\n",
       "                                   태그  \\\n",
       "0  태그 #프로필 #목화 #우정사진 #개인화보 #화보 #이미지사진   \n",
       "\n",
       "                                                가격정보        상품명 기본정보  \\\n",
       "0  보정데이터형 ₩50,000 촬영 200 ~ 500 컷 보정 15 컷 인화 없음 촬영...  보정데이터형 ₩50,000   \n",
       "\n",
       "                           기본항목 추가항목         작업일 옵션항목  \n",
       "0  촬영 200 ~ 500 컷 보정 15 컷 인화 없음       촬영인원 1 ~ 2    -  "
      ]
     },
     "execution_count": 294,
     "metadata": {},
     "output_type": "execute_result"
    }
   ],
   "source": [
    "forsnap"
   ]
  },
  {
   "cell_type": "code",
   "execution_count": null,
   "metadata": {},
   "outputs": [],
   "source": []
  }
 ],
 "metadata": {
  "kernelspec": {
   "display_name": "Python 3",
   "language": "python",
   "name": "python3"
  },
  "language_info": {
   "codemirror_mode": {
    "name": "ipython",
    "version": 3
   },
   "file_extension": ".py",
   "mimetype": "text/x-python",
   "name": "python",
   "nbconvert_exporter": "python",
   "pygments_lexer": "ipython3",
   "version": "3.7.7"
  }
 },
 "nbformat": 4,
 "nbformat_minor": 4
}
